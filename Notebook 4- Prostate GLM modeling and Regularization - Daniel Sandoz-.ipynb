{
 "cells": [
  {
   "cell_type": "code",
   "execution_count": 1,
   "metadata": {},
   "outputs": [],
   "source": [
    "## Notebook 4 - Prostate GLM modeling and Regularization\n",
    "# Daniel Sandoz"
   ]
  },
  {
   "cell_type": "code",
   "execution_count": 1,
   "metadata": {},
   "outputs": [],
   "source": [
    "%matplotlib inline \n",
    "import numpy as np\n",
    "import matplotlib.pyplot as plt\n",
    "import pandas as pd\n",
    "import urllib\n",
    "from sklearn import preprocessing\n",
    "from sklearn.model_selection  import train_test_split, cross_val_score, KFold\n",
    "from sklearn.model_selection import GridSearchCV\n",
    "from sklearn.metrics import accuracy_score, precision_score, recall_score, f1_score\n",
    "from sklearn.metrics import roc_curve, auc, confusion_matrix, classification_report\n",
    "from sklearn.preprocessing import StandardScaler, scale\n",
    "from sklearn.decomposition import PCA\n",
    "from scipy.io import arff\n",
    "from io import StringIO\n",
    "from sklearn.linear_model import LinearRegression\n",
    "from sklearn import datasets\n",
    "from sklearn.linear_model import Ridge\n",
    "from sklearn.metrics import mean_squared_error, explained_variance_score, r2_score, mean_absolute_error\n",
    "from sklearn.linear_model import Lasso\n",
    "from sklearn.linear_model import ElasticNet\n",
    "from sklearn.model_selection import GridSearchCV"
   ]
  },
  {
   "cell_type": "code",
   "execution_count": 3,
   "metadata": {
    "scrolled": true
   },
   "outputs": [
    {
     "data": {
      "text/html": [
       "<div>\n",
       "<style scoped>\n",
       "    .dataframe tbody tr th:only-of-type {\n",
       "        vertical-align: middle;\n",
       "    }\n",
       "\n",
       "    .dataframe tbody tr th {\n",
       "        vertical-align: top;\n",
       "    }\n",
       "\n",
       "    .dataframe thead th {\n",
       "        text-align: right;\n",
       "    }\n",
       "</style>\n",
       "<table border=\"1\" class=\"dataframe\">\n",
       "  <thead>\n",
       "    <tr style=\"text-align: right;\">\n",
       "      <th></th>\n",
       "      <th>lcavol</th>\n",
       "      <th>lweight</th>\n",
       "      <th>age</th>\n",
       "      <th>lbph</th>\n",
       "      <th>svi</th>\n",
       "      <th>lcp</th>\n",
       "      <th>gleason</th>\n",
       "      <th>pgg45</th>\n",
       "      <th>lpsa</th>\n",
       "    </tr>\n",
       "  </thead>\n",
       "  <tbody>\n",
       "    <tr>\n",
       "      <th>0</th>\n",
       "      <td>-0.579818</td>\n",
       "      <td>2.769459</td>\n",
       "      <td>50</td>\n",
       "      <td>-1.386294</td>\n",
       "      <td>0</td>\n",
       "      <td>-1.386294</td>\n",
       "      <td>6</td>\n",
       "      <td>0</td>\n",
       "      <td>-0.430783</td>\n",
       "    </tr>\n",
       "    <tr>\n",
       "      <th>1</th>\n",
       "      <td>-0.994252</td>\n",
       "      <td>3.319626</td>\n",
       "      <td>58</td>\n",
       "      <td>-1.386294</td>\n",
       "      <td>0</td>\n",
       "      <td>-1.386294</td>\n",
       "      <td>6</td>\n",
       "      <td>0</td>\n",
       "      <td>-0.162519</td>\n",
       "    </tr>\n",
       "    <tr>\n",
       "      <th>2</th>\n",
       "      <td>-0.510826</td>\n",
       "      <td>2.691243</td>\n",
       "      <td>74</td>\n",
       "      <td>-1.386294</td>\n",
       "      <td>0</td>\n",
       "      <td>-1.386294</td>\n",
       "      <td>7</td>\n",
       "      <td>20</td>\n",
       "      <td>-0.162519</td>\n",
       "    </tr>\n",
       "    <tr>\n",
       "      <th>3</th>\n",
       "      <td>-1.203973</td>\n",
       "      <td>3.282789</td>\n",
       "      <td>58</td>\n",
       "      <td>-1.386294</td>\n",
       "      <td>0</td>\n",
       "      <td>-1.386294</td>\n",
       "      <td>6</td>\n",
       "      <td>0</td>\n",
       "      <td>-0.162519</td>\n",
       "    </tr>\n",
       "    <tr>\n",
       "      <th>4</th>\n",
       "      <td>0.751416</td>\n",
       "      <td>3.432373</td>\n",
       "      <td>62</td>\n",
       "      <td>-1.386294</td>\n",
       "      <td>0</td>\n",
       "      <td>-1.386294</td>\n",
       "      <td>6</td>\n",
       "      <td>0</td>\n",
       "      <td>0.371564</td>\n",
       "    </tr>\n",
       "    <tr>\n",
       "      <th>5</th>\n",
       "      <td>-1.049822</td>\n",
       "      <td>3.228826</td>\n",
       "      <td>50</td>\n",
       "      <td>-1.386294</td>\n",
       "      <td>0</td>\n",
       "      <td>-1.386294</td>\n",
       "      <td>6</td>\n",
       "      <td>0</td>\n",
       "      <td>0.765468</td>\n",
       "    </tr>\n",
       "    <tr>\n",
       "      <th>6</th>\n",
       "      <td>0.737164</td>\n",
       "      <td>3.473518</td>\n",
       "      <td>64</td>\n",
       "      <td>0.615186</td>\n",
       "      <td>0</td>\n",
       "      <td>-1.386294</td>\n",
       "      <td>6</td>\n",
       "      <td>0</td>\n",
       "      <td>0.765468</td>\n",
       "    </tr>\n",
       "    <tr>\n",
       "      <th>7</th>\n",
       "      <td>0.693147</td>\n",
       "      <td>3.539509</td>\n",
       "      <td>58</td>\n",
       "      <td>1.536867</td>\n",
       "      <td>0</td>\n",
       "      <td>-1.386294</td>\n",
       "      <td>6</td>\n",
       "      <td>0</td>\n",
       "      <td>0.854415</td>\n",
       "    </tr>\n",
       "    <tr>\n",
       "      <th>8</th>\n",
       "      <td>-0.776529</td>\n",
       "      <td>3.539509</td>\n",
       "      <td>47</td>\n",
       "      <td>-1.386294</td>\n",
       "      <td>0</td>\n",
       "      <td>-1.386294</td>\n",
       "      <td>6</td>\n",
       "      <td>0</td>\n",
       "      <td>1.047319</td>\n",
       "    </tr>\n",
       "    <tr>\n",
       "      <th>9</th>\n",
       "      <td>0.223144</td>\n",
       "      <td>3.244544</td>\n",
       "      <td>63</td>\n",
       "      <td>-1.386294</td>\n",
       "      <td>0</td>\n",
       "      <td>-1.386294</td>\n",
       "      <td>6</td>\n",
       "      <td>0</td>\n",
       "      <td>1.047319</td>\n",
       "    </tr>\n",
       "  </tbody>\n",
       "</table>\n",
       "</div>"
      ],
      "text/plain": [
       "     lcavol   lweight  age      lbph  svi       lcp  gleason  pgg45      lpsa\n",
       "0 -0.579818  2.769459   50 -1.386294    0 -1.386294        6      0 -0.430783\n",
       "1 -0.994252  3.319626   58 -1.386294    0 -1.386294        6      0 -0.162519\n",
       "2 -0.510826  2.691243   74 -1.386294    0 -1.386294        7     20 -0.162519\n",
       "3 -1.203973  3.282789   58 -1.386294    0 -1.386294        6      0 -0.162519\n",
       "4  0.751416  3.432373   62 -1.386294    0 -1.386294        6      0  0.371564\n",
       "5 -1.049822  3.228826   50 -1.386294    0 -1.386294        6      0  0.765468\n",
       "6  0.737164  3.473518   64  0.615186    0 -1.386294        6      0  0.765468\n",
       "7  0.693147  3.539509   58  1.536867    0 -1.386294        6      0  0.854415\n",
       "8 -0.776529  3.539509   47 -1.386294    0 -1.386294        6      0  1.047319\n",
       "9  0.223144  3.244544   63 -1.386294    0 -1.386294        6      0  1.047319"
      ]
     },
     "execution_count": 3,
     "metadata": {},
     "output_type": "execute_result"
    }
   ],
   "source": [
    "prostate = pd.read_csv('C:/Users/Modeling/Documents/Predictive Models/PM Data/prostate.csv')\n",
    "prostate.shape\n",
    "prostate.head(10)\n"
   ]
  },
  {
   "cell_type": "code",
   "execution_count": 4,
   "metadata": {
    "scrolled": true
   },
   "outputs": [
    {
     "data": {
      "text/html": [
       "<div>\n",
       "<style scoped>\n",
       "    .dataframe tbody tr th:only-of-type {\n",
       "        vertical-align: middle;\n",
       "    }\n",
       "\n",
       "    .dataframe tbody tr th {\n",
       "        vertical-align: top;\n",
       "    }\n",
       "\n",
       "    .dataframe thead th {\n",
       "        text-align: right;\n",
       "    }\n",
       "</style>\n",
       "<table border=\"1\" class=\"dataframe\">\n",
       "  <thead>\n",
       "    <tr style=\"text-align: right;\">\n",
       "      <th></th>\n",
       "      <th>lcavol</th>\n",
       "      <th>lweight</th>\n",
       "      <th>age</th>\n",
       "      <th>lbph</th>\n",
       "      <th>svi</th>\n",
       "      <th>lcp</th>\n",
       "      <th>gleason</th>\n",
       "      <th>pgg45</th>\n",
       "      <th>lpsa</th>\n",
       "    </tr>\n",
       "  </thead>\n",
       "  <tbody>\n",
       "    <tr>\n",
       "      <th>0</th>\n",
       "      <td>-0.579818</td>\n",
       "      <td>2.769459</td>\n",
       "      <td>50</td>\n",
       "      <td>-1.386294</td>\n",
       "      <td>0</td>\n",
       "      <td>-1.386294</td>\n",
       "      <td>6</td>\n",
       "      <td>0</td>\n",
       "      <td>-0.430783</td>\n",
       "    </tr>\n",
       "    <tr>\n",
       "      <th>1</th>\n",
       "      <td>-0.994252</td>\n",
       "      <td>3.319626</td>\n",
       "      <td>58</td>\n",
       "      <td>-1.386294</td>\n",
       "      <td>0</td>\n",
       "      <td>-1.386294</td>\n",
       "      <td>6</td>\n",
       "      <td>0</td>\n",
       "      <td>-0.162519</td>\n",
       "    </tr>\n",
       "    <tr>\n",
       "      <th>2</th>\n",
       "      <td>-0.510826</td>\n",
       "      <td>2.691243</td>\n",
       "      <td>74</td>\n",
       "      <td>-1.386294</td>\n",
       "      <td>0</td>\n",
       "      <td>-1.386294</td>\n",
       "      <td>7</td>\n",
       "      <td>20</td>\n",
       "      <td>-0.162519</td>\n",
       "    </tr>\n",
       "    <tr>\n",
       "      <th>3</th>\n",
       "      <td>-1.203973</td>\n",
       "      <td>3.282789</td>\n",
       "      <td>58</td>\n",
       "      <td>-1.386294</td>\n",
       "      <td>0</td>\n",
       "      <td>-1.386294</td>\n",
       "      <td>6</td>\n",
       "      <td>0</td>\n",
       "      <td>-0.162519</td>\n",
       "    </tr>\n",
       "    <tr>\n",
       "      <th>4</th>\n",
       "      <td>0.751416</td>\n",
       "      <td>3.432373</td>\n",
       "      <td>62</td>\n",
       "      <td>-1.386294</td>\n",
       "      <td>0</td>\n",
       "      <td>-1.386294</td>\n",
       "      <td>6</td>\n",
       "      <td>0</td>\n",
       "      <td>0.371564</td>\n",
       "    </tr>\n",
       "    <tr>\n",
       "      <th>5</th>\n",
       "      <td>-1.049822</td>\n",
       "      <td>3.228826</td>\n",
       "      <td>50</td>\n",
       "      <td>-1.386294</td>\n",
       "      <td>0</td>\n",
       "      <td>-1.386294</td>\n",
       "      <td>6</td>\n",
       "      <td>0</td>\n",
       "      <td>0.765468</td>\n",
       "    </tr>\n",
       "    <tr>\n",
       "      <th>6</th>\n",
       "      <td>0.737164</td>\n",
       "      <td>3.473518</td>\n",
       "      <td>64</td>\n",
       "      <td>0.615186</td>\n",
       "      <td>0</td>\n",
       "      <td>-1.386294</td>\n",
       "      <td>6</td>\n",
       "      <td>0</td>\n",
       "      <td>0.765468</td>\n",
       "    </tr>\n",
       "    <tr>\n",
       "      <th>7</th>\n",
       "      <td>0.693147</td>\n",
       "      <td>3.539509</td>\n",
       "      <td>58</td>\n",
       "      <td>1.536867</td>\n",
       "      <td>0</td>\n",
       "      <td>-1.386294</td>\n",
       "      <td>6</td>\n",
       "      <td>0</td>\n",
       "      <td>0.854415</td>\n",
       "    </tr>\n",
       "    <tr>\n",
       "      <th>8</th>\n",
       "      <td>-0.776529</td>\n",
       "      <td>3.539509</td>\n",
       "      <td>47</td>\n",
       "      <td>-1.386294</td>\n",
       "      <td>0</td>\n",
       "      <td>-1.386294</td>\n",
       "      <td>6</td>\n",
       "      <td>0</td>\n",
       "      <td>1.047319</td>\n",
       "    </tr>\n",
       "    <tr>\n",
       "      <th>9</th>\n",
       "      <td>0.223144</td>\n",
       "      <td>3.244544</td>\n",
       "      <td>63</td>\n",
       "      <td>-1.386294</td>\n",
       "      <td>0</td>\n",
       "      <td>-1.386294</td>\n",
       "      <td>6</td>\n",
       "      <td>0</td>\n",
       "      <td>1.047319</td>\n",
       "    </tr>\n",
       "  </tbody>\n",
       "</table>\n",
       "</div>"
      ],
      "text/plain": [
       "     lcavol   lweight  age      lbph  svi       lcp  gleason  pgg45      lpsa\n",
       "0 -0.579818  2.769459   50 -1.386294    0 -1.386294        6      0 -0.430783\n",
       "1 -0.994252  3.319626   58 -1.386294    0 -1.386294        6      0 -0.162519\n",
       "2 -0.510826  2.691243   74 -1.386294    0 -1.386294        7     20 -0.162519\n",
       "3 -1.203973  3.282789   58 -1.386294    0 -1.386294        6      0 -0.162519\n",
       "4  0.751416  3.432373   62 -1.386294    0 -1.386294        6      0  0.371564\n",
       "5 -1.049822  3.228826   50 -1.386294    0 -1.386294        6      0  0.765468\n",
       "6  0.737164  3.473518   64  0.615186    0 -1.386294        6      0  0.765468\n",
       "7  0.693147  3.539509   58  1.536867    0 -1.386294        6      0  0.854415\n",
       "8 -0.776529  3.539509   47 -1.386294    0 -1.386294        6      0  1.047319\n",
       "9  0.223144  3.244544   63 -1.386294    0 -1.386294        6      0  1.047319"
      ]
     },
     "execution_count": 4,
     "metadata": {},
     "output_type": "execute_result"
    }
   ],
   "source": [
    "# check headers\n",
    "prostate.head(10)"
   ]
  },
  {
   "cell_type": "code",
   "execution_count": 5,
   "metadata": {},
   "outputs": [
    {
     "data": {
      "text/plain": [
       "Index(['lcavol', 'lweight', 'age', 'lbph', 'svi', 'lcp', 'gleason', 'pgg45',\n",
       "       'lpsa'],\n",
       "      dtype='object')"
      ]
     },
     "execution_count": 5,
     "metadata": {},
     "output_type": "execute_result"
    }
   ],
   "source": [
    "# check all column names\n",
    "prostate.columns"
   ]
  },
  {
   "cell_type": "code",
   "execution_count": 8,
   "metadata": {},
   "outputs": [],
   "source": [
    "# designating target variable\n",
    "targetName = 'lpsa'\n",
    "targetSeries = prostate[targetName]\n",
    "\n",
    "# removing target from current location and insert in column 0\n",
    "del prostate[targetName]\n",
    "prostate.insert(0, targetName, targetSeries)"
   ]
  },
  {
   "cell_type": "code",
   "execution_count": 9,
   "metadata": {
    "scrolled": true
   },
   "outputs": [
    {
     "data": {
      "text/html": [
       "<div>\n",
       "<style scoped>\n",
       "    .dataframe tbody tr th:only-of-type {\n",
       "        vertical-align: middle;\n",
       "    }\n",
       "\n",
       "    .dataframe tbody tr th {\n",
       "        vertical-align: top;\n",
       "    }\n",
       "\n",
       "    .dataframe thead th {\n",
       "        text-align: right;\n",
       "    }\n",
       "</style>\n",
       "<table border=\"1\" class=\"dataframe\">\n",
       "  <thead>\n",
       "    <tr style=\"text-align: right;\">\n",
       "      <th></th>\n",
       "      <th>lpsa</th>\n",
       "      <th>lcavol</th>\n",
       "      <th>lweight</th>\n",
       "      <th>age</th>\n",
       "      <th>lbph</th>\n",
       "      <th>svi</th>\n",
       "      <th>lcp</th>\n",
       "      <th>gleason</th>\n",
       "      <th>pgg45</th>\n",
       "    </tr>\n",
       "  </thead>\n",
       "  <tbody>\n",
       "    <tr>\n",
       "      <th>count</th>\n",
       "      <td>97.000000</td>\n",
       "      <td>97.000000</td>\n",
       "      <td>97.000000</td>\n",
       "      <td>97.000000</td>\n",
       "      <td>97.000000</td>\n",
       "      <td>97.000000</td>\n",
       "      <td>97.000000</td>\n",
       "      <td>97.000000</td>\n",
       "      <td>97.000000</td>\n",
       "    </tr>\n",
       "    <tr>\n",
       "      <th>mean</th>\n",
       "      <td>2.478387</td>\n",
       "      <td>1.350010</td>\n",
       "      <td>3.652686</td>\n",
       "      <td>63.865979</td>\n",
       "      <td>0.100356</td>\n",
       "      <td>0.216495</td>\n",
       "      <td>-0.179366</td>\n",
       "      <td>6.752577</td>\n",
       "      <td>24.381443</td>\n",
       "    </tr>\n",
       "    <tr>\n",
       "      <th>std</th>\n",
       "      <td>1.154329</td>\n",
       "      <td>1.178625</td>\n",
       "      <td>0.496631</td>\n",
       "      <td>7.445117</td>\n",
       "      <td>1.450807</td>\n",
       "      <td>0.413995</td>\n",
       "      <td>1.398250</td>\n",
       "      <td>0.722134</td>\n",
       "      <td>28.204035</td>\n",
       "    </tr>\n",
       "    <tr>\n",
       "      <th>min</th>\n",
       "      <td>-0.430783</td>\n",
       "      <td>-1.347074</td>\n",
       "      <td>2.374906</td>\n",
       "      <td>41.000000</td>\n",
       "      <td>-1.386294</td>\n",
       "      <td>0.000000</td>\n",
       "      <td>-1.386294</td>\n",
       "      <td>6.000000</td>\n",
       "      <td>0.000000</td>\n",
       "    </tr>\n",
       "    <tr>\n",
       "      <th>25%</th>\n",
       "      <td>1.731656</td>\n",
       "      <td>0.512824</td>\n",
       "      <td>3.375880</td>\n",
       "      <td>60.000000</td>\n",
       "      <td>-1.386294</td>\n",
       "      <td>0.000000</td>\n",
       "      <td>-1.386294</td>\n",
       "      <td>6.000000</td>\n",
       "      <td>0.000000</td>\n",
       "    </tr>\n",
       "    <tr>\n",
       "      <th>50%</th>\n",
       "      <td>2.591516</td>\n",
       "      <td>1.446919</td>\n",
       "      <td>3.623007</td>\n",
       "      <td>65.000000</td>\n",
       "      <td>0.300105</td>\n",
       "      <td>0.000000</td>\n",
       "      <td>-0.798508</td>\n",
       "      <td>7.000000</td>\n",
       "      <td>15.000000</td>\n",
       "    </tr>\n",
       "    <tr>\n",
       "      <th>75%</th>\n",
       "      <td>3.056357</td>\n",
       "      <td>2.127041</td>\n",
       "      <td>3.878466</td>\n",
       "      <td>68.000000</td>\n",
       "      <td>1.558145</td>\n",
       "      <td>0.000000</td>\n",
       "      <td>1.178655</td>\n",
       "      <td>7.000000</td>\n",
       "      <td>40.000000</td>\n",
       "    </tr>\n",
       "    <tr>\n",
       "      <th>max</th>\n",
       "      <td>5.582932</td>\n",
       "      <td>3.821004</td>\n",
       "      <td>6.107580</td>\n",
       "      <td>79.000000</td>\n",
       "      <td>2.326302</td>\n",
       "      <td>1.000000</td>\n",
       "      <td>2.904165</td>\n",
       "      <td>9.000000</td>\n",
       "      <td>100.000000</td>\n",
       "    </tr>\n",
       "  </tbody>\n",
       "</table>\n",
       "</div>"
      ],
      "text/plain": [
       "            lpsa     lcavol    lweight        age       lbph        svi  \\\n",
       "count  97.000000  97.000000  97.000000  97.000000  97.000000  97.000000   \n",
       "mean    2.478387   1.350010   3.652686  63.865979   0.100356   0.216495   \n",
       "std     1.154329   1.178625   0.496631   7.445117   1.450807   0.413995   \n",
       "min    -0.430783  -1.347074   2.374906  41.000000  -1.386294   0.000000   \n",
       "25%     1.731656   0.512824   3.375880  60.000000  -1.386294   0.000000   \n",
       "50%     2.591516   1.446919   3.623007  65.000000   0.300105   0.000000   \n",
       "75%     3.056357   2.127041   3.878466  68.000000   1.558145   0.000000   \n",
       "max     5.582932   3.821004   6.107580  79.000000   2.326302   1.000000   \n",
       "\n",
       "             lcp    gleason       pgg45  \n",
       "count  97.000000  97.000000   97.000000  \n",
       "mean   -0.179366   6.752577   24.381443  \n",
       "std     1.398250   0.722134   28.204035  \n",
       "min    -1.386294   6.000000    0.000000  \n",
       "25%    -1.386294   6.000000    0.000000  \n",
       "50%    -0.798508   7.000000   15.000000  \n",
       "75%     1.178655   7.000000   40.000000  \n",
       "max     2.904165   9.000000  100.000000  "
      ]
     },
     "execution_count": 9,
     "metadata": {},
     "output_type": "execute_result"
    }
   ],
   "source": [
    "prostate.describe()"
   ]
  },
  {
   "cell_type": "code",
   "execution_count": 10,
   "metadata": {},
   "outputs": [
    {
     "name": "stdout",
     "output_type": "stream",
     "text": [
      "<class 'pandas.core.frame.DataFrame'>\n",
      "RangeIndex: 97 entries, 0 to 96\n",
      "Data columns (total 9 columns):\n",
      " #   Column   Non-Null Count  Dtype  \n",
      "---  ------   --------------  -----  \n",
      " 0   lpsa     97 non-null     float64\n",
      " 1   lcavol   97 non-null     float64\n",
      " 2   lweight  97 non-null     float64\n",
      " 3   age      97 non-null     int64  \n",
      " 4   lbph     97 non-null     float64\n",
      " 5   svi      97 non-null     int64  \n",
      " 6   lcp      97 non-null     float64\n",
      " 7   gleason  97 non-null     int64  \n",
      " 8   pgg45    97 non-null     int64  \n",
      "dtypes: float64(5), int64(4)\n",
      "memory usage: 6.9 KB\n"
     ]
    }
   ],
   "source": [
    "prostate.info(128)"
   ]
  },
  {
   "cell_type": "code",
   "execution_count": 11,
   "metadata": {},
   "outputs": [],
   "source": [
    "# data transformation\n",
    "# copy data into df for manipulation\n",
    "df = prostate \n",
    "\n",
    "# perform data transformation\n",
    "for col in df.columns[1:]:\n",
    "\tattName = col\n",
    "\tdType = df[col].dtype\n",
    "\tmissing = pd.isnull(df[col]).any()\n",
    "\tuniqueCount = len(df[attName].value_counts(normalize=False))\n",
    "\t# discretize (create dummies)\n",
    "\tif dType == object:\n",
    "\t\tdf = pd.concat([df, pd.get_dummies(df[col], prefix=col)], axis=1)\n",
    "\t\tdel df[attName]\n",
    "\n",
    "# copy df back into data        \n",
    "prostate = df "
   ]
  },
  {
   "cell_type": "code",
   "execution_count": 12,
   "metadata": {},
   "outputs": [],
   "source": [
    "X = prostate.iloc[:,1:].values\n",
    "y = prostate.iloc[:,0].values"
   ]
  },
  {
   "cell_type": "code",
   "execution_count": 13,
   "metadata": {},
   "outputs": [
    {
     "data": {
      "text/plain": [
       "array([-0.43078292, -0.16251893, -0.16251893, -0.16251893,  0.37156356,\n",
       "        0.76546784,  0.76546784,  0.85441533,  1.04731899,  1.04731899,\n",
       "        1.2669476 ,  1.2669476 ,  1.2669476 ,  1.34807315,  1.39871688,\n",
       "        1.44691898,  1.47017585,  1.4929041 ,  1.55814462,  1.59938758,\n",
       "        1.63899671,  1.65822808,  1.69561561,  1.71379793,  1.73165555,\n",
       "        1.76644166,  1.80005827,  1.81645208,  1.84845481,  1.89461685,\n",
       "        1.92424865,  2.00821403,  2.00821403,  2.02154756,  2.04769284,\n",
       "        2.08567209,  2.15755932,  2.19165353,  2.21375388,  2.27726729,\n",
       "        2.29757255,  2.30757263,  2.32727771,  2.37490575,  2.52172062,\n",
       "        2.55334381,  2.56878813,  2.56878813,  2.59151638,  2.59151638,\n",
       "        2.65675691,  2.67759099,  2.68444034,  2.69124308,  2.7047113 ,\n",
       "        2.71800053,  2.78809291,  2.7942279 ,  2.8063861 ,  2.81241022,\n",
       "        2.84199817,  2.85359251,  2.85359251,  2.88200351,  2.88200351,\n",
       "        2.88759011,  2.92046979,  2.96269242,  2.96269242,  2.97297529,\n",
       "        3.01308091,  3.03735395,  3.0563569 ,  3.07500545,  3.27525616,\n",
       "        3.33754735,  3.39282913,  3.43559881,  3.45789273,  3.51303686,\n",
       "        3.51601306,  3.53076259,  3.56529839,  3.57094016,  3.58767695,\n",
       "        3.63098548,  3.68009095,  3.71235181,  3.98434367,  3.99360299,\n",
       "        4.02980604,  4.12955082,  4.38514676,  4.68444337,  5.14312448,\n",
       "        5.47750903,  5.58293224])"
      ]
     },
     "execution_count": 13,
     "metadata": {},
     "output_type": "execute_result"
    }
   ],
   "source": [
    "# confirm target variable corresponds to X\n",
    "X \n",
    "# confirm target variable corresponds to y\n",
    "y "
   ]
  },
  {
   "cell_type": "code",
   "execution_count": 16,
   "metadata": {},
   "outputs": [
    {
     "name": "stdout",
     "output_type": "stream",
     "text": [
      "(97,)\n",
      "(97, 8)\n"
     ]
    },
    {
     "name": "stderr",
     "output_type": "stream",
     "text": [
      "C:\\Users\\Modeling\\anaconda3\\lib\\site-packages\\ipykernel_launcher.py:3: UserWarning: Pandas doesn't allow columns to be created via a new attribute name - see https://pandas.pydata.org/pandas-docs/stable/indexing.html#attribute-access\n",
      "  This is separate from the ipykernel package so we can avoid doing imports until\n"
     ]
    }
   ],
   "source": [
    "# identifing df target and features before regression\n",
    "prostate.target=prostate['lpsa'] \n",
    "prostate.features=prostate.drop(['lpsa'], axis=1)                         \n",
    "print(prostate.target.shape)\n",
    "print(prostate.features.shape)"
   ]
  },
  {
   "cell_type": "code",
   "execution_count": 17,
   "metadata": {},
   "outputs": [
    {
     "name": "stdout",
     "output_type": "stream",
     "text": [
      "0   -0.430783\n",
      "1   -0.162519\n",
      "2   -0.162519\n",
      "3   -0.162519\n",
      "4    0.371564\n",
      "5    0.765468\n",
      "6    0.765468\n",
      "7    0.854415\n",
      "8    1.047319\n",
      "9    1.047319\n",
      "Name: lpsa, dtype: float64\n"
     ]
    }
   ],
   "source": [
    "# check target variable\n",
    "print(prostate.target.head(10))"
   ]
  },
  {
   "cell_type": "code",
   "execution_count": 18,
   "metadata": {
    "scrolled": true
   },
   "outputs": [
    {
     "name": "stdout",
     "output_type": "stream",
     "text": [
      "     lcavol   lweight  age      lbph  svi       lcp  gleason  pgg45\n",
      "0 -0.579818  2.769459   50 -1.386294    0 -1.386294        6      0\n",
      "1 -0.994252  3.319626   58 -1.386294    0 -1.386294        6      0\n",
      "2 -0.510826  2.691243   74 -1.386294    0 -1.386294        7     20\n",
      "3 -1.203973  3.282789   58 -1.386294    0 -1.386294        6      0\n",
      "4  0.751416  3.432373   62 -1.386294    0 -1.386294        6      0\n",
      "5 -1.049822  3.228826   50 -1.386294    0 -1.386294        6      0\n",
      "6  0.737164  3.473518   64  0.615186    0 -1.386294        6      0\n",
      "7  0.693147  3.539509   58  1.536867    0 -1.386294        6      0\n",
      "8 -0.776529  3.539509   47 -1.386294    0 -1.386294        6      0\n",
      "9  0.223144  3.244544   63 -1.386294    0 -1.386294        6      0\n"
     ]
    }
   ],
   "source": [
    "# check feature variable\n",
    "print(prostate.features.head(10))"
   ]
  },
  {
   "cell_type": "code",
   "execution_count": null,
   "metadata": {},
   "outputs": [],
   "source": [
    "## A: Build Models\n"
   ]
  },
  {
   "cell_type": "code",
   "execution_count": 21,
   "metadata": {},
   "outputs": [],
   "source": [
    "## Data Paritition 60/40\n",
    "features_train, features_test, target_train, target_test = train_test_split(\n",
    "    prostate.iloc[:,1:].values, prostate.iloc[:,0].values, test_size=0.40, random_state=0)"
   ]
  },
  {
   "cell_type": "code",
   "execution_count": null,
   "metadata": {},
   "outputs": [],
   "source": [
    "## Ridge Regression"
   ]
  },
  {
   "cell_type": "code",
   "execution_count": 22,
   "metadata": {},
   "outputs": [
    {
     "name": "stdout",
     "output_type": "stream",
     "text": [
      "Ridge(alpha=5, copy_X=True, fit_intercept=True, max_iter=None, normalize=False,\n",
      "      random_state=None, solver='auto', tol=0.001)\n"
     ]
    }
   ],
   "source": [
    "# Call up model \n",
    "rr_model = Ridge(alpha=5)\n",
    "# fit model\n",
    "prostate_rr = rr_model.fit(features_train, target_train)\n",
    "print(prostate_rr)"
   ]
  },
  {
   "cell_type": "code",
   "execution_count": 25,
   "metadata": {},
   "outputs": [
    {
     "name": "stdout",
     "output_type": "stream",
     "text": [
      "Coef: 1.0352981193974617 [ 0.61523155  0.29909425 -0.01992582  0.11147323  0.49755137 -0.12391697\n",
      "  0.06517176  0.00552918]\n",
      "MSE: 0.5302175529169737\n",
      "RMSE: 0.7281603895550579\n",
      "MAE: 0.5502737780783434\n",
      "R2 score: 0.6115001690368056\n"
     ]
    }
   ],
   "source": [
    "# model predictions\n",
    "expected_rr = target_test\n",
    "predicted_rr = prostate_rr.predict(features_test)\n",
    "\n",
    "# summarize fit\n",
    "print('Coef:',prostate_rr.intercept_,prostate_rr.coef_)\n",
    "print('MSE:',mean_squared_error(expected_rr,predicted_rr))\n",
    "print('RMSE:',np.sqrt(mean_squared_error(expected_rr,predicted_rr)))\n",
    "print('MAE:',mean_absolute_error(expected_rr,predicted_rr))\n",
    "print('R2 score:',r2_score(expected_rr,predicted_rr))"
   ]
  },
  {
   "cell_type": "code",
   "execution_count": null,
   "metadata": {},
   "outputs": [],
   "source": [
    "## Optimizing Ridge Regression"
   ]
  },
  {
   "cell_type": "code",
   "execution_count": 26,
   "metadata": {},
   "outputs": [
    {
     "name": "stdout",
     "output_type": "stream",
     "text": [
      "Best: {'alpha': 5}\n"
     ]
    }
   ],
   "source": [
    "# GridSearch 1\n",
    "\n",
    "# import package\n",
    "from sklearn.model_selection import GridSearchCV\n",
    "# choose range, starting big\n",
    "param_grid ={\"alpha\": [5,20,50,100]} \n",
    "\n",
    "# perform grid search\n",
    "grid_search_rr = GridSearchCV(rr_model, param_grid=param_grid,n_jobs=1,cv=10)\n",
    "grid_search_rr.fit(features_train,target_train)\n",
    "\n",
    "# print results\n",
    "print('Best:',grid_search_rr.best_params_)"
   ]
  },
  {
   "cell_type": "code",
   "execution_count": 27,
   "metadata": {},
   "outputs": [
    {
     "name": "stdout",
     "output_type": "stream",
     "text": [
      "Best: {'alpha': 3}\n"
     ]
    }
   ],
   "source": [
    "# GridSearch 2\n",
    "\n",
    "from sklearn.model_selection import GridSearchCV\n",
    "# choose range, getting smaller\n",
    "param_grid ={\"alpha\": [1,2,3,4,5,6,7,8]} \n",
    "\n",
    "# perform grid search\n",
    "grid_search_rr = GridSearchCV(rr_model, param_grid=param_grid,n_jobs=1,cv=10)\n",
    "grid_search_rr.fit(features_train,target_train)\n",
    "\n",
    "# print results\n",
    "print('Best:',grid_search_rr.best_params_)"
   ]
  },
  {
   "cell_type": "code",
   "execution_count": 28,
   "metadata": {},
   "outputs": [
    {
     "name": "stdout",
     "output_type": "stream",
     "text": [
      "Best: {'alpha': 3}\n"
     ]
    }
   ],
   "source": [
    "# GridSearch 3\n",
    "\n",
    "from sklearn.model_selection import GridSearchCV\n",
    "# choose range, best\n",
    "param_grid ={\"alpha\": [3,3.5,4,4.5,5]}\n",
    "\n",
    "# perform grid search\n",
    "grid_search_rr = GridSearchCV(rr_model, param_grid=param_grid,n_jobs=1,cv=10)\n",
    "grid_search_rr.fit(features_train,target_train)\n",
    "\n",
    "# print results\n",
    "print('Best:',grid_search_rr.best_params_)"
   ]
  },
  {
   "cell_type": "code",
   "execution_count": 29,
   "metadata": {},
   "outputs": [
    {
     "data": {
      "image/png": "[encoded data removed]",
      "text/plain": [
       "<Figure size 432x288 with 1 Axes>"
      ]
     },
     "metadata": {
      "needs_background": "light"
     },
     "output_type": "display_data"
    }
   ],
   "source": [
    "# analyzing coeffecients \n",
    "fig, ax = plt.subplots()\n",
    "plt.plot(prostate_rr.coef_, label='Ridge')\n",
    "plt.axhline(linewidth=3,color = 'r') # reference line\n",
    "legend = ax.legend(loc='lower right', shadow=True)\n",
    "axes = plt.gca()\n",
    "axes.set_ylim([-1,1])\n",
    "axes.set_xlim([0,100])\n",
    "plt.show()"
   ]
  },
  {
   "cell_type": "code",
   "execution_count": 30,
   "metadata": {},
   "outputs": [
    {
     "name": "stdout",
     "output_type": "stream",
     "text": [
      "CV Score for each K [ 0.61597313  0.29488933  0.47197015  0.43793307  0.68721875  0.36096198\n",
      "  0.59838538 -1.28748467  0.53717585  0.88944383]\n",
      "CV mean score:  0.360646678778909\n"
     ]
    }
   ],
   "source": [
    "# cross validation (for gigs)\n",
    "cv_scores_rr = cross_val_score(prostate_rr, features_train, target_train, cv=10,scoring='r2')\n",
    "print('CV Score for each K', cv_scores_rr)\n",
    "print('CV mean score: ', cv_scores_rr.mean())"
   ]
  },
  {
   "cell_type": "code",
   "execution_count": null,
   "metadata": {},
   "outputs": [],
   "source": [
    "## Interpretation"
   ]
  },
  {
   "cell_type": "code",
   "execution_count": null,
   "metadata": {},
   "outputs": [],
   "source": [
    "# The Optimized Ridge Regression Model returned high errors: MSE = .53;\n",
    "# RMSE = .73; MAE = .55. The model also returns back an R^2 of .61\n",
    "# meaning that this ridge regression model is able to explain 61% of \n",
    "# the variance (which is vairly high considering the amount of features\n",
    "# in the data set). The nature of Ridge Regression forces the model\n",
    "# to consider all features in the data set. GridSearch allowed for the optimization of\n",
    "# all features. This package narrowed the alpha down to five when considering\n",
    "# all features. This is alphas relates to the penalty that adds bias to \n",
    "# data that contains many vaiables (columns) and not many data points (rows)\n",
    "# while still considering accuracy.\n",
    "# When considering the cross validation score (.36), this model returns\n",
    "# a low accuracy when compared to out-of-sample data.\n",
    "# It may be possible to increase this accuracy with other models\n",
    "# that do not hold users to consider all features, possibly increasing accuracy\n",
    "# while employing a computationally cheaper approach."
   ]
  },
  {
   "cell_type": "code",
   "execution_count": null,
   "metadata": {},
   "outputs": [],
   "source": [
    "## Lasso Regression"
   ]
  },
  {
   "cell_type": "code",
   "execution_count": 31,
   "metadata": {},
   "outputs": [
    {
     "name": "stdout",
     "output_type": "stream",
     "text": [
      "Lasso(alpha=2.5, copy_X=True, fit_intercept=True, max_iter=1000,\n",
      "      normalize=False, positive=False, precompute=False, random_state=None,\n",
      "      selection='cyclic', tol=0.0001, warm_start=False)\n"
     ]
    }
   ],
   "source": [
    "# call model\n",
    "las_model = Lasso(alpha=2.5)\n",
    "\n",
    "# fit model\n",
    "prostate_las = las_model.fit(features_train,target_train)\n",
    "print(prostate_las)"
   ]
  },
  {
   "cell_type": "code",
   "execution_count": 32,
   "metadata": {},
   "outputs": [
    {
     "name": "stdout",
     "output_type": "stream",
     "text": [
      "Coef: 2.1411761880890308 [0.         0.         0.         0.         0.         0.\n",
      " 0.         0.01291531]\n",
      "MSE: 1.089662785237931\n",
      "RMSE: 1.0438691418170818\n",
      "MAE: 0.7909701213389255\n",
      "R2 score: 0.1521513729621563\n"
     ]
    }
   ],
   "source": [
    "# model predictions\n",
    "expected_las = target_train\n",
    "predicted_las = prostate_las.predict(features_train)\n",
    "\n",
    "# summarize fit\n",
    "print('Coef:',prostate_las.intercept_,prostate_las.coef_)\n",
    "print('MSE:',mean_squared_error(expected_las,predicted_las))\n",
    "print('RMSE:',np.sqrt(mean_squared_error(expected_las,predicted_las)))\n",
    "print('MAE:',mean_absolute_error(expected_las,predicted_las))\n",
    "print('R2 score:',r2_score(expected_las,predicted_las))"
   ]
  },
  {
   "cell_type": "code",
   "execution_count": 34,
   "metadata": {},
   "outputs": [
    {
     "name": "stdout",
     "output_type": "stream",
     "text": [
      "CV Score for each K [-0.03234172  0.14309725 -0.4436584  -0.35956378  0.10173952 -0.19244862\n",
      " -0.15293598 -0.55744     0.3477859  -0.76749814]\n",
      "CV mean score:  -0.1913263974712255\n"
     ]
    }
   ],
   "source": [
    "# print scores\n",
    "scores_las = cross_val_score(prostate_las, features_train, target_train, cv=10,scoring='r2')\n",
    "print('CV Score for each K', scores_las)\n",
    "print('CV mean score: ', scores_las.mean())"
   ]
  },
  {
   "cell_type": "code",
   "execution_count": 36,
   "metadata": {},
   "outputs": [
    {
     "data": {
      "image/png": "[encoded data removed]",
      "text/plain": [
       "<Figure size 432x288 with 1 Axes>"
      ]
     },
     "metadata": {
      "needs_background": "light"
     },
     "output_type": "display_data"
    }
   ],
   "source": [
    "# analyzing coeffecients \n",
    "fig, ax = plt.subplots()\n",
    "plt.plot(prostate_las.coef_, label='Lasso')\n",
    "plt.axhline(linewidth=3,color = 'r') # reference line\n",
    "legend = ax.legend(loc='lower right', shadow=True)\n",
    "axes = plt.gca()\n",
    "axes.set_ylim([-1,1])\n",
    "axes.set_xlim([0,100])\n",
    "plt.show()"
   ]
  },
  {
   "cell_type": "code",
   "execution_count": null,
   "metadata": {},
   "outputs": [],
   "source": [
    "## Interpretation "
   ]
  },
  {
   "cell_type": "code",
   "execution_count": null,
   "metadata": {},
   "outputs": [],
   "source": [
    "# The Optimized Lasso Regression Model returned high errors: \n",
    "# MSE = 1.1; RMSE = 1.0; MAE = .79. The model also retuned \n",
    "# an R^2 value of .15. The cross validation score is also very low (-.19).\n",
    "# This does not build a good case for model deployment."
   ]
  },
  {
   "cell_type": "code",
   "execution_count": null,
   "metadata": {},
   "outputs": [],
   "source": [
    "## Elastic-Net Regression"
   ]
  },
  {
   "cell_type": "code",
   "execution_count": 38,
   "metadata": {},
   "outputs": [
    {
     "name": "stdout",
     "output_type": "stream",
     "text": [
      "ElasticNet(alpha=0.01, copy_X=True, fit_intercept=True, l1_ratio=0.5,\n",
      "           max_iter=1000, normalize=False, positive=False, precompute=False,\n",
      "           random_state=None, selection='cyclic', tol=0.0001, warm_start=False)\n"
     ]
    }
   ],
   "source": [
    "# call model\n",
    "er_model = ElasticNet(alpha=.01)\n",
    "\n",
    "# fit model\n",
    "prostate_er = er_model.fit(features_train,target_train)\n",
    "print(prostate_er)"
   ]
  },
  {
   "cell_type": "code",
   "execution_count": 39,
   "metadata": {},
   "outputs": [
    {
     "name": "stdout",
     "output_type": "stream",
     "text": [
      "Coef: 0.847896207700306 [ 0.65634275  0.34054612 -0.0221488   0.12043914  0.81875445 -0.21561766\n",
      "  0.07026465  0.00507942]\n",
      "MSE: 0.5552706425727711\n",
      "RMSE: 0.7451648425501375\n",
      "MAE: 0.5700843996266978\n",
      "R2 score: 0.5931433246757756\n"
     ]
    }
   ],
   "source": [
    "# model predictions\n",
    "expected_er = target_test\n",
    "predicted_er = prostate_er.predict(features_test)\n",
    "\n",
    "# summarize fit\n",
    "print('Coef:',prostate_er.intercept_,prostate_er.coef_)\n",
    "print('MSE:',mean_squared_error(expected_er,predicted_er))\n",
    "print('RMSE:',np.sqrt(mean_squared_error(expected_er,predicted_er)))\n",
    "print('MAE:',mean_absolute_error(expected_er,predicted_er))\n",
    "print('R2 score:',r2_score(expected_er,predicted_er))"
   ]
  },
  {
   "cell_type": "code",
   "execution_count": 42,
   "metadata": {},
   "outputs": [
    {
     "data": {
      "image/png": "[encoded data removed]",
      "text/plain": [
       "<Figure size 432x288 with 1 Axes>"
      ]
     },
     "metadata": {
      "needs_background": "light"
     },
     "output_type": "display_data"
    }
   ],
   "source": [
    "# analyzing coefficients \n",
    "fig, ax = plt.subplots()\n",
    "plt.plot(prostate_er.coef_, label='Elastic-Net')\n",
    "plt.axhline(linewidth=3,color = 'r') # reference line\n",
    "legend = ax.legend(loc='lower right', shadow=True)\n",
    "axes = plt.gca()\n",
    "axes.set_ylim([-1,1])\n",
    "axes.set_xlim([0,100])\n",
    "plt.show()"
   ]
  },
  {
   "cell_type": "code",
   "execution_count": 43,
   "metadata": {},
   "outputs": [
    {
     "name": "stdout",
     "output_type": "stream",
     "text": [
      "Best: {'alpha': 0.01}\n"
     ]
    }
   ],
   "source": [
    "# GridSearch \n",
    "\n",
    "# choose range\n",
    "param_grid = {'alpha': [.01,.1,.25,.5,1,3]}\n",
    "\n",
    "# perform grid search\n",
    "grid_search_er = GridSearchCV(er_model, param_grid=param_grid,n_jobs=1,cv=10)\n",
    "grid_search_er.fit(features_train,target_train)\n",
    "\n",
    "# print results\n",
    "print('Best:',grid_search_er.best_params_)"
   ]
  },
  {
   "cell_type": "code",
   "execution_count": 45,
   "metadata": {},
   "outputs": [
    {
     "name": "stdout",
     "output_type": "stream",
     "text": [
      "CV Score for each K [ 0.59778231  0.23146873  0.46029402  0.36154438  0.68752252  0.39465887\n",
      "  0.63765822 -1.37030883  0.59113948  0.94499196]\n",
      "CV mean score:  0.35367516465949633\n"
     ]
    }
   ],
   "source": [
    "# cross validation\n",
    "cv_scores_er = cross_val_score(prostate_er, features_train, target_train, cv=10, scoring='r2')\n",
    "print('CV Score for each K', cv_scores_er)\n",
    "print('CV mean score: ', cv_scores_er.mean())"
   ]
  },
  {
   "cell_type": "code",
   "execution_count": null,
   "metadata": {},
   "outputs": [],
   "source": [
    "## Interpretation"
   ]
  },
  {
   "cell_type": "code",
   "execution_count": null,
   "metadata": {},
   "outputs": [],
   "source": [
    "# The Optimized Elastic-Net Regression Model also returned high errors:\n",
    "# MSE = .55; RMSE = .75; MAE = .57. This model also returned an R^2 value \n",
    "# of R^2 = .59 meaning that the Elastic-Net Regression Model was able to\n",
    "# explain ~ 60% of the variance found in the data which is considerably high\n",
    "# and compareable to that of the Ridge Regession Model. The cross validation \n",
    "# score is low at .35, which refers to the out of sample accuracy\n",
    "# of this model. "
   ]
  },
  {
   "cell_type": "code",
   "execution_count": null,
   "metadata": {},
   "outputs": [],
   "source": [
    "## Linear Regression"
   ]
  },
  {
   "cell_type": "code",
   "execution_count": null,
   "metadata": {},
   "outputs": [],
   "source": [
    "# To act as a baseline of comparison, I will be delpoying a basic linear \n",
    "# regression model. However basic, this model has potential to accurately \n",
    "# predict outcomes and can be easily interpreted. This will act as a \n",
    "# basic model used for compairson purposes."
   ]
  },
  {
   "cell_type": "code",
   "execution_count": 46,
   "metadata": {},
   "outputs": [
    {
     "name": "stdout",
     "output_type": "stream",
     "text": [
      "LinearRegression(copy_X=True, fit_intercept=True, n_jobs=None, normalize=True)\n"
     ]
    }
   ],
   "source": [
    "# call model\n",
    "lr_model = LinearRegression(normalize=True)\n",
    "prostate_lr = lr_model.fit(features_train, target_train)\n",
    "print(prostate_lr)"
   ]
  },
  {
   "cell_type": "code",
   "execution_count": 48,
   "metadata": {},
   "outputs": [
    {
     "name": "stdout",
     "output_type": "stream",
     "text": [
      "Coef: 0.6438983818366015 [ 0.66284602  0.36009851 -0.02321984  0.1238977   0.91804858 -0.24645699\n",
      "  0.09577418  0.00458384]\n",
      "MSE: 0.5699693949838746\n",
      "RMSE: 0.754963174587923\n",
      "MAE: 0.5804021026420941\n",
      "R2 score: 0.5823732873662455\n"
     ]
    }
   ],
   "source": [
    "# model predictions\n",
    "expected_lr = target_test\n",
    "predicted_lr = prostate_lr.predict(features_test)\n",
    "\n",
    "# summarize fit\n",
    "print('Coef:',prostate_lr.intercept_,prostate_lr.coef_)\n",
    "\n",
    "from sklearn.metrics import mean_squared_error\n",
    "from sklearn.metrics import mean_absolute_error\n",
    "from sklearn.metrics import r2_score\n",
    "\n",
    "print('MSE:',mean_squared_error(expected_lr,predicted_lr))\n",
    "print('RMSE:',np.sqrt(mean_squared_error(expected_lr,predicted_lr)))\n",
    "print('MAE:',mean_absolute_error(expected_lr,predicted_lr))\n",
    "print('R2 score:',r2_score(expected_lr,predicted_lr))"
   ]
  },
  {
   "cell_type": "code",
   "execution_count": 49,
   "metadata": {},
   "outputs": [
    {
     "name": "stdout",
     "output_type": "stream",
     "text": [
      "CV Score for each K [ 0.58906457  0.21035997  0.45349899  0.29844333  0.67629556  0.39452676\n",
      "  0.62908087 -1.37944244  0.56093865  0.94926304]\n",
      "CV mean score:  0.33820292984311073\n"
     ]
    }
   ],
   "source": [
    "#cross validation\n",
    "cv_scores_lr = cross_val_score(prostate_lr, features_train, target_train, cv=10,scoring='r2')\n",
    "print('CV Score for each K', cv_scores_lr)\n",
    "print('CV mean score: ', cv_scores_lr.mean())"
   ]
  },
  {
   "cell_type": "code",
   "execution_count": 50,
   "metadata": {},
   "outputs": [
    {
     "data": {
      "image/png": "[encoded data removed]",
      "text/plain": [
       "<Figure size 432x288 with 1 Axes>"
      ]
     },
     "metadata": {
      "needs_background": "light"
     },
     "output_type": "display_data"
    }
   ],
   "source": [
    "# analyzing coefficients\n",
    "fig, ax = plt.subplots()\n",
    "plt.plot(prostate_lr.coef_, label='Linear')\n",
    "plt.axhline(linewidth=3,color = 'r') # reference line\n",
    "legend = ax.legend(loc='lower right', shadow=True)\n",
    "axes = plt.gca()\n",
    "axes.set_ylim([-1,1])\n",
    "axes.set_xlim([0,100])\n",
    "plt.show()"
   ]
  },
  {
   "cell_type": "code",
   "execution_count": null,
   "metadata": {},
   "outputs": [],
   "source": [
    "# The Linear Regression model returned low errors: MSE = .57; \n",
    "# RMSE = .75; MAE = .58. The model returned an R^2 of \n",
    "# R^2 = .58. This means that 58% of the variance found in the data set\n",
    "# can be explained by the Linear Regression model. These high errors\n",
    "# can be cause by the small data set. This model also returns a very \n",
    "# low cross validation score\n",
    "# at .33 which shows low out-of-sample accuracy and\n",
    "# weakens its arguement for depolyment. "
   ]
  },
  {
   "cell_type": "code",
   "execution_count": null,
   "metadata": {},
   "outputs": [],
   "source": [
    "## Model Compairison "
   ]
  },
  {
   "cell_type": "code",
   "execution_count": 52,
   "metadata": {},
   "outputs": [
    {
     "data": {
      "image/png": "[encoded data removed]",
      "text/plain": [
       "<Figure size 432x288 with 1 Axes>"
      ]
     },
     "metadata": {
      "needs_background": "light"
     },
     "output_type": "display_data"
    }
   ],
   "source": [
    "fig, ax = plt.subplots()\n",
    "plt.plot(prostate_rr.coef_, label='Ridge')\n",
    "plt.plot(prostate_lr.coef_, label='Linear')\n",
    "plt.plot(prostate_las.coef_, label='Lasso')\n",
    "plt.plot(prostate_er.coef_, label='ElasticNet')\n",
    "plt.axhline(linewidth=1,color = 'r') # reference line\n",
    "legend = ax.legend(loc='lower right', shadow=True)\n",
    "axes = plt.gca()\n",
    "axes.set_ylim([-.25,.25])\n",
    "axes.set_xlim([0,100])\n",
    "plt.show()"
   ]
  },
  {
   "cell_type": "code",
   "execution_count": null,
   "metadata": {},
   "outputs": [],
   "source": [
    "## Interpretation Summary"
   ]
  },
  {
   "cell_type": "code",
   "execution_count": null,
   "metadata": {},
   "outputs": [],
   "source": [
    "# All models used here have both positive and negative components.\n",
    "# More data interpretation and investigation is needed in order to \n",
    "# justify deployment to manufacturing. To increase justification, it\n",
    "# is necessary to employ cross validation and GridSearch techniques on\n",
    "# more data. When choosing a regression model from above, it is difficult\n",
    "# to decide between Elastic-Net, Ridge, and Linear. They all have very\n",
    "# close R^2 and cross validation outputs. \n",
    "# When considering a data source with such few data points, its difficult\n",
    "# to find a model that can accuretly predict outcomes due to lack of \n",
    "# training data. \n",
    "# With this amount of data I think that the best model would be the Ridge\n",
    "# Regression optimized with three GridSearches. \n",
    "# With Ridge Regression having the most accurate variance measures and\n",
    "# cross validation score, also considering the nature of this small data set\n",
    "# therefore lack of necessary computing resources, I think that Ridge \n",
    "# Regression with GridSearch Optimization is the best of these models \n",
    "# to deploy.\n"
   ]
  }
 ],
 "metadata": {
  "kernelspec": {
   "display_name": "Python 3",
   "language": "python",
   "name": "python3"
  },
  "language_info": {
   "codemirror_mode": {
    "name": "ipython",
    "version": 3
   },
   "file_extension": ".py",
   "mimetype": "text/x-python",
   "name": "python",
   "nbconvert_exporter": "python",
   "pygments_lexer": "ipython3",
   "version": "3.7.6"
  }
 },
 "nbformat": 4,
 "nbformat_minor": 4
}
