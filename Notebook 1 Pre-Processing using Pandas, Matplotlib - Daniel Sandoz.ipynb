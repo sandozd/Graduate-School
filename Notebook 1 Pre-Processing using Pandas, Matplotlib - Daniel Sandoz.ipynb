{
 "cells": [
  {
   "cell_type": "code",
   "execution_count": null,
   "metadata": {},
   "outputs": [],
   "source": [
    "## Notebook 1 Pre-Processing using pandas, matplotlib, and sklearn\n",
    "\n",
    "# Daniel Sandoz"
   ]
  },
  {
   "cell_type": "code",
   "execution_count": 2,
   "metadata": {},
   "outputs": [],
   "source": [
    "# Importing Packages\n",
    "%matplotlib inline \n",
    "import numpy as np\n",
    "import matplotlib.pyplot as plt\n",
    "import pandas as pd\n",
    "from sklearn import preprocessing\n",
    "from sklearn.model_selection  import train_test_split, cross_val_score, KFold\n",
    "from sklearn.model_selection import GridSearchCV\n",
    "from sklearn.metrics import accuracy_score, precision_score, recall_score, f1_score\n",
    "from sklearn.metrics import roc_curve, auc, confusion_matrix, classification_report\n",
    "from sklearn import tree \n",
    "from sklearn.decomposition import PCA"
   ]
  },
  {
   "cell_type": "code",
   "execution_count": 6,
   "metadata": {},
   "outputs": [
    {
     "data": {
      "text/html": [
       "<div>\n",
       "<style scoped>\n",
       "    .dataframe tbody tr th:only-of-type {\n",
       "        vertical-align: middle;\n",
       "    }\n",
       "\n",
       "    .dataframe tbody tr th {\n",
       "        vertical-align: top;\n",
       "    }\n",
       "\n",
       "    .dataframe thead th {\n",
       "        text-align: right;\n",
       "    }\n",
       "</style>\n",
       "<table border=\"1\" class=\"dataframe\">\n",
       "  <thead>\n",
       "    <tr style=\"text-align: right;\">\n",
       "      <th></th>\n",
       "      <th>Name</th>\n",
       "      <th>Drive Type</th>\n",
       "      <th>Mileage (mpg)</th>\n",
       "      <th>Fuel Type</th>\n",
       "      <th>Capacity (gal)</th>\n",
       "      <th>Length (inches)</th>\n",
       "      <th>Wheel Base (inches)</th>\n",
       "      <th>Width (inches)</th>\n",
       "      <th>Turning Circle (feet)</th>\n",
       "      <th>Weight (lbs)</th>\n",
       "      <th>Door Top (inches)</th>\n",
       "      <th>Luggage (cu. ft.)</th>\n",
       "      <th>Front Shoulder (inches)</th>\n",
       "      <th>Front Leg Room (inches)</th>\n",
       "      <th>Front Head Room (inches)</th>\n",
       "      <th>Rear Shoulder (inches)</th>\n",
       "      <th>Rear Leg Room (inches)</th>\n",
       "      <th>Rear Head Room (inches)</th>\n",
       "    </tr>\n",
       "  </thead>\n",
       "  <tbody>\n",
       "    <tr>\n",
       "      <th>0</th>\n",
       "      <td>Acura Integra</td>\n",
       "      <td>Front</td>\n",
       "      <td>31.0</td>\n",
       "      <td>Regular</td>\n",
       "      <td>13.2</td>\n",
       "      <td>172.0</td>\n",
       "      <td>101.0</td>\n",
       "      <td>67.0</td>\n",
       "      <td>39.0</td>\n",
       "      <td>2,635</td>\n",
       "      <td>47.5</td>\n",
       "      <td>13.0</td>\n",
       "      <td>51.5</td>\n",
       "      <td>41.5</td>\n",
       "      <td>2.0</td>\n",
       "      <td>46.5</td>\n",
       "      <td>25.0</td>\n",
       "      <td>0.5</td>\n",
       "    </tr>\n",
       "    <tr>\n",
       "      <th>1</th>\n",
       "      <td>Acura TL</td>\n",
       "      <td>Front</td>\n",
       "      <td>22.0</td>\n",
       "      <td>Premium</td>\n",
       "      <td>17.1</td>\n",
       "      <td>193.0</td>\n",
       "      <td>108.0</td>\n",
       "      <td>70.0</td>\n",
       "      <td>40.0</td>\n",
       "      <td>3,460</td>\n",
       "      <td>50.0</td>\n",
       "      <td>14.0</td>\n",
       "      <td>56.0</td>\n",
       "      <td>40.5</td>\n",
       "      <td>2.5</td>\n",
       "      <td>55.0</td>\n",
       "      <td>27.0</td>\n",
       "      <td>2.0</td>\n",
       "    </tr>\n",
       "    <tr>\n",
       "      <th>2</th>\n",
       "      <td>Buick Century</td>\n",
       "      <td>Front</td>\n",
       "      <td>22.0</td>\n",
       "      <td>Regular</td>\n",
       "      <td>17.5</td>\n",
       "      <td>195.0</td>\n",
       "      <td>109.0</td>\n",
       "      <td>73.0</td>\n",
       "      <td>40.0</td>\n",
       "      <td>3,350</td>\n",
       "      <td>50.5</td>\n",
       "      <td>17.0</td>\n",
       "      <td>58.0</td>\n",
       "      <td>44.0</td>\n",
       "      <td>5.0</td>\n",
       "      <td>57.0</td>\n",
       "      <td>30.0</td>\n",
       "      <td>2.0</td>\n",
       "    </tr>\n",
       "    <tr>\n",
       "      <th>3</th>\n",
       "      <td>Buick LeSabre</td>\n",
       "      <td>Front</td>\n",
       "      <td>20.0</td>\n",
       "      <td>Regular</td>\n",
       "      <td>17.5</td>\n",
       "      <td>200.0</td>\n",
       "      <td>112.0</td>\n",
       "      <td>74.0</td>\n",
       "      <td>42.0</td>\n",
       "      <td>3,640</td>\n",
       "      <td>51.0</td>\n",
       "      <td>18.0</td>\n",
       "      <td>59.5</td>\n",
       "      <td>40.5</td>\n",
       "      <td>5.0</td>\n",
       "      <td>58.0</td>\n",
       "      <td>27.5</td>\n",
       "      <td>4.5</td>\n",
       "    </tr>\n",
       "    <tr>\n",
       "      <th>4</th>\n",
       "      <td>Buick Park Avenue</td>\n",
       "      <td>Front</td>\n",
       "      <td>21.0</td>\n",
       "      <td>Regular</td>\n",
       "      <td>18.5</td>\n",
       "      <td>207.0</td>\n",
       "      <td>114.0</td>\n",
       "      <td>75.0</td>\n",
       "      <td>43.0</td>\n",
       "      <td>3,880</td>\n",
       "      <td>51.0</td>\n",
       "      <td>19.0</td>\n",
       "      <td>59.5</td>\n",
       "      <td>42.5</td>\n",
       "      <td>6.0</td>\n",
       "      <td>58.5</td>\n",
       "      <td>31.5</td>\n",
       "      <td>3.0</td>\n",
       "    </tr>\n",
       "    <tr>\n",
       "      <th>...</th>\n",
       "      <td>...</td>\n",
       "      <td>...</td>\n",
       "      <td>...</td>\n",
       "      <td>...</td>\n",
       "      <td>...</td>\n",
       "      <td>...</td>\n",
       "      <td>...</td>\n",
       "      <td>...</td>\n",
       "      <td>...</td>\n",
       "      <td>...</td>\n",
       "      <td>...</td>\n",
       "      <td>...</td>\n",
       "      <td>...</td>\n",
       "      <td>...</td>\n",
       "      <td>...</td>\n",
       "      <td>...</td>\n",
       "      <td>...</td>\n",
       "      <td>...</td>\n",
       "    </tr>\n",
       "    <tr>\n",
       "      <th>185</th>\n",
       "      <td>NaN</td>\n",
       "      <td>NaN</td>\n",
       "      <td>NaN</td>\n",
       "      <td>NaN</td>\n",
       "      <td>NaN</td>\n",
       "      <td>NaN</td>\n",
       "      <td>NaN</td>\n",
       "      <td>NaN</td>\n",
       "      <td>NaN</td>\n",
       "      <td>NaN</td>\n",
       "      <td>NaN</td>\n",
       "      <td>NaN</td>\n",
       "      <td>NaN</td>\n",
       "      <td>NaN</td>\n",
       "      <td>NaN</td>\n",
       "      <td>NaN</td>\n",
       "      <td>NaN</td>\n",
       "      <td>NaN</td>\n",
       "    </tr>\n",
       "    <tr>\n",
       "      <th>186</th>\n",
       "      <td>NaN</td>\n",
       "      <td>NaN</td>\n",
       "      <td>NaN</td>\n",
       "      <td>NaN</td>\n",
       "      <td>NaN</td>\n",
       "      <td>NaN</td>\n",
       "      <td>NaN</td>\n",
       "      <td>NaN</td>\n",
       "      <td>NaN</td>\n",
       "      <td>NaN</td>\n",
       "      <td>NaN</td>\n",
       "      <td>NaN</td>\n",
       "      <td>NaN</td>\n",
       "      <td>NaN</td>\n",
       "      <td>NaN</td>\n",
       "      <td>NaN</td>\n",
       "      <td>NaN</td>\n",
       "      <td>NaN</td>\n",
       "    </tr>\n",
       "    <tr>\n",
       "      <th>187</th>\n",
       "      <td>NaN</td>\n",
       "      <td>NaN</td>\n",
       "      <td>NaN</td>\n",
       "      <td>NaN</td>\n",
       "      <td>NaN</td>\n",
       "      <td>NaN</td>\n",
       "      <td>NaN</td>\n",
       "      <td>NaN</td>\n",
       "      <td>NaN</td>\n",
       "      <td>NaN</td>\n",
       "      <td>NaN</td>\n",
       "      <td>NaN</td>\n",
       "      <td>NaN</td>\n",
       "      <td>NaN</td>\n",
       "      <td>NaN</td>\n",
       "      <td>NaN</td>\n",
       "      <td>NaN</td>\n",
       "      <td>NaN</td>\n",
       "    </tr>\n",
       "    <tr>\n",
       "      <th>188</th>\n",
       "      <td>NaN</td>\n",
       "      <td>NaN</td>\n",
       "      <td>NaN</td>\n",
       "      <td>NaN</td>\n",
       "      <td>NaN</td>\n",
       "      <td>NaN</td>\n",
       "      <td>NaN</td>\n",
       "      <td>NaN</td>\n",
       "      <td>NaN</td>\n",
       "      <td>NaN</td>\n",
       "      <td>NaN</td>\n",
       "      <td>NaN</td>\n",
       "      <td>NaN</td>\n",
       "      <td>NaN</td>\n",
       "      <td>NaN</td>\n",
       "      <td>NaN</td>\n",
       "      <td>NaN</td>\n",
       "      <td>NaN</td>\n",
       "    </tr>\n",
       "    <tr>\n",
       "      <th>189</th>\n",
       "      <td>NaN</td>\n",
       "      <td>NaN</td>\n",
       "      <td>NaN</td>\n",
       "      <td>NaN</td>\n",
       "      <td>NaN</td>\n",
       "      <td>NaN</td>\n",
       "      <td>NaN</td>\n",
       "      <td>NaN</td>\n",
       "      <td>NaN</td>\n",
       "      <td>NaN</td>\n",
       "      <td>NaN</td>\n",
       "      <td>NaN</td>\n",
       "      <td>NaN</td>\n",
       "      <td>NaN</td>\n",
       "      <td>NaN</td>\n",
       "      <td>NaN</td>\n",
       "      <td>NaN</td>\n",
       "      <td>NaN</td>\n",
       "    </tr>\n",
       "  </tbody>\n",
       "</table>\n",
       "<p>190 rows × 18 columns</p>\n",
       "</div>"
      ],
      "text/plain": [
       "                  Name Drive Type  Mileage (mpg) Fuel Type  Capacity (gal)  \\\n",
       "0        Acura Integra      Front           31.0   Regular            13.2   \n",
       "1             Acura TL      Front           22.0   Premium            17.1   \n",
       "2        Buick Century      Front           22.0   Regular            17.5   \n",
       "3        Buick LeSabre      Front           20.0   Regular            17.5   \n",
       "4    Buick Park Avenue      Front           21.0   Regular            18.5   \n",
       "..                 ...        ...            ...       ...             ...   \n",
       "185                NaN        NaN            NaN       NaN             NaN   \n",
       "186                NaN        NaN            NaN       NaN             NaN   \n",
       "187                NaN        NaN            NaN       NaN             NaN   \n",
       "188                NaN        NaN            NaN       NaN             NaN   \n",
       "189                NaN        NaN            NaN       NaN             NaN   \n",
       "\n",
       "     Length (inches)  Wheel Base (inches)  Width (inches)  \\\n",
       "0              172.0                101.0            67.0   \n",
       "1              193.0                108.0            70.0   \n",
       "2              195.0                109.0            73.0   \n",
       "3              200.0                112.0            74.0   \n",
       "4              207.0                114.0            75.0   \n",
       "..               ...                  ...             ...   \n",
       "185              NaN                  NaN             NaN   \n",
       "186              NaN                  NaN             NaN   \n",
       "187              NaN                  NaN             NaN   \n",
       "188              NaN                  NaN             NaN   \n",
       "189              NaN                  NaN             NaN   \n",
       "\n",
       "     Turning Circle (feet) Weight (lbs)  Door Top (inches)  Luggage (cu. ft.)  \\\n",
       "0                     39.0        2,635               47.5               13.0   \n",
       "1                     40.0        3,460               50.0               14.0   \n",
       "2                     40.0        3,350               50.5               17.0   \n",
       "3                     42.0        3,640               51.0               18.0   \n",
       "4                     43.0        3,880               51.0               19.0   \n",
       "..                     ...          ...                ...                ...   \n",
       "185                    NaN          NaN                NaN                NaN   \n",
       "186                    NaN          NaN                NaN                NaN   \n",
       "187                    NaN          NaN                NaN                NaN   \n",
       "188                    NaN          NaN                NaN                NaN   \n",
       "189                    NaN          NaN                NaN                NaN   \n",
       "\n",
       "     Front Shoulder (inches)  Front Leg Room (inches)  \\\n",
       "0                       51.5                     41.5   \n",
       "1                       56.0                     40.5   \n",
       "2                       58.0                     44.0   \n",
       "3                       59.5                     40.5   \n",
       "4                       59.5                     42.5   \n",
       "..                       ...                      ...   \n",
       "185                      NaN                      NaN   \n",
       "186                      NaN                      NaN   \n",
       "187                      NaN                      NaN   \n",
       "188                      NaN                      NaN   \n",
       "189                      NaN                      NaN   \n",
       "\n",
       "     Front Head Room (inches)  Rear Shoulder (inches)  Rear Leg Room (inches)  \\\n",
       "0                         2.0                    46.5                    25.0   \n",
       "1                         2.5                    55.0                    27.0   \n",
       "2                         5.0                    57.0                    30.0   \n",
       "3                         5.0                    58.0                    27.5   \n",
       "4                         6.0                    58.5                    31.5   \n",
       "..                        ...                     ...                     ...   \n",
       "185                       NaN                     NaN                     NaN   \n",
       "186                       NaN                     NaN                     NaN   \n",
       "187                       NaN                     NaN                     NaN   \n",
       "188                       NaN                     NaN                     NaN   \n",
       "189                       NaN                     NaN                     NaN   \n",
       "\n",
       "     Rear Head Room (inches)  \n",
       "0                        0.5  \n",
       "1                        2.0  \n",
       "2                        2.0  \n",
       "3                        4.5  \n",
       "4                        3.0  \n",
       "..                       ...  \n",
       "185                      NaN  \n",
       "186                      NaN  \n",
       "187                      NaN  \n",
       "188                      NaN  \n",
       "189                      NaN  \n",
       "\n",
       "[190 rows x 18 columns]"
      ]
     },
     "execution_count": 6,
     "metadata": {},
     "output_type": "execute_result"
    }
   ],
   "source": [
    "## 1. Read in auto.csv file\n",
    "auto=pd.read_csv(\"C:/Users/Modeling/Documents/Predictive Models/PM Data/AUTO.csv\", encoding='ISO-8859-1')\n",
    "auto"
   ]
  },
  {
   "cell_type": "code",
   "execution_count": null,
   "metadata": {},
   "outputs": [],
   "source": [
    "## 2. Replace Missing Values with Median Values\n"
   ]
  },
  {
   "cell_type": "code",
   "execution_count": 7,
   "metadata": {},
   "outputs": [],
   "source": [
    "#remove NaN rows\n",
    "auto=auto.drop(auto.index[106:190])"
   ]
  },
  {
   "cell_type": "code",
   "execution_count": 8,
   "metadata": {},
   "outputs": [
    {
     "data": {
      "text/plain": [
       "Mileage (mpg)                21.292453\n",
       "Capacity (gal)               17.883019\n",
       "Length (inches)             187.594340\n",
       "Wheel Base (inches)         107.632075\n",
       "Width (inches)               70.915094\n",
       "Turning Circle (feet)        39.849057\n",
       "Door Top (inches)            53.891509\n",
       "Luggage (cu. ft.)            25.230769\n",
       "Front Shoulder (inches)      56.471698\n",
       "Front Leg Room (inches)      41.254717\n",
       "Front Head Room (inches)      4.287736\n",
       "Rear Shoulder (inches)       54.745283\n",
       "Rear Leg Room (inches)       28.363208\n",
       "Rear Head Room (inches)       3.023585\n",
       "dtype: float64"
      ]
     },
     "execution_count": 8,
     "metadata": {},
     "output_type": "execute_result"
    }
   ],
   "source": [
    "auto.mean()"
   ]
  },
  {
   "cell_type": "code",
   "execution_count": 9,
   "metadata": {},
   "outputs": [],
   "source": [
    "# fill missing luggage with mean\n",
    "auto=auto.fillna(auto.mean())"
   ]
  },
  {
   "cell_type": "code",
   "execution_count": 10,
   "metadata": {},
   "outputs": [
    {
     "data": {
      "text/plain": [
       "Name                        0\n",
       "Drive Type                  0\n",
       "Mileage (mpg)               0\n",
       "Fuel Type                   0\n",
       "Capacity (gal)              0\n",
       "Length (inches)             0\n",
       "Wheel Base (inches)         0\n",
       "Width (inches)              0\n",
       "Turning Circle (feet)       0\n",
       "Weight (lbs)                0\n",
       "Door Top (inches)           0\n",
       "Luggage (cu. ft.)           0\n",
       "Front Shoulder (inches)     0\n",
       "Front Leg Room (inches)     0\n",
       "Front Head Room (inches)    0\n",
       "Rear Shoulder (inches)      0\n",
       "Rear Leg Room (inches)      0\n",
       "Rear Head Room (inches)     0\n",
       "dtype: int64"
      ]
     },
     "execution_count": 10,
     "metadata": {},
     "output_type": "execute_result"
    }
   ],
   "source": [
    "# double check missing values\n",
    "np.sum(auto.isnull())"
   ]
  },
  {
   "cell_type": "code",
   "execution_count": null,
   "metadata": {},
   "outputs": [],
   "source": [
    "## 3. General Characteristics\n"
   ]
  },
  {
   "cell_type": "code",
   "execution_count": 11,
   "metadata": {},
   "outputs": [
    {
     "data": {
      "text/plain": [
       "Name                         object\n",
       "Drive Type                   object\n",
       "Mileage (mpg)               float64\n",
       "Fuel Type                    object\n",
       "Capacity (gal)              float64\n",
       "Length (inches)             float64\n",
       "Wheel Base (inches)         float64\n",
       "Width (inches)              float64\n",
       "Turning Circle (feet)       float64\n",
       "Weight (lbs)                 object\n",
       "Door Top (inches)           float64\n",
       "Luggage (cu. ft.)           float64\n",
       "Front Shoulder (inches)     float64\n",
       "Front Leg Room (inches)     float64\n",
       "Front Head Room (inches)    float64\n",
       "Rear Shoulder (inches)      float64\n",
       "Rear Leg Room (inches)      float64\n",
       "Rear Head Room (inches)     float64\n",
       "dtype: object"
      ]
     },
     "execution_count": 11,
     "metadata": {},
     "output_type": "execute_result"
    }
   ],
   "source": [
    "#show variables by type\n",
    "auto.dtypes"
   ]
  },
  {
   "cell_type": "code",
   "execution_count": 12,
   "metadata": {},
   "outputs": [
    {
     "data": {
      "text/plain": [
       "Mileage (mpg)                21.292453\n",
       "Capacity (gal)               17.883019\n",
       "Length (inches)             187.594340\n",
       "Wheel Base (inches)         107.632075\n",
       "Width (inches)               70.915094\n",
       "Turning Circle (feet)        39.849057\n",
       "Door Top (inches)            53.891509\n",
       "Luggage (cu. ft.)            25.230769\n",
       "Front Shoulder (inches)      56.471698\n",
       "Front Leg Room (inches)      41.254717\n",
       "Front Head Room (inches)      4.287736\n",
       "Rear Shoulder (inches)       54.745283\n",
       "Rear Leg Room (inches)       28.363208\n",
       "Rear Head Room (inches)       3.023585\n",
       "dtype: float64"
      ]
     },
     "execution_count": 12,
     "metadata": {},
     "output_type": "execute_result"
    }
   ],
   "source": [
    "#individual mean of numerical variables\n",
    "auto.mean(numeric_only=True)"
   ]
  },
  {
   "cell_type": "code",
   "execution_count": 13,
   "metadata": {},
   "outputs": [
    {
     "data": {
      "text/plain": [
       "Mileage (mpg)                3.769469\n",
       "Capacity (gal)               3.425714\n",
       "Length (inches)             12.493639\n",
       "Wheel Base (inches)          7.014713\n",
       "Width (inches)               3.237041\n",
       "Turning Circle (feet)        2.797252\n",
       "Door Top (inches)            5.747465\n",
       "Luggage (cu. ft.)           18.191825\n",
       "Front Shoulder (inches)      3.041640\n",
       "Front Leg Room (inches)      1.021775\n",
       "Front Head Room (inches)     1.279784\n",
       "Rear Shoulder (inches)       7.110437\n",
       "Rear Leg Room (inches)       2.196895\n",
       "Rear Head Room (inches)      1.370405\n",
       "dtype: float64"
      ]
     },
     "execution_count": 13,
     "metadata": {},
     "output_type": "execute_result"
    }
   ],
   "source": [
    "#individual standard deviation of numeric variables\n",
    "auto.std(numeric_only=True)"
   ]
  },
  {
   "cell_type": "code",
   "execution_count": 14,
   "metadata": {},
   "outputs": [
    {
     "data": {
      "text/html": [
       "<div>\n",
       "<style scoped>\n",
       "    .dataframe tbody tr th:only-of-type {\n",
       "        vertical-align: middle;\n",
       "    }\n",
       "\n",
       "    .dataframe tbody tr th {\n",
       "        vertical-align: top;\n",
       "    }\n",
       "\n",
       "    .dataframe thead th {\n",
       "        text-align: right;\n",
       "    }\n",
       "</style>\n",
       "<table border=\"1\" class=\"dataframe\">\n",
       "  <thead>\n",
       "    <tr style=\"text-align: right;\">\n",
       "      <th></th>\n",
       "      <th>Mileage (mpg)</th>\n",
       "      <th>Capacity (gal)</th>\n",
       "      <th>Length (inches)</th>\n",
       "      <th>Wheel Base (inches)</th>\n",
       "      <th>Width (inches)</th>\n",
       "      <th>Turning Circle (feet)</th>\n",
       "      <th>Door Top (inches)</th>\n",
       "      <th>Luggage (cu. ft.)</th>\n",
       "      <th>Front Shoulder (inches)</th>\n",
       "      <th>Front Leg Room (inches)</th>\n",
       "      <th>Front Head Room (inches)</th>\n",
       "      <th>Rear Shoulder (inches)</th>\n",
       "      <th>Rear Leg Room (inches)</th>\n",
       "      <th>Rear Head Room (inches)</th>\n",
       "    </tr>\n",
       "  </thead>\n",
       "  <tbody>\n",
       "    <tr>\n",
       "      <th>count</th>\n",
       "      <td>106.000000</td>\n",
       "      <td>106.000000</td>\n",
       "      <td>106.000000</td>\n",
       "      <td>106.000000</td>\n",
       "      <td>106.000000</td>\n",
       "      <td>106.000000</td>\n",
       "      <td>106.000000</td>\n",
       "      <td>106.000000</td>\n",
       "      <td>106.000000</td>\n",
       "      <td>106.000000</td>\n",
       "      <td>106.000000</td>\n",
       "      <td>106.000000</td>\n",
       "      <td>106.000000</td>\n",
       "      <td>106.000000</td>\n",
       "    </tr>\n",
       "    <tr>\n",
       "      <th>mean</th>\n",
       "      <td>21.292453</td>\n",
       "      <td>17.883019</td>\n",
       "      <td>187.594340</td>\n",
       "      <td>107.632075</td>\n",
       "      <td>70.915094</td>\n",
       "      <td>39.849057</td>\n",
       "      <td>53.891509</td>\n",
       "      <td>25.230769</td>\n",
       "      <td>56.471698</td>\n",
       "      <td>41.254717</td>\n",
       "      <td>4.287736</td>\n",
       "      <td>54.745283</td>\n",
       "      <td>28.363208</td>\n",
       "      <td>3.023585</td>\n",
       "    </tr>\n",
       "    <tr>\n",
       "      <th>std</th>\n",
       "      <td>3.769469</td>\n",
       "      <td>3.425714</td>\n",
       "      <td>12.493639</td>\n",
       "      <td>7.014713</td>\n",
       "      <td>3.237041</td>\n",
       "      <td>2.797252</td>\n",
       "      <td>5.747465</td>\n",
       "      <td>18.191825</td>\n",
       "      <td>3.041640</td>\n",
       "      <td>1.021775</td>\n",
       "      <td>1.279784</td>\n",
       "      <td>7.110437</td>\n",
       "      <td>2.196895</td>\n",
       "      <td>1.370405</td>\n",
       "    </tr>\n",
       "    <tr>\n",
       "      <th>min</th>\n",
       "      <td>13.000000</td>\n",
       "      <td>12.100000</td>\n",
       "      <td>152.000000</td>\n",
       "      <td>93.000000</td>\n",
       "      <td>66.000000</td>\n",
       "      <td>34.000000</td>\n",
       "      <td>46.500000</td>\n",
       "      <td>10.000000</td>\n",
       "      <td>51.500000</td>\n",
       "      <td>39.000000</td>\n",
       "      <td>1.500000</td>\n",
       "      <td>6.500000</td>\n",
       "      <td>22.500000</td>\n",
       "      <td>0.000000</td>\n",
       "    </tr>\n",
       "    <tr>\n",
       "      <th>25%</th>\n",
       "      <td>19.000000</td>\n",
       "      <td>15.825000</td>\n",
       "      <td>178.000000</td>\n",
       "      <td>103.000000</td>\n",
       "      <td>68.000000</td>\n",
       "      <td>38.000000</td>\n",
       "      <td>50.000000</td>\n",
       "      <td>14.000000</td>\n",
       "      <td>54.000000</td>\n",
       "      <td>40.500000</td>\n",
       "      <td>3.500000</td>\n",
       "      <td>52.625000</td>\n",
       "      <td>27.000000</td>\n",
       "      <td>2.000000</td>\n",
       "    </tr>\n",
       "    <tr>\n",
       "      <th>50%</th>\n",
       "      <td>21.000000</td>\n",
       "      <td>17.400000</td>\n",
       "      <td>188.000000</td>\n",
       "      <td>107.000000</td>\n",
       "      <td>70.000000</td>\n",
       "      <td>40.000000</td>\n",
       "      <td>51.000000</td>\n",
       "      <td>16.000000</td>\n",
       "      <td>56.000000</td>\n",
       "      <td>41.000000</td>\n",
       "      <td>4.500000</td>\n",
       "      <td>56.000000</td>\n",
       "      <td>28.500000</td>\n",
       "      <td>3.000000</td>\n",
       "    </tr>\n",
       "    <tr>\n",
       "      <th>75%</th>\n",
       "      <td>23.000000</td>\n",
       "      <td>19.000000</td>\n",
       "      <td>195.000000</td>\n",
       "      <td>112.000000</td>\n",
       "      <td>73.000000</td>\n",
       "      <td>41.000000</td>\n",
       "      <td>60.000000</td>\n",
       "      <td>30.750000</td>\n",
       "      <td>58.500000</td>\n",
       "      <td>42.000000</td>\n",
       "      <td>5.000000</td>\n",
       "      <td>57.000000</td>\n",
       "      <td>30.000000</td>\n",
       "      <td>4.000000</td>\n",
       "    </tr>\n",
       "    <tr>\n",
       "      <th>max</th>\n",
       "      <td>31.000000</td>\n",
       "      <td>30.000000</td>\n",
       "      <td>226.000000</td>\n",
       "      <td>139.000000</td>\n",
       "      <td>80.000000</td>\n",
       "      <td>49.000000</td>\n",
       "      <td>70.500000</td>\n",
       "      <td>76.000000</td>\n",
       "      <td>63.500000</td>\n",
       "      <td>44.000000</td>\n",
       "      <td>8.000000</td>\n",
       "      <td>64.500000</td>\n",
       "      <td>34.000000</td>\n",
       "      <td>6.000000</td>\n",
       "    </tr>\n",
       "  </tbody>\n",
       "</table>\n",
       "</div>"
      ],
      "text/plain": [
       "       Mileage (mpg)  Capacity (gal)  Length (inches)  Wheel Base (inches)  \\\n",
       "count     106.000000      106.000000       106.000000           106.000000   \n",
       "mean       21.292453       17.883019       187.594340           107.632075   \n",
       "std         3.769469        3.425714        12.493639             7.014713   \n",
       "min        13.000000       12.100000       152.000000            93.000000   \n",
       "25%        19.000000       15.825000       178.000000           103.000000   \n",
       "50%        21.000000       17.400000       188.000000           107.000000   \n",
       "75%        23.000000       19.000000       195.000000           112.000000   \n",
       "max        31.000000       30.000000       226.000000           139.000000   \n",
       "\n",
       "       Width (inches)  Turning Circle (feet)  Door Top (inches)  \\\n",
       "count      106.000000             106.000000         106.000000   \n",
       "mean        70.915094              39.849057          53.891509   \n",
       "std          3.237041               2.797252           5.747465   \n",
       "min         66.000000              34.000000          46.500000   \n",
       "25%         68.000000              38.000000          50.000000   \n",
       "50%         70.000000              40.000000          51.000000   \n",
       "75%         73.000000              41.000000          60.000000   \n",
       "max         80.000000              49.000000          70.500000   \n",
       "\n",
       "       Luggage (cu. ft.)  Front Shoulder (inches)  Front Leg Room (inches)  \\\n",
       "count         106.000000               106.000000               106.000000   \n",
       "mean           25.230769                56.471698                41.254717   \n",
       "std            18.191825                 3.041640                 1.021775   \n",
       "min            10.000000                51.500000                39.000000   \n",
       "25%            14.000000                54.000000                40.500000   \n",
       "50%            16.000000                56.000000                41.000000   \n",
       "75%            30.750000                58.500000                42.000000   \n",
       "max            76.000000                63.500000                44.000000   \n",
       "\n",
       "       Front Head Room (inches)  Rear Shoulder (inches)  \\\n",
       "count                106.000000              106.000000   \n",
       "mean                   4.287736               54.745283   \n",
       "std                    1.279784                7.110437   \n",
       "min                    1.500000                6.500000   \n",
       "25%                    3.500000               52.625000   \n",
       "50%                    4.500000               56.000000   \n",
       "75%                    5.000000               57.000000   \n",
       "max                    8.000000               64.500000   \n",
       "\n",
       "       Rear Leg Room (inches)  Rear Head Room (inches)  \n",
       "count              106.000000               106.000000  \n",
       "mean                28.363208                 3.023585  \n",
       "std                  2.196895                 1.370405  \n",
       "min                 22.500000                 0.000000  \n",
       "25%                 27.000000                 2.000000  \n",
       "50%                 28.500000                 3.000000  \n",
       "75%                 30.000000                 4.000000  \n",
       "max                 34.000000                 6.000000  "
      ]
     },
     "execution_count": 14,
     "metadata": {},
     "output_type": "execute_result"
    }
   ],
   "source": [
    "#mean and standard deviations of numerical variables\n",
    "auto.describe()"
   ]
  },
  {
   "cell_type": "code",
   "execution_count": 15,
   "metadata": {},
   "outputs": [
    {
     "data": {
      "text/plain": [
       "Drive Type\n",
       "Front    81\n",
       "Rear     25\n",
       "dtype: int64"
      ]
     },
     "execution_count": 15,
     "metadata": {},
     "output_type": "execute_result"
    },
    {
     "data": {
      "image/png": "[encoded data removed]",
      "text/plain": [
       "<Figure size 432x288 with 1 Axes>"
      ]
     },
     "metadata": {
      "needs_background": "light"
     },
     "output_type": "display_data"
    }
   ],
   "source": [
    "#distribution of categorical variables, drive type\n",
    "auto['Drive Type'].value_counts().plot(kind='bar')\n",
    "auto.groupby('Drive Type').size()"
   ]
  },
  {
   "cell_type": "code",
   "execution_count": 16,
   "metadata": {},
   "outputs": [
    {
     "data": {
      "text/plain": [
       "Fuel Type\n",
       "Premium     19\n",
       "Regular     86\n",
       "Regular      1\n",
       "dtype: int64"
      ]
     },
     "execution_count": 16,
     "metadata": {},
     "output_type": "execute_result"
    },
    {
     "data": {
      "image/png": "[encoded data removed]",
      "text/plain": [
       "<Figure size 432x288 with 1 Axes>"
      ]
     },
     "metadata": {
      "needs_background": "light"
     },
     "output_type": "display_data"
    }
   ],
   "source": [
    "#distribution of categorical variables\n",
    "auto['Fuel Type'].value_counts().plot(kind='bar')\n",
    "auto.groupby('Fuel Type').size()"
   ]
  },
  {
   "cell_type": "code",
   "execution_count": 17,
   "metadata": {
    "scrolled": true
   },
   "outputs": [
    {
     "data": {
      "text/plain": [
       "<matplotlib.axes._subplots.AxesSubplot at 0x2080c0cdec8>"
      ]
     },
     "execution_count": 17,
     "metadata": {},
     "output_type": "execute_result"
    },
    {
     "data": {
      "image/png": "[encoded data removed]",
      "text/plain": [
       "<Figure size 432x288 with 1 Axes>"
      ]
     },
     "metadata": {
      "needs_background": "light"
     },
     "output_type": "display_data"
    }
   ],
   "source": [
    "#removal of extra \"Regular\"\n",
    "auto['Fuel Type'] = auto['Fuel Type'].str.strip()\n",
    "auto['Fuel Type'].value_counts().plot(kind='bar')"
   ]
  },
  {
   "cell_type": "code",
   "execution_count": null,
   "metadata": {},
   "outputs": [],
   "source": [
    "## 4. Z-Score Normalization\n"
   ]
  },
  {
   "cell_type": "code",
   "execution_count": 18,
   "metadata": {},
   "outputs": [],
   "source": [
    "# new df\n",
    "auto_z=auto"
   ]
  },
  {
   "cell_type": "code",
   "execution_count": 19,
   "metadata": {},
   "outputs": [
    {
     "data": {
      "text/plain": [
       "Name                         object\n",
       "Drive Type                   object\n",
       "Mileage (mpg)               float64\n",
       "Fuel Type                    object\n",
       "Capacity (gal)              float64\n",
       "Length (inches)             float64\n",
       "Wheel Base (inches)         float64\n",
       "Width (inches)              float64\n",
       "Turning Circle (feet)       float64\n",
       "Weight (lbs)                 object\n",
       "Door Top (inches)           float64\n",
       "Luggage (cu. ft.)           float64\n",
       "Front Shoulder (inches)     float64\n",
       "Front Leg Room (inches)     float64\n",
       "Front Head Room (inches)    float64\n",
       "Rear Shoulder (inches)      float64\n",
       "Rear Leg Room (inches)      float64\n",
       "Rear Head Room (inches)     float64\n",
       "dtype: object"
      ]
     },
     "execution_count": 19,
     "metadata": {},
     "output_type": "execute_result"
    }
   ],
   "source": [
    "# show weight type\n",
    "auto_z.dtypes"
   ]
  },
  {
   "cell_type": "code",
   "execution_count": 20,
   "metadata": {},
   "outputs": [
    {
     "data": {
      "text/plain": [
       "0    2,635\n",
       "1    3,460\n",
       "2    3,350\n",
       "3    3,640\n",
       "4    3,880\n",
       "5    3,325\n",
       "6    2,795\n",
       "7    3,495\n",
       "8    3,350\n",
       "9    3,075\n",
       "Name: Weight (lbs), dtype: object"
      ]
     },
     "execution_count": 20,
     "metadata": {},
     "output_type": "execute_result"
    }
   ],
   "source": [
    "#dtype for weight is object\n",
    "auto_object = auto_z['Weight (lbs)']\n",
    "auto_object.head(10)"
   ]
  },
  {
   "cell_type": "code",
   "execution_count": 21,
   "metadata": {},
   "outputs": [
    {
     "data": {
      "text/plain": [
       "0    2635.0\n",
       "1    3460.0\n",
       "2    3350.0\n",
       "3    3640.0\n",
       "4    3880.0\n",
       "5    3325.0\n",
       "6    2795.0\n",
       "7    3495.0\n",
       "8    3350.0\n",
       "9    3075.0\n",
       "Name: Weight (lbs), dtype: float64"
      ]
     },
     "execution_count": 21,
     "metadata": {},
     "output_type": "execute_result"
    }
   ],
   "source": [
    "#convert dtype weight (object) to dtype weight (float)\n",
    "auto_float = auto_object.str.replace(',','').astype(float)\n",
    "auto_float.head(10)"
   ]
  },
  {
   "cell_type": "code",
   "execution_count": 22,
   "metadata": {},
   "outputs": [
    {
     "data": {
      "text/html": [
       "<div>\n",
       "<style scoped>\n",
       "    .dataframe tbody tr th:only-of-type {\n",
       "        vertical-align: middle;\n",
       "    }\n",
       "\n",
       "    .dataframe tbody tr th {\n",
       "        vertical-align: top;\n",
       "    }\n",
       "\n",
       "    .dataframe thead th {\n",
       "        text-align: right;\n",
       "    }\n",
       "</style>\n",
       "<table border=\"1\" class=\"dataframe\">\n",
       "  <thead>\n",
       "    <tr style=\"text-align: right;\">\n",
       "      <th></th>\n",
       "      <th>Weight (lbs)</th>\n",
       "    </tr>\n",
       "  </thead>\n",
       "  <tbody>\n",
       "    <tr>\n",
       "      <th>0</th>\n",
       "      <td>-1.369178</td>\n",
       "    </tr>\n",
       "    <tr>\n",
       "      <th>1</th>\n",
       "      <td>-0.066795</td>\n",
       "    </tr>\n",
       "    <tr>\n",
       "      <th>2</th>\n",
       "      <td>-0.240446</td>\n",
       "    </tr>\n",
       "    <tr>\n",
       "      <th>3</th>\n",
       "      <td>0.217362</td>\n",
       "    </tr>\n",
       "    <tr>\n",
       "      <th>4</th>\n",
       "      <td>0.596237</td>\n",
       "    </tr>\n",
       "    <tr>\n",
       "      <th>5</th>\n",
       "      <td>-0.279912</td>\n",
       "    </tr>\n",
       "    <tr>\n",
       "      <th>6</th>\n",
       "      <td>-1.116595</td>\n",
       "    </tr>\n",
       "    <tr>\n",
       "      <th>7</th>\n",
       "      <td>-0.011542</td>\n",
       "    </tr>\n",
       "    <tr>\n",
       "      <th>8</th>\n",
       "      <td>-0.240446</td>\n",
       "    </tr>\n",
       "    <tr>\n",
       "      <th>9</th>\n",
       "      <td>-0.674574</td>\n",
       "    </tr>\n",
       "  </tbody>\n",
       "</table>\n",
       "</div>"
      ],
      "text/plain": [
       "   Weight (lbs)\n",
       "0     -1.369178\n",
       "1     -0.066795\n",
       "2     -0.240446\n",
       "3      0.217362\n",
       "4      0.596237\n",
       "5     -0.279912\n",
       "6     -1.116595\n",
       "7     -0.011542\n",
       "8     -0.240446\n",
       "9     -0.674574"
      ]
     },
     "execution_count": 22,
     "metadata": {},
     "output_type": "execute_result"
    }
   ],
   "source": [
    "#normalization\n",
    "#transform to Z-Scores manually\n",
    "weight_z = pd.DataFrame((auto_float-auto_float.mean())/auto_float.std())\n",
    "weight_z.head(10)"
   ]
  },
  {
   "cell_type": "code",
   "execution_count": 23,
   "metadata": {},
   "outputs": [
    {
     "data": {
      "text/html": [
       "<div>\n",
       "<style scoped>\n",
       "    .dataframe tbody tr th:only-of-type {\n",
       "        vertical-align: middle;\n",
       "    }\n",
       "\n",
       "    .dataframe tbody tr th {\n",
       "        vertical-align: top;\n",
       "    }\n",
       "\n",
       "    .dataframe thead th {\n",
       "        text-align: right;\n",
       "    }\n",
       "</style>\n",
       "<table border=\"1\" class=\"dataframe\">\n",
       "  <thead>\n",
       "    <tr style=\"text-align: right;\">\n",
       "      <th></th>\n",
       "      <th>Weight (lbs)</th>\n",
       "      <th>Weight (Z)</th>\n",
       "    </tr>\n",
       "  </thead>\n",
       "  <tbody>\n",
       "    <tr>\n",
       "      <th>0</th>\n",
       "      <td>2635.0</td>\n",
       "      <td>-1.369178</td>\n",
       "    </tr>\n",
       "    <tr>\n",
       "      <th>1</th>\n",
       "      <td>3460.0</td>\n",
       "      <td>-0.066795</td>\n",
       "    </tr>\n",
       "    <tr>\n",
       "      <th>2</th>\n",
       "      <td>3350.0</td>\n",
       "      <td>-0.240446</td>\n",
       "    </tr>\n",
       "    <tr>\n",
       "      <th>3</th>\n",
       "      <td>3640.0</td>\n",
       "      <td>0.217362</td>\n",
       "    </tr>\n",
       "    <tr>\n",
       "      <th>4</th>\n",
       "      <td>3880.0</td>\n",
       "      <td>0.596237</td>\n",
       "    </tr>\n",
       "    <tr>\n",
       "      <th>5</th>\n",
       "      <td>3325.0</td>\n",
       "      <td>-0.279912</td>\n",
       "    </tr>\n",
       "    <tr>\n",
       "      <th>6</th>\n",
       "      <td>2795.0</td>\n",
       "      <td>-1.116595</td>\n",
       "    </tr>\n",
       "    <tr>\n",
       "      <th>7</th>\n",
       "      <td>3495.0</td>\n",
       "      <td>-0.011542</td>\n",
       "    </tr>\n",
       "    <tr>\n",
       "      <th>8</th>\n",
       "      <td>3350.0</td>\n",
       "      <td>-0.240446</td>\n",
       "    </tr>\n",
       "    <tr>\n",
       "      <th>9</th>\n",
       "      <td>3075.0</td>\n",
       "      <td>-0.674574</td>\n",
       "    </tr>\n",
       "  </tbody>\n",
       "</table>\n",
       "</div>"
      ],
      "text/plain": [
       "   Weight (lbs)  Weight (Z)\n",
       "0        2635.0   -1.369178\n",
       "1        3460.0   -0.066795\n",
       "2        3350.0   -0.240446\n",
       "3        3640.0    0.217362\n",
       "4        3880.0    0.596237\n",
       "5        3325.0   -0.279912\n",
       "6        2795.0   -1.116595\n",
       "7        3495.0   -0.011542\n",
       "8        3350.0   -0.240446\n",
       "9        3075.0   -0.674574"
      ]
     },
     "execution_count": 23,
     "metadata": {},
     "output_type": "execute_result"
    }
   ],
   "source": [
    "#weights side by side with z (wsbs)\n",
    "wsbs = pd.concat([auto_float,weight_z], axis=1)\n",
    "wsbs.columns = ['Weight (lbs)','Weight (Z)']\n",
    "wsbs.head(10)"
   ]
  },
  {
   "cell_type": "code",
   "execution_count": null,
   "metadata": {},
   "outputs": [],
   "source": [
    "## 5. Convert Categorical Variables into Dummies\n"
   ]
  },
  {
   "cell_type": "code",
   "execution_count": 24,
   "metadata": {},
   "outputs": [],
   "source": [
    "for col in auto.columns[1:]:\n",
    "    attName = col\n",
    "    dType = auto[col].dtype\n",
    "    missing = pd.isnull(auto[col]).any()\n",
    "    uniqueCount = len(auto[attName].value_counts(normalize=False))\n",
    "    if dType == object:\n",
    "        ap = pd.concat([auto, pd.get_dummies(auto[col], prefix=col)], axis=1)\n",
    "        del auto[attName]"
   ]
  },
  {
   "cell_type": "code",
   "execution_count": 25,
   "metadata": {},
   "outputs": [
    {
     "name": "stdout",
     "output_type": "stream",
     "text": [
      "(106, 15)\n"
     ]
    },
    {
     "data": {
      "text/html": [
       "<div>\n",
       "<style scoped>\n",
       "    .dataframe tbody tr th:only-of-type {\n",
       "        vertical-align: middle;\n",
       "    }\n",
       "\n",
       "    .dataframe tbody tr th {\n",
       "        vertical-align: top;\n",
       "    }\n",
       "\n",
       "    .dataframe thead th {\n",
       "        text-align: right;\n",
       "    }\n",
       "</style>\n",
       "<table border=\"1\" class=\"dataframe\">\n",
       "  <thead>\n",
       "    <tr style=\"text-align: right;\">\n",
       "      <th></th>\n",
       "      <th>Name</th>\n",
       "      <th>Mileage (mpg)</th>\n",
       "      <th>Capacity (gal)</th>\n",
       "      <th>Length (inches)</th>\n",
       "      <th>Wheel Base (inches)</th>\n",
       "      <th>Width (inches)</th>\n",
       "      <th>Turning Circle (feet)</th>\n",
       "      <th>Door Top (inches)</th>\n",
       "      <th>Luggage (cu. ft.)</th>\n",
       "      <th>Front Shoulder (inches)</th>\n",
       "      <th>Front Leg Room (inches)</th>\n",
       "      <th>Front Head Room (inches)</th>\n",
       "      <th>Rear Shoulder (inches)</th>\n",
       "      <th>Rear Leg Room (inches)</th>\n",
       "      <th>Rear Head Room (inches)</th>\n",
       "    </tr>\n",
       "  </thead>\n",
       "  <tbody>\n",
       "    <tr>\n",
       "      <th>0</th>\n",
       "      <td>Acura Integra</td>\n",
       "      <td>31.0</td>\n",
       "      <td>13.2</td>\n",
       "      <td>172.0</td>\n",
       "      <td>101.0</td>\n",
       "      <td>67.0</td>\n",
       "      <td>39.0</td>\n",
       "      <td>47.5</td>\n",
       "      <td>13.0</td>\n",
       "      <td>51.5</td>\n",
       "      <td>41.5</td>\n",
       "      <td>2.0</td>\n",
       "      <td>46.5</td>\n",
       "      <td>25.0</td>\n",
       "      <td>0.5</td>\n",
       "    </tr>\n",
       "    <tr>\n",
       "      <th>1</th>\n",
       "      <td>Acura TL</td>\n",
       "      <td>22.0</td>\n",
       "      <td>17.1</td>\n",
       "      <td>193.0</td>\n",
       "      <td>108.0</td>\n",
       "      <td>70.0</td>\n",
       "      <td>40.0</td>\n",
       "      <td>50.0</td>\n",
       "      <td>14.0</td>\n",
       "      <td>56.0</td>\n",
       "      <td>40.5</td>\n",
       "      <td>2.5</td>\n",
       "      <td>55.0</td>\n",
       "      <td>27.0</td>\n",
       "      <td>2.0</td>\n",
       "    </tr>\n",
       "    <tr>\n",
       "      <th>2</th>\n",
       "      <td>Buick Century</td>\n",
       "      <td>22.0</td>\n",
       "      <td>17.5</td>\n",
       "      <td>195.0</td>\n",
       "      <td>109.0</td>\n",
       "      <td>73.0</td>\n",
       "      <td>40.0</td>\n",
       "      <td>50.5</td>\n",
       "      <td>17.0</td>\n",
       "      <td>58.0</td>\n",
       "      <td>44.0</td>\n",
       "      <td>5.0</td>\n",
       "      <td>57.0</td>\n",
       "      <td>30.0</td>\n",
       "      <td>2.0</td>\n",
       "    </tr>\n",
       "    <tr>\n",
       "      <th>3</th>\n",
       "      <td>Buick LeSabre</td>\n",
       "      <td>20.0</td>\n",
       "      <td>17.5</td>\n",
       "      <td>200.0</td>\n",
       "      <td>112.0</td>\n",
       "      <td>74.0</td>\n",
       "      <td>42.0</td>\n",
       "      <td>51.0</td>\n",
       "      <td>18.0</td>\n",
       "      <td>59.5</td>\n",
       "      <td>40.5</td>\n",
       "      <td>5.0</td>\n",
       "      <td>58.0</td>\n",
       "      <td>27.5</td>\n",
       "      <td>4.5</td>\n",
       "    </tr>\n",
       "    <tr>\n",
       "      <th>4</th>\n",
       "      <td>Buick Park Avenue</td>\n",
       "      <td>21.0</td>\n",
       "      <td>18.5</td>\n",
       "      <td>207.0</td>\n",
       "      <td>114.0</td>\n",
       "      <td>75.0</td>\n",
       "      <td>43.0</td>\n",
       "      <td>51.0</td>\n",
       "      <td>19.0</td>\n",
       "      <td>59.5</td>\n",
       "      <td>42.5</td>\n",
       "      <td>6.0</td>\n",
       "      <td>58.5</td>\n",
       "      <td>31.5</td>\n",
       "      <td>3.0</td>\n",
       "    </tr>\n",
       "  </tbody>\n",
       "</table>\n",
       "</div>"
      ],
      "text/plain": [
       "                Name  Mileage (mpg)  Capacity (gal)  Length (inches)  \\\n",
       "0      Acura Integra           31.0            13.2            172.0   \n",
       "1           Acura TL           22.0            17.1            193.0   \n",
       "2      Buick Century           22.0            17.5            195.0   \n",
       "3      Buick LeSabre           20.0            17.5            200.0   \n",
       "4  Buick Park Avenue           21.0            18.5            207.0   \n",
       "\n",
       "   Wheel Base (inches)  Width (inches)  Turning Circle (feet)  \\\n",
       "0                101.0            67.0                   39.0   \n",
       "1                108.0            70.0                   40.0   \n",
       "2                109.0            73.0                   40.0   \n",
       "3                112.0            74.0                   42.0   \n",
       "4                114.0            75.0                   43.0   \n",
       "\n",
       "   Door Top (inches)  Luggage (cu. ft.)  Front Shoulder (inches)  \\\n",
       "0               47.5               13.0                     51.5   \n",
       "1               50.0               14.0                     56.0   \n",
       "2               50.5               17.0                     58.0   \n",
       "3               51.0               18.0                     59.5   \n",
       "4               51.0               19.0                     59.5   \n",
       "\n",
       "   Front Leg Room (inches)  Front Head Room (inches)  Rear Shoulder (inches)  \\\n",
       "0                     41.5                       2.0                    46.5   \n",
       "1                     40.5                       2.5                    55.0   \n",
       "2                     44.0                       5.0                    57.0   \n",
       "3                     40.5                       5.0                    58.0   \n",
       "4                     42.5                       6.0                    58.5   \n",
       "\n",
       "   Rear Leg Room (inches)  Rear Head Room (inches)  \n",
       "0                    25.0                      0.5  \n",
       "1                    27.0                      2.0  \n",
       "2                    30.0                      2.0  \n",
       "3                    27.5                      4.5  \n",
       "4                    31.5                      3.0  "
      ]
     },
     "execution_count": 25,
     "metadata": {},
     "output_type": "execute_result"
    }
   ],
   "source": [
    "print(auto.shape)\n",
    "auto.head()"
   ]
  },
  {
   "cell_type": "code",
   "execution_count": null,
   "metadata": {},
   "outputs": [],
   "source": [
    "## 6. Correlation Analysis\n"
   ]
  },
  {
   "cell_type": "code",
   "execution_count": 26,
   "metadata": {},
   "outputs": [
    {
     "name": "stdout",
     "output_type": "stream",
     "text": [
      "                          Mileage (mpg)  Capacity (gal)  Length (inches)  \\\n",
      "Mileage (mpg)                  1.000000       -0.787515        -0.387151   \n",
      "Capacity (gal)                -0.787515        1.000000         0.505427   \n",
      "Length (inches)               -0.387151        0.505427         1.000000   \n",
      "Wheel Base (inches)           -0.512751        0.660131         0.869492   \n",
      "Width (inches)                -0.578650        0.678437         0.832541   \n",
      "Turning Circle (feet)         -0.571132        0.526678         0.684696   \n",
      "Door Top (inches)             -0.771332        0.752458         0.117489   \n",
      "Luggage (cu. ft.)             -0.633763        0.731209         0.261723   \n",
      "Front Shoulder (inches)       -0.607314        0.722434         0.787516   \n",
      "Front Leg Room (inches)        0.053420       -0.014806         0.268169   \n",
      "Front Head Room (inches)      -0.236747        0.274185         0.203634   \n",
      "Rear Shoulder (inches)        -0.269556        0.213711         0.203753   \n",
      "Rear Leg Room (inches)        -0.274588        0.371609         0.530583   \n",
      "Rear Head Room (inches)       -0.654005        0.647434         0.200537   \n",
      "\n",
      "                          Wheel Base (inches)  Width (inches)  \\\n",
      "Mileage (mpg)                       -0.512751       -0.578650   \n",
      "Capacity (gal)                       0.660131        0.678437   \n",
      "Length (inches)                      0.869492        0.832541   \n",
      "Wheel Base (inches)                  1.000000        0.791321   \n",
      "Width (inches)                       0.791321        1.000000   \n",
      "Turning Circle (feet)                0.641709        0.642269   \n",
      "Door Top (inches)                    0.411330        0.403390   \n",
      "Luggage (cu. ft.)                    0.484309        0.464229   \n",
      "Front Shoulder (inches)              0.790025        0.909002   \n",
      "Front Leg Room (inches)              0.232445        0.091544   \n",
      "Front Head Room (inches)             0.294628        0.294469   \n",
      "Rear Shoulder (inches)               0.116297        0.400622   \n",
      "Rear Leg Room (inches)               0.407676        0.501899   \n",
      "Rear Head Room (inches)              0.361039        0.416956   \n",
      "\n",
      "                          Turning Circle (feet)  Door Top (inches)  \\\n",
      "Mileage (mpg)                         -0.571132          -0.771332   \n",
      "Capacity (gal)                         0.526678           0.752458   \n",
      "Length (inches)                        0.684696           0.117489   \n",
      "Wheel Base (inches)                    0.641709           0.411330   \n",
      "Width (inches)                         0.642269           0.403390   \n",
      "Turning Circle (feet)                  1.000000           0.413344   \n",
      "Door Top (inches)                      0.413344           1.000000   \n",
      "Luggage (cu. ft.)                      0.409763           0.824964   \n",
      "Front Shoulder (inches)                0.624658           0.498575   \n",
      "Front Leg Room (inches)                0.116876          -0.240942   \n",
      "Front Head Room (inches)               0.251681           0.388512   \n",
      "Rear Shoulder (inches)                 0.138586           0.175732   \n",
      "Rear Leg Room (inches)                 0.340659           0.065755   \n",
      "Rear Head Room (inches)                0.315220           0.742755   \n",
      "\n",
      "                          Luggage (cu. ft.)  Front Shoulder (inches)  \\\n",
      "Mileage (mpg)                     -0.633763                -0.607314   \n",
      "Capacity (gal)                     0.731209                 0.722434   \n",
      "Length (inches)                    0.261723                 0.787516   \n",
      "Wheel Base (inches)                0.484309                 0.790025   \n",
      "Width (inches)                     0.464229                 0.909002   \n",
      "Turning Circle (feet)              0.409763                 0.624658   \n",
      "Door Top (inches)                  0.824964                 0.498575   \n",
      "Luggage (cu. ft.)                  1.000000                 0.612608   \n",
      "Front Shoulder (inches)            0.612608                 1.000000   \n",
      "Front Leg Room (inches)           -0.213479                 0.063630   \n",
      "Front Head Room (inches)           0.372104                 0.329347   \n",
      "Rear Shoulder (inches)             0.180357                 0.441564   \n",
      "Rear Leg Room (inches)             0.293596                 0.550277   \n",
      "Rear Head Room (inches)            0.787849                 0.570227   \n",
      "\n",
      "                          Front Leg Room (inches)  Front Head Room (inches)  \\\n",
      "Mileage (mpg)                            0.053420                 -0.236747   \n",
      "Capacity (gal)                          -0.014806                  0.274185   \n",
      "Length (inches)                          0.268169                  0.203634   \n",
      "Wheel Base (inches)                      0.232445                  0.294628   \n",
      "Width (inches)                           0.091544                  0.294469   \n",
      "Turning Circle (feet)                    0.116876                  0.251681   \n",
      "Door Top (inches)                       -0.240942                  0.388512   \n",
      "Luggage (cu. ft.)                       -0.213479                  0.372104   \n",
      "Front Shoulder (inches)                  0.063630                  0.329347   \n",
      "Front Leg Room (inches)                  1.000000                  0.120034   \n",
      "Front Head Room (inches)                 0.120034                  1.000000   \n",
      "Rear Shoulder (inches)                  -0.052595                  0.090027   \n",
      "Rear Leg Room (inches)                   0.444186                  0.158943   \n",
      "Rear Head Room (inches)                 -0.191373                  0.402010   \n",
      "\n",
      "                          Rear Shoulder (inches)  Rear Leg Room (inches)  \\\n",
      "Mileage (mpg)                          -0.269556               -0.274588   \n",
      "Capacity (gal)                          0.213711                0.371609   \n",
      "Length (inches)                         0.203753                0.530583   \n",
      "Wheel Base (inches)                     0.116297                0.407676   \n",
      "Width (inches)                          0.400622                0.501899   \n",
      "Turning Circle (feet)                   0.138586                0.340659   \n",
      "Door Top (inches)                       0.175732                0.065755   \n",
      "Luggage (cu. ft.)                       0.180357                0.293596   \n",
      "Front Shoulder (inches)                 0.441564                0.550277   \n",
      "Front Leg Room (inches)                -0.052595                0.444186   \n",
      "Front Head Room (inches)                0.090027                0.158943   \n",
      "Rear Shoulder (inches)                  1.000000                0.360663   \n",
      "Rear Leg Room (inches)                  0.360663                1.000000   \n",
      "Rear Head Room (inches)                 0.289684                0.292904   \n",
      "\n",
      "                          Rear Head Room (inches)  \n",
      "Mileage (mpg)                           -0.654005  \n",
      "Capacity (gal)                           0.647434  \n",
      "Length (inches)                          0.200537  \n",
      "Wheel Base (inches)                      0.361039  \n",
      "Width (inches)                           0.416956  \n",
      "Turning Circle (feet)                    0.315220  \n",
      "Door Top (inches)                        0.742755  \n",
      "Luggage (cu. ft.)                        0.787849  \n",
      "Front Shoulder (inches)                  0.570227  \n",
      "Front Leg Room (inches)                 -0.191373  \n",
      "Front Head Room (inches)                 0.402010  \n",
      "Rear Shoulder (inches)                   0.289684  \n",
      "Rear Leg Room (inches)                   0.292904  \n",
      "Rear Head Room (inches)                  1.000000  \n"
     ]
    }
   ],
   "source": [
    "#numeric correlation output\n",
    "print(auto.corr())"
   ]
  },
  {
   "cell_type": "code",
   "execution_count": 27,
   "metadata": {},
   "outputs": [
    {
     "data": {
      "text/plain": [
       "<matplotlib.axes._subplots.AxesSubplot at 0x208080a0908>"
      ]
     },
     "execution_count": 27,
     "metadata": {},
     "output_type": "execute_result"
    },
    {
     "data": {
      "image/png": "[encoded data removed]",
      "text/plain": [
       "<Figure size 432x288 with 2 Axes>"
      ]
     },
     "metadata": {
      "needs_background": "light"
     },
     "output_type": "display_data"
    }
   ],
   "source": [
    "#visual correlation output\n",
    "import seaborn as sns\n",
    "corr = auto.corr()\n",
    "\n",
    "sns.heatmap(corr, \n",
    "            xticklabels=corr.columns.values,\n",
    "            yticklabels=corr.columns.values)"
   ]
  },
  {
   "cell_type": "code",
   "execution_count": 28,
   "metadata": {},
   "outputs": [
    {
     "data": {
      "image/png": "[encoded data removed]",
      "text/plain": [
       "<Figure size 288x288 with 1 Axes>"
      ]
     },
     "metadata": {
      "needs_background": "light"
     },
     "output_type": "display_data"
    }
   ],
   "source": [
    "plt.matshow(auto.corr())\n",
    "plt.show()"
   ]
  },
  {
   "cell_type": "code",
   "execution_count": null,
   "metadata": {},
   "outputs": [],
   "source": [
    "## 7. Principal Component Analysis\n"
   ]
  },
  {
   "cell_type": "code",
   "execution_count": 29,
   "metadata": {},
   "outputs": [
    {
     "name": "stdout",
     "output_type": "stream",
     "text": [
      "[0.62047034 0.24971969 0.07211841]\n"
     ]
    }
   ],
   "source": [
    "# Creating PCA object\n",
    "pca = PCA(n_components=3)\n",
    "\n",
    "# Fitting the model\n",
    "pca.fit(auto.iloc[:,1:])\n",
    "\n",
    "# Variance\n",
    "print(pca.explained_variance_ratio_)"
   ]
  },
  {
   "cell_type": "code",
   "execution_count": null,
   "metadata": {},
   "outputs": [],
   "source": [
    "## Interpretation"
   ]
  },
  {
   "cell_type": "code",
   "execution_count": null,
   "metadata": {},
   "outputs": [],
   "source": [
    "# The first PCA explains 62% of the variance, the second \n",
    "# explains 25% of the variance, and the third component explains 7% \n",
    "# of the variance "
   ]
  },
  {
   "cell_type": "code",
   "execution_count": null,
   "metadata": {},
   "outputs": [],
   "source": [
    "## 8. Scatterplot of non-normalized Weight attribute relative to MPG\n"
   ]
  },
  {
   "cell_type": "code",
   "execution_count": 30,
   "metadata": {},
   "outputs": [],
   "source": [
    "# Reading in appropriate data\n",
    "auto=pd.read_csv(\"C:/Users/Modeling/Documents/Predictive Models/PM Data/AUTO.csv\", encoding='ISO-8859-1')\n",
    "auto=auto.drop(auto.index[106:190])\n",
    "auto=auto.fillna(auto.mean())"
   ]
  },
  {
   "cell_type": "code",
   "execution_count": 31,
   "metadata": {},
   "outputs": [
    {
     "data": {
      "text/plain": [
       "Name                         object\n",
       "Drive Type                   object\n",
       "Mileage (mpg)               float64\n",
       "Fuel Type                    object\n",
       "Capacity (gal)              float64\n",
       "Length (inches)             float64\n",
       "Wheel Base (inches)         float64\n",
       "Width (inches)              float64\n",
       "Turning Circle (feet)       float64\n",
       "Weight (lbs)                 object\n",
       "Door Top (inches)           float64\n",
       "Luggage (cu. ft.)           float64\n",
       "Front Shoulder (inches)     float64\n",
       "Front Leg Room (inches)     float64\n",
       "Front Head Room (inches)    float64\n",
       "Rear Shoulder (inches)      float64\n",
       "Rear Leg Room (inches)      float64\n",
       "Rear Head Room (inches)     float64\n",
       "dtype: object"
      ]
     },
     "execution_count": 31,
     "metadata": {},
     "output_type": "execute_result"
    }
   ],
   "source": [
    "auto.dtypes"
   ]
  },
  {
   "cell_type": "code",
   "execution_count": 32,
   "metadata": {},
   "outputs": [
    {
     "data": {
      "image/png": "[encoded data removed]",
      "text/plain": [
       "<Figure size 432x288 with 1 Axes>"
      ]
     },
     "metadata": {
      "needs_background": "light"
     },
     "output_type": "display_data"
    }
   ],
   "source": [
    "plt.scatter(auto['Weight (lbs)'],auto['Mileage (mpg)'])\n",
    "plt.title('MPG vs. Weight ')\n",
    "plt.xlabel('Weight (lbs)')\n",
    "plt.ylabel('MPG')\n",
    "plt.show()"
   ]
  },
  {
   "cell_type": "code",
   "execution_count": null,
   "metadata": {},
   "outputs": [],
   "source": [
    "## 9. Histogram Luggage (6 bins) and MPG (7 bins)\n"
   ]
  },
  {
   "cell_type": "code",
   "execution_count": 33,
   "metadata": {},
   "outputs": [
    {
     "data": {
      "image/png": "[encoded data removed]",
      "text/plain": [
       "<Figure size 432x288 with 1 Axes>"
      ]
     },
     "metadata": {
      "needs_background": "light"
     },
     "output_type": "display_data"
    }
   ],
   "source": [
    "#histogram of luggage using 6 bins\n",
    "n, bins, patches = plt.hist(auto['Luggage (cu. ft.)'], 6, facecolor='blue', alpha=0.75)\n",
    "plt.ylim(0, 80)\n",
    "plt.title('Histogram of Luggage using 6 bins')\n",
    "plt.xlabel(\"Luggage\")\n",
    "plt.ylabel(\"Frequency\")\n",
    "plt.show()"
   ]
  },
  {
   "cell_type": "code",
   "execution_count": 34,
   "metadata": {},
   "outputs": [
    {
     "data": {
      "image/png": "[encoded data removed]",
      "text/plain": [
       "<Figure size 432x288 with 1 Axes>"
      ]
     },
     "metadata": {
      "needs_background": "light"
     },
     "output_type": "display_data"
    }
   ],
   "source": [
    "#histogram of MPG using 7 bins\n",
    "n, bins, patches = plt.hist(auto['Mileage (mpg)'], 7, facecolor='green', alpha=0.75)\n",
    "plt.ylim(0, 50)\n",
    "plt.title('Histogram of Luggage using 7 bins')\n",
    "plt.xlabel(\"MPG\")\n",
    "plt.ylabel(\"Frequency\")\n",
    "plt.show()"
   ]
  },
  {
   "cell_type": "code",
   "execution_count": null,
   "metadata": {},
   "outputs": [],
   "source": [
    "## Interpretation"
   ]
  },
  {
   "cell_type": "code",
   "execution_count": null,
   "metadata": {},
   "outputs": [],
   "source": [
    "# When we use 7 bins, we see a normal distribution, unlike when\n",
    "# we use 6 bins"
   ]
  },
  {
   "cell_type": "code",
   "execution_count": null,
   "metadata": {},
   "outputs": [],
   "source": [
    "## 10. Cross Tabulation of Variables: Fuel Type (FT) vs Drive Type (DT)\n"
   ]
  },
  {
   "cell_type": "code",
   "execution_count": 35,
   "metadata": {},
   "outputs": [
    {
     "name": "stdout",
     "output_type": "stream",
     "text": [
      "DT       Front  Rear\n",
      "FT                  \n",
      "Premium     11     8\n",
      "Regular     70    17\n"
     ]
    }
   ],
   "source": [
    "#aggregation of the occurrences in a 2x2 table\n",
    "#crosstab using pandas\n",
    "auto['Fuel Type'] = auto['Fuel Type'].str.strip()\n",
    "FTvsDT=pd.crosstab(auto['Fuel Type'], auto['Drive Type'],colnames=['DT'],rownames=['FT'])\n",
    "print(FTvsDT)"
   ]
  },
  {
   "cell_type": "code",
   "execution_count": 36,
   "metadata": {},
   "outputs": [
    {
     "data": {
      "text/plain": [
       "Text(0, 0.5, 'Vehicles')"
      ]
     },
     "execution_count": 36,
     "metadata": {},
     "output_type": "execute_result"
    },
    {
     "data": {
      "image/png": "[encoded data removed]",
      "text/plain": [
       "<Figure size 432x288 with 1 Axes>"
      ]
     },
     "metadata": {
      "needs_background": "light"
     },
     "output_type": "display_data"
    }
   ],
   "source": [
    "#Bar plot of Fuel Type by Drive Type\n",
    "FTvsDT.plot(kind='bar')\n",
    "plt.title('Fuel Type by Drive Type')\n",
    "plt.ylabel(\"Vehicles\")"
   ]
  },
  {
   "cell_type": "code",
   "execution_count": null,
   "metadata": {},
   "outputs": [],
   "source": [
    "## 11. New data frame\n"
   ]
  },
  {
   "cell_type": "code",
   "execution_count": 37,
   "metadata": {},
   "outputs": [],
   "source": [
    "#create a new dataframe where fuel is regular\n",
    "fuel_reg = auto[auto['Fuel Type'] == 'Regular']\n",
    "#fuel_reg.head(10)"
   ]
  },
  {
   "cell_type": "code",
   "execution_count": 38,
   "metadata": {},
   "outputs": [
    {
     "data": {
      "text/html": [
       "<div>\n",
       "<style scoped>\n",
       "    .dataframe tbody tr th:only-of-type {\n",
       "        vertical-align: middle;\n",
       "    }\n",
       "\n",
       "    .dataframe tbody tr th {\n",
       "        vertical-align: top;\n",
       "    }\n",
       "\n",
       "    .dataframe thead th {\n",
       "        text-align: right;\n",
       "    }\n",
       "</style>\n",
       "<table border=\"1\" class=\"dataframe\">\n",
       "  <thead>\n",
       "    <tr style=\"text-align: right;\">\n",
       "      <th></th>\n",
       "      <th>Name</th>\n",
       "      <th>Drive Type</th>\n",
       "      <th>Mileage (mpg)</th>\n",
       "      <th>Fuel Type</th>\n",
       "      <th>Capacity (gal)</th>\n",
       "      <th>Length (inches)</th>\n",
       "      <th>Wheel Base (inches)</th>\n",
       "      <th>Width (inches)</th>\n",
       "      <th>Turning Circle (feet)</th>\n",
       "      <th>Weight (lbs)</th>\n",
       "      <th>Door Top (inches)</th>\n",
       "      <th>Luggage (cu. ft.)</th>\n",
       "      <th>Front Shoulder (inches)</th>\n",
       "      <th>Front Leg Room (inches)</th>\n",
       "      <th>Front Head Room (inches)</th>\n",
       "      <th>Rear Shoulder (inches)</th>\n",
       "      <th>Rear Leg Room (inches)</th>\n",
       "      <th>Rear Head Room (inches)</th>\n",
       "    </tr>\n",
       "  </thead>\n",
       "  <tbody>\n",
       "    <tr>\n",
       "      <th>0</th>\n",
       "      <td>Acura Integra</td>\n",
       "      <td>Front</td>\n",
       "      <td>31.0</td>\n",
       "      <td>Regular</td>\n",
       "      <td>13.2</td>\n",
       "      <td>172.0</td>\n",
       "      <td>101.0</td>\n",
       "      <td>67.0</td>\n",
       "      <td>39.0</td>\n",
       "      <td>2,635</td>\n",
       "      <td>47.5</td>\n",
       "      <td>13.0</td>\n",
       "      <td>51.5</td>\n",
       "      <td>41.5</td>\n",
       "      <td>2.0</td>\n",
       "      <td>46.5</td>\n",
       "      <td>25.0</td>\n",
       "      <td>0.5</td>\n",
       "    </tr>\n",
       "    <tr>\n",
       "      <th>2</th>\n",
       "      <td>Buick Century</td>\n",
       "      <td>Front</td>\n",
       "      <td>22.0</td>\n",
       "      <td>Regular</td>\n",
       "      <td>17.5</td>\n",
       "      <td>195.0</td>\n",
       "      <td>109.0</td>\n",
       "      <td>73.0</td>\n",
       "      <td>40.0</td>\n",
       "      <td>3,350</td>\n",
       "      <td>50.5</td>\n",
       "      <td>17.0</td>\n",
       "      <td>58.0</td>\n",
       "      <td>44.0</td>\n",
       "      <td>5.0</td>\n",
       "      <td>57.0</td>\n",
       "      <td>30.0</td>\n",
       "      <td>2.0</td>\n",
       "    </tr>\n",
       "    <tr>\n",
       "      <th>6</th>\n",
       "      <td>Chevrolet Cavalier</td>\n",
       "      <td>Front</td>\n",
       "      <td>26.0</td>\n",
       "      <td>Regular</td>\n",
       "      <td>15.2</td>\n",
       "      <td>181.0</td>\n",
       "      <td>104.0</td>\n",
       "      <td>68.0</td>\n",
       "      <td>38.0</td>\n",
       "      <td>2,795</td>\n",
       "      <td>50.5</td>\n",
       "      <td>14.0</td>\n",
       "      <td>54.5</td>\n",
       "      <td>41.5</td>\n",
       "      <td>4.5</td>\n",
       "      <td>53.5</td>\n",
       "      <td>28.0</td>\n",
       "      <td>2.0</td>\n",
       "    </tr>\n",
       "    <tr>\n",
       "      <th>8</th>\n",
       "      <td>Chevrolet Lumina</td>\n",
       "      <td>Front</td>\n",
       "      <td>22.0</td>\n",
       "      <td>Regular</td>\n",
       "      <td>16.6</td>\n",
       "      <td>201.0</td>\n",
       "      <td>108.0</td>\n",
       "      <td>73.0</td>\n",
       "      <td>44.0</td>\n",
       "      <td>3,350</td>\n",
       "      <td>51.0</td>\n",
       "      <td>16.0</td>\n",
       "      <td>58.5</td>\n",
       "      <td>42.5</td>\n",
       "      <td>4.5</td>\n",
       "      <td>57.0</td>\n",
       "      <td>30.0</td>\n",
       "      <td>2.0</td>\n",
       "    </tr>\n",
       "    <tr>\n",
       "      <th>9</th>\n",
       "      <td>Chevrolet Malibu</td>\n",
       "      <td>Front</td>\n",
       "      <td>24.0</td>\n",
       "      <td>Regular</td>\n",
       "      <td>15.2</td>\n",
       "      <td>190.0</td>\n",
       "      <td>107.0</td>\n",
       "      <td>69.0</td>\n",
       "      <td>40.0</td>\n",
       "      <td>3,075</td>\n",
       "      <td>50.5</td>\n",
       "      <td>17.0</td>\n",
       "      <td>55.0</td>\n",
       "      <td>43.0</td>\n",
       "      <td>4.5</td>\n",
       "      <td>54.0</td>\n",
       "      <td>30.5</td>\n",
       "      <td>2.0</td>\n",
       "    </tr>\n",
       "    <tr>\n",
       "      <th>10</th>\n",
       "      <td>Chevrolet Prizm</td>\n",
       "      <td>Front</td>\n",
       "      <td>31.0</td>\n",
       "      <td>Regular</td>\n",
       "      <td>13.2</td>\n",
       "      <td>175.0</td>\n",
       "      <td>97.0</td>\n",
       "      <td>67.0</td>\n",
       "      <td>34.0</td>\n",
       "      <td>2,480</td>\n",
       "      <td>48.0</td>\n",
       "      <td>12.0</td>\n",
       "      <td>52.5</td>\n",
       "      <td>40.5</td>\n",
       "      <td>4.0</td>\n",
       "      <td>52.0</td>\n",
       "      <td>26.5</td>\n",
       "      <td>2.0</td>\n",
       "    </tr>\n",
       "    <tr>\n",
       "      <th>13</th>\n",
       "      <td>Chrysler Cirrus</td>\n",
       "      <td>Front</td>\n",
       "      <td>22.0</td>\n",
       "      <td>Regular</td>\n",
       "      <td>16.0</td>\n",
       "      <td>186.0</td>\n",
       "      <td>108.0</td>\n",
       "      <td>72.0</td>\n",
       "      <td>39.0</td>\n",
       "      <td>3,170</td>\n",
       "      <td>49.0</td>\n",
       "      <td>16.0</td>\n",
       "      <td>55.0</td>\n",
       "      <td>42.0</td>\n",
       "      <td>4.0</td>\n",
       "      <td>54.5</td>\n",
       "      <td>31.0</td>\n",
       "      <td>1.5</td>\n",
       "    </tr>\n",
       "    <tr>\n",
       "      <th>17</th>\n",
       "      <td>Daewoo Lenganza</td>\n",
       "      <td>Front</td>\n",
       "      <td>24.0</td>\n",
       "      <td>Regular</td>\n",
       "      <td>15.8</td>\n",
       "      <td>184.0</td>\n",
       "      <td>105.0</td>\n",
       "      <td>70.0</td>\n",
       "      <td>41.0</td>\n",
       "      <td>3,185</td>\n",
       "      <td>50.0</td>\n",
       "      <td>14.0</td>\n",
       "      <td>55.5</td>\n",
       "      <td>42.5</td>\n",
       "      <td>2.5</td>\n",
       "      <td>52.5</td>\n",
       "      <td>30.0</td>\n",
       "      <td>3.5</td>\n",
       "    </tr>\n",
       "    <tr>\n",
       "      <th>18</th>\n",
       "      <td>Daewoo Nubira</td>\n",
       "      <td>Front</td>\n",
       "      <td>24.0</td>\n",
       "      <td>Regular</td>\n",
       "      <td>13.7</td>\n",
       "      <td>175.0</td>\n",
       "      <td>101.0</td>\n",
       "      <td>67.0</td>\n",
       "      <td>37.0</td>\n",
       "      <td>2,815</td>\n",
       "      <td>50.0</td>\n",
       "      <td>13.0</td>\n",
       "      <td>53.5</td>\n",
       "      <td>41.0</td>\n",
       "      <td>4.5</td>\n",
       "      <td>52.5</td>\n",
       "      <td>27.5</td>\n",
       "      <td>3.0</td>\n",
       "    </tr>\n",
       "    <tr>\n",
       "      <th>19</th>\n",
       "      <td>Dodge Intrepid</td>\n",
       "      <td>Front</td>\n",
       "      <td>22.0</td>\n",
       "      <td>Regular</td>\n",
       "      <td>17.0</td>\n",
       "      <td>204.0</td>\n",
       "      <td>113.0</td>\n",
       "      <td>75.0</td>\n",
       "      <td>40.0</td>\n",
       "      <td>3,455</td>\n",
       "      <td>49.0</td>\n",
       "      <td>18.0</td>\n",
       "      <td>58.5</td>\n",
       "      <td>43.0</td>\n",
       "      <td>4.5</td>\n",
       "      <td>57.0</td>\n",
       "      <td>32.5</td>\n",
       "      <td>2.5</td>\n",
       "    </tr>\n",
       "  </tbody>\n",
       "</table>\n",
       "</div>"
      ],
      "text/plain": [
       "                  Name Drive Type  Mileage (mpg) Fuel Type  Capacity (gal)  \\\n",
       "0        Acura Integra      Front           31.0   Regular            13.2   \n",
       "2        Buick Century      Front           22.0   Regular            17.5   \n",
       "6   Chevrolet Cavalier      Front           26.0   Regular            15.2   \n",
       "8     Chevrolet Lumina      Front           22.0   Regular            16.6   \n",
       "9     Chevrolet Malibu      Front           24.0   Regular            15.2   \n",
       "10     Chevrolet Prizm      Front           31.0   Regular            13.2   \n",
       "13     Chrysler Cirrus      Front           22.0   Regular            16.0   \n",
       "17     Daewoo Lenganza      Front           24.0   Regular            15.8   \n",
       "18       Daewoo Nubira      Front           24.0   Regular            13.7   \n",
       "19      Dodge Intrepid      Front           22.0   Regular            17.0   \n",
       "\n",
       "    Length (inches)  Wheel Base (inches)  Width (inches)  \\\n",
       "0             172.0                101.0            67.0   \n",
       "2             195.0                109.0            73.0   \n",
       "6             181.0                104.0            68.0   \n",
       "8             201.0                108.0            73.0   \n",
       "9             190.0                107.0            69.0   \n",
       "10            175.0                 97.0            67.0   \n",
       "13            186.0                108.0            72.0   \n",
       "17            184.0                105.0            70.0   \n",
       "18            175.0                101.0            67.0   \n",
       "19            204.0                113.0            75.0   \n",
       "\n",
       "    Turning Circle (feet) Weight (lbs)  Door Top (inches)  Luggage (cu. ft.)  \\\n",
       "0                    39.0        2,635               47.5               13.0   \n",
       "2                    40.0        3,350               50.5               17.0   \n",
       "6                    38.0        2,795               50.5               14.0   \n",
       "8                    44.0        3,350               51.0               16.0   \n",
       "9                    40.0        3,075               50.5               17.0   \n",
       "10                   34.0        2,480               48.0               12.0   \n",
       "13                   39.0        3,170               49.0               16.0   \n",
       "17                   41.0        3,185               50.0               14.0   \n",
       "18                   37.0        2,815               50.0               13.0   \n",
       "19                   40.0        3,455               49.0               18.0   \n",
       "\n",
       "    Front Shoulder (inches)  Front Leg Room (inches)  \\\n",
       "0                      51.5                     41.5   \n",
       "2                      58.0                     44.0   \n",
       "6                      54.5                     41.5   \n",
       "8                      58.5                     42.5   \n",
       "9                      55.0                     43.0   \n",
       "10                     52.5                     40.5   \n",
       "13                     55.0                     42.0   \n",
       "17                     55.5                     42.5   \n",
       "18                     53.5                     41.0   \n",
       "19                     58.5                     43.0   \n",
       "\n",
       "    Front Head Room (inches)  Rear Shoulder (inches)  Rear Leg Room (inches)  \\\n",
       "0                        2.0                    46.5                    25.0   \n",
       "2                        5.0                    57.0                    30.0   \n",
       "6                        4.5                    53.5                    28.0   \n",
       "8                        4.5                    57.0                    30.0   \n",
       "9                        4.5                    54.0                    30.5   \n",
       "10                       4.0                    52.0                    26.5   \n",
       "13                       4.0                    54.5                    31.0   \n",
       "17                       2.5                    52.5                    30.0   \n",
       "18                       4.5                    52.5                    27.5   \n",
       "19                       4.5                    57.0                    32.5   \n",
       "\n",
       "    Rear Head Room (inches)  \n",
       "0                       0.5  \n",
       "2                       2.0  \n",
       "6                       2.0  \n",
       "8                       2.0  \n",
       "9                       2.0  \n",
       "10                      2.0  \n",
       "13                      1.5  \n",
       "17                      3.5  \n",
       "18                      3.0  \n",
       "19                      2.5  "
      ]
     },
     "execution_count": 38,
     "metadata": {},
     "output_type": "execute_result"
    }
   ],
   "source": [
    "#create a new dataframe from fuel_sub with MPG over 21 named auto_sub\n",
    "auto_sub = fuel_reg[fuel_reg['Mileage (mpg)'] > 21]\n",
    "auto_sub.head(10)"
   ]
  }
 ],
 "metadata": {
  "kernelspec": {
   "display_name": "Python 3",
   "language": "python",
   "name": "python3"
  },
  "language_info": {
   "codemirror_mode": {
    "name": "ipython",
    "version": 3
   },
   "file_extension": ".py",
   "mimetype": "text/x-python",
   "name": "python",
   "nbconvert_exporter": "python",
   "pygments_lexer": "ipython3",
   "version": "3.7.6"
  }
 },
 "nbformat": 4,
 "nbformat_minor": 4
}
