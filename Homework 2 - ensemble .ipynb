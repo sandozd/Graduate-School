{
 "cells": [
  {
   "cell_type": "code",
   "execution_count": 99,
   "metadata": {
    "scrolled": true
   },
   "outputs": [],
   "source": [
    "## Daniel Sandoz, Final Project, Titanic Classification Ensemble ##"
   ]
  },
  {
   "cell_type": "code",
   "execution_count": 6,
   "metadata": {},
   "outputs": [],
   "source": [
    "import pandas as pd\n",
    "import numpy as np\n",
    "import matplotlib.pyplot as plt\n",
    "%matplotlib inline\n",
    "import seaborn as sns\n",
    "import csv\n",
    "import time \n",
    "\n",
    "# Importing SKLearn clssifiers and libraries\n",
    "from sklearn.preprocessing import MinMaxScaler\n",
    "from sklearn.feature_selection import SelectKBest, f_classif\n",
    "from sklearn import preprocessing\n",
    "from  sklearn.model_selection import train_test_split \n",
    "from sklearn.neighbors import NearestNeighbors\n",
    "from sklearn.neighbors import KNeighborsClassifier\n",
    "from sklearn import metrics\n",
    "from sklearn.metrics import accuracy_score\n",
    "from sklearn.metrics import precision_recall_fscore_support\n",
    "from sklearn.model_selection import cross_val_score\n",
    "from sklearn.model_selection import KFold\n",
    "from sklearn.model_selection import GridSearchCV\n",
    "from sklearn.metrics import roc_curve, auc, confusion_matrix, classification_report\n",
    "from sklearn import tree\n",
    "from sklearn.ensemble import RandomForestClassifier\n",
    "from sklearn.svm import SVC\n",
    "from sklearn.svm import LinearSVC\n"
   ]
  },
  {
   "cell_type": "code",
   "execution_count": 7,
   "metadata": {},
   "outputs": [],
   "source": [
    "titanic = pd.read_csv(\"C:/Users/Modeling/Documents/Predictive Models/PM Data/titanictrain.csv\", encoding='ISO-8859-1' )"
   ]
  },
  {
   "cell_type": "code",
   "execution_count": 5,
   "metadata": {},
   "outputs": [],
   "source": [
    "## EDA"
   ]
  },
  {
   "cell_type": "code",
   "execution_count": 42,
   "metadata": {
    "scrolled": true
   },
   "outputs": [
    {
     "data": {
      "text/plain": [
       "PassengerId      0\n",
       "Survived         0\n",
       "Pclass           0\n",
       "Name             0\n",
       "Sex              0\n",
       "Age            177\n",
       "SibSp            0\n",
       "Parch            0\n",
       "Ticket           0\n",
       "Fare             0\n",
       "Cabin          687\n",
       "Embarked         2\n",
       "dtype: int64"
      ]
     },
     "execution_count": 42,
     "metadata": {},
     "output_type": "execute_result"
    }
   ],
   "source": [
    "# check for missing values\n",
    "np.sum(titanic.isnull())"
   ]
  },
  {
   "cell_type": "code",
   "execution_count": 7,
   "metadata": {},
   "outputs": [],
   "source": [
    "# We have a lot of missing values for age and cabin. It is possible to make \n",
    "# the argument to drop cabin, however not for age. We will explore this later."
   ]
  },
  {
   "cell_type": "code",
   "execution_count": 43,
   "metadata": {},
   "outputs": [
    {
     "data": {
      "text/plain": [
       "<matplotlib.axes._subplots.AxesSubplot at 0x20484acdc48>"
      ]
     },
     "execution_count": 43,
     "metadata": {},
     "output_type": "execute_result"
    },
    {
     "data": {
      "image/png": "[encoded data removed]",
      "text/plain": [
       "<Figure size 432x288 with 1 Axes>"
      ]
     },
     "metadata": {
      "needs_background": "light"
     },
     "output_type": "display_data"
    }
   ],
   "source": [
    "# grasp nature of data: classification\n",
    "sns.countplot(titanic['Survived'])"
   ]
  },
  {
   "cell_type": "code",
   "execution_count": 44,
   "metadata": {},
   "outputs": [
    {
     "data": {
      "text/plain": [
       "PassengerId    446.000000\n",
       "Survived         0.383838\n",
       "Pclass           2.308642\n",
       "Age             29.699118\n",
       "SibSp            0.523008\n",
       "Parch            0.381594\n",
       "Fare            32.204208\n",
       "dtype: float64"
      ]
     },
     "execution_count": 44,
     "metadata": {},
     "output_type": "execute_result"
    }
   ],
   "source": [
    "titanic.mean()"
   ]
  },
  {
   "cell_type": "code",
   "execution_count": 45,
   "metadata": {
    "scrolled": true
   },
   "outputs": [
    {
     "data": {
      "text/html": [
       "<div>\n",
       "<style scoped>\n",
       "    .dataframe tbody tr th:only-of-type {\n",
       "        vertical-align: middle;\n",
       "    }\n",
       "\n",
       "    .dataframe tbody tr th {\n",
       "        vertical-align: top;\n",
       "    }\n",
       "\n",
       "    .dataframe thead th {\n",
       "        text-align: right;\n",
       "    }\n",
       "</style>\n",
       "<table border=\"1\" class=\"dataframe\">\n",
       "  <thead>\n",
       "    <tr style=\"text-align: right;\">\n",
       "      <th></th>\n",
       "      <th>PassengerId</th>\n",
       "      <th>Survived</th>\n",
       "      <th>Pclass</th>\n",
       "      <th>Name</th>\n",
       "      <th>Sex</th>\n",
       "      <th>Age</th>\n",
       "      <th>SibSp</th>\n",
       "      <th>Parch</th>\n",
       "      <th>Ticket</th>\n",
       "      <th>Fare</th>\n",
       "      <th>Cabin</th>\n",
       "      <th>Embarked</th>\n",
       "    </tr>\n",
       "  </thead>\n",
       "  <tbody>\n",
       "    <tr>\n",
       "      <th>count</th>\n",
       "      <td>891.000000</td>\n",
       "      <td>891.000000</td>\n",
       "      <td>891.000000</td>\n",
       "      <td>891</td>\n",
       "      <td>891</td>\n",
       "      <td>714.000000</td>\n",
       "      <td>891.000000</td>\n",
       "      <td>891.000000</td>\n",
       "      <td>891</td>\n",
       "      <td>891.000000</td>\n",
       "      <td>204</td>\n",
       "      <td>889</td>\n",
       "    </tr>\n",
       "    <tr>\n",
       "      <th>unique</th>\n",
       "      <td>NaN</td>\n",
       "      <td>NaN</td>\n",
       "      <td>NaN</td>\n",
       "      <td>891</td>\n",
       "      <td>2</td>\n",
       "      <td>NaN</td>\n",
       "      <td>NaN</td>\n",
       "      <td>NaN</td>\n",
       "      <td>681</td>\n",
       "      <td>NaN</td>\n",
       "      <td>147</td>\n",
       "      <td>3</td>\n",
       "    </tr>\n",
       "    <tr>\n",
       "      <th>top</th>\n",
       "      <td>NaN</td>\n",
       "      <td>NaN</td>\n",
       "      <td>NaN</td>\n",
       "      <td>Bowen, Mr. David John \"Dai\"</td>\n",
       "      <td>male</td>\n",
       "      <td>NaN</td>\n",
       "      <td>NaN</td>\n",
       "      <td>NaN</td>\n",
       "      <td>1601</td>\n",
       "      <td>NaN</td>\n",
       "      <td>B96 B98</td>\n",
       "      <td>S</td>\n",
       "    </tr>\n",
       "    <tr>\n",
       "      <th>freq</th>\n",
       "      <td>NaN</td>\n",
       "      <td>NaN</td>\n",
       "      <td>NaN</td>\n",
       "      <td>1</td>\n",
       "      <td>577</td>\n",
       "      <td>NaN</td>\n",
       "      <td>NaN</td>\n",
       "      <td>NaN</td>\n",
       "      <td>7</td>\n",
       "      <td>NaN</td>\n",
       "      <td>4</td>\n",
       "      <td>644</td>\n",
       "    </tr>\n",
       "    <tr>\n",
       "      <th>mean</th>\n",
       "      <td>446.000000</td>\n",
       "      <td>0.383838</td>\n",
       "      <td>2.308642</td>\n",
       "      <td>NaN</td>\n",
       "      <td>NaN</td>\n",
       "      <td>29.699118</td>\n",
       "      <td>0.523008</td>\n",
       "      <td>0.381594</td>\n",
       "      <td>NaN</td>\n",
       "      <td>32.204208</td>\n",
       "      <td>NaN</td>\n",
       "      <td>NaN</td>\n",
       "    </tr>\n",
       "    <tr>\n",
       "      <th>std</th>\n",
       "      <td>257.353842</td>\n",
       "      <td>0.486592</td>\n",
       "      <td>0.836071</td>\n",
       "      <td>NaN</td>\n",
       "      <td>NaN</td>\n",
       "      <td>14.526497</td>\n",
       "      <td>1.102743</td>\n",
       "      <td>0.806057</td>\n",
       "      <td>NaN</td>\n",
       "      <td>49.693429</td>\n",
       "      <td>NaN</td>\n",
       "      <td>NaN</td>\n",
       "    </tr>\n",
       "    <tr>\n",
       "      <th>min</th>\n",
       "      <td>1.000000</td>\n",
       "      <td>0.000000</td>\n",
       "      <td>1.000000</td>\n",
       "      <td>NaN</td>\n",
       "      <td>NaN</td>\n",
       "      <td>0.420000</td>\n",
       "      <td>0.000000</td>\n",
       "      <td>0.000000</td>\n",
       "      <td>NaN</td>\n",
       "      <td>0.000000</td>\n",
       "      <td>NaN</td>\n",
       "      <td>NaN</td>\n",
       "    </tr>\n",
       "    <tr>\n",
       "      <th>25%</th>\n",
       "      <td>223.500000</td>\n",
       "      <td>0.000000</td>\n",
       "      <td>2.000000</td>\n",
       "      <td>NaN</td>\n",
       "      <td>NaN</td>\n",
       "      <td>20.125000</td>\n",
       "      <td>0.000000</td>\n",
       "      <td>0.000000</td>\n",
       "      <td>NaN</td>\n",
       "      <td>7.910400</td>\n",
       "      <td>NaN</td>\n",
       "      <td>NaN</td>\n",
       "    </tr>\n",
       "    <tr>\n",
       "      <th>50%</th>\n",
       "      <td>446.000000</td>\n",
       "      <td>0.000000</td>\n",
       "      <td>3.000000</td>\n",
       "      <td>NaN</td>\n",
       "      <td>NaN</td>\n",
       "      <td>28.000000</td>\n",
       "      <td>0.000000</td>\n",
       "      <td>0.000000</td>\n",
       "      <td>NaN</td>\n",
       "      <td>14.454200</td>\n",
       "      <td>NaN</td>\n",
       "      <td>NaN</td>\n",
       "    </tr>\n",
       "    <tr>\n",
       "      <th>75%</th>\n",
       "      <td>668.500000</td>\n",
       "      <td>1.000000</td>\n",
       "      <td>3.000000</td>\n",
       "      <td>NaN</td>\n",
       "      <td>NaN</td>\n",
       "      <td>38.000000</td>\n",
       "      <td>1.000000</td>\n",
       "      <td>0.000000</td>\n",
       "      <td>NaN</td>\n",
       "      <td>31.000000</td>\n",
       "      <td>NaN</td>\n",
       "      <td>NaN</td>\n",
       "    </tr>\n",
       "    <tr>\n",
       "      <th>max</th>\n",
       "      <td>891.000000</td>\n",
       "      <td>1.000000</td>\n",
       "      <td>3.000000</td>\n",
       "      <td>NaN</td>\n",
       "      <td>NaN</td>\n",
       "      <td>80.000000</td>\n",
       "      <td>8.000000</td>\n",
       "      <td>6.000000</td>\n",
       "      <td>NaN</td>\n",
       "      <td>512.329200</td>\n",
       "      <td>NaN</td>\n",
       "      <td>NaN</td>\n",
       "    </tr>\n",
       "  </tbody>\n",
       "</table>\n",
       "</div>"
      ],
      "text/plain": [
       "        PassengerId    Survived      Pclass                         Name  \\\n",
       "count    891.000000  891.000000  891.000000                          891   \n",
       "unique          NaN         NaN         NaN                          891   \n",
       "top             NaN         NaN         NaN  Bowen, Mr. David John \"Dai\"   \n",
       "freq            NaN         NaN         NaN                            1   \n",
       "mean     446.000000    0.383838    2.308642                          NaN   \n",
       "std      257.353842    0.486592    0.836071                          NaN   \n",
       "min        1.000000    0.000000    1.000000                          NaN   \n",
       "25%      223.500000    0.000000    2.000000                          NaN   \n",
       "50%      446.000000    0.000000    3.000000                          NaN   \n",
       "75%      668.500000    1.000000    3.000000                          NaN   \n",
       "max      891.000000    1.000000    3.000000                          NaN   \n",
       "\n",
       "         Sex         Age       SibSp       Parch Ticket        Fare    Cabin  \\\n",
       "count    891  714.000000  891.000000  891.000000    891  891.000000      204   \n",
       "unique     2         NaN         NaN         NaN    681         NaN      147   \n",
       "top     male         NaN         NaN         NaN   1601         NaN  B96 B98   \n",
       "freq     577         NaN         NaN         NaN      7         NaN        4   \n",
       "mean     NaN   29.699118    0.523008    0.381594    NaN   32.204208      NaN   \n",
       "std      NaN   14.526497    1.102743    0.806057    NaN   49.693429      NaN   \n",
       "min      NaN    0.420000    0.000000    0.000000    NaN    0.000000      NaN   \n",
       "25%      NaN   20.125000    0.000000    0.000000    NaN    7.910400      NaN   \n",
       "50%      NaN   28.000000    0.000000    0.000000    NaN   14.454200      NaN   \n",
       "75%      NaN   38.000000    1.000000    0.000000    NaN   31.000000      NaN   \n",
       "max      NaN   80.000000    8.000000    6.000000    NaN  512.329200      NaN   \n",
       "\n",
       "       Embarked  \n",
       "count       889  \n",
       "unique        3  \n",
       "top           S  \n",
       "freq        644  \n",
       "mean        NaN  \n",
       "std         NaN  \n",
       "min         NaN  \n",
       "25%         NaN  \n",
       "50%         NaN  \n",
       "75%         NaN  \n",
       "max         NaN  "
      ]
     },
     "execution_count": 45,
     "metadata": {},
     "output_type": "execute_result"
    }
   ],
   "source": [
    "# statistics behind the training data\n",
    "titanic.describe(include = 'all')"
   ]
  },
  {
   "cell_type": "code",
   "execution_count": 12,
   "metadata": {},
   "outputs": [],
   "source": [
    "# Feature Analysis"
   ]
  },
  {
   "cell_type": "code",
   "execution_count": 7,
   "metadata": {},
   "outputs": [
    {
     "data": {
      "text/plain": [
       "<matplotlib.axes._subplots.AxesSubplot at 0x2048442bb08>"
      ]
     },
     "execution_count": 7,
     "metadata": {},
     "output_type": "execute_result"
    },
    {
     "data": {
      "image/png": "[encoded data removed]",
      "text/plain": [
       "<Figure size 432x288 with 1 Axes>"
      ]
     },
     "metadata": {
      "needs_background": "light"
     },
     "output_type": "display_data"
    }
   ],
   "source": [
    "# Class\n",
    "sns.countplot(titanic['Pclass'])"
   ]
  },
  {
   "cell_type": "code",
   "execution_count": 8,
   "metadata": {},
   "outputs": [
    {
     "data": {
      "text/plain": [
       "<matplotlib.axes._subplots.AxesSubplot at 0x204844805c8>"
      ]
     },
     "execution_count": 8,
     "metadata": {},
     "output_type": "execute_result"
    },
    {
     "data": {
      "image/png": "[encoded data removed]",
      "text/plain": [
       "<Figure size 432x288 with 1 Axes>"
      ]
     },
     "metadata": {
      "needs_background": "light"
     },
     "output_type": "display_data"
    }
   ],
   "source": [
    "# Class and Survived\n",
    "sns.countplot(x = 'Survived', hue = 'Pclass', data = titanic)"
   ]
  },
  {
   "cell_type": "code",
   "execution_count": 15,
   "metadata": {},
   "outputs": [],
   "source": [
    "# It seems like passenger class and survival have a strong relationship. We will explore this later."
   ]
  },
  {
   "cell_type": "code",
   "execution_count": 9,
   "metadata": {
    "scrolled": true
   },
   "outputs": [
    {
     "data": {
      "text/plain": [
       "<matplotlib.axes._subplots.AxesSubplot at 0x204845137c8>"
      ]
     },
     "execution_count": 9,
     "metadata": {},
     "output_type": "execute_result"
    },
    {
     "data": {
      "image/png": "[encoded data removed]",
      "text/plain": [
       "<Figure size 432x288 with 1 Axes>"
      ]
     },
     "metadata": {
      "needs_background": "light"
     },
     "output_type": "display_data"
    }
   ],
   "source": [
    "# Sex\n",
    "sns.countplot(titanic['Sex'])"
   ]
  },
  {
   "cell_type": "code",
   "execution_count": 10,
   "metadata": {},
   "outputs": [
    {
     "data": {
      "text/plain": [
       "<matplotlib.axes._subplots.AxesSubplot at 0x20484567a88>"
      ]
     },
     "execution_count": 10,
     "metadata": {},
     "output_type": "execute_result"
    },
    {
     "data": {
      "image/png": "[encoded data removed]",
      "text/plain": [
       "<Figure size 432x288 with 1 Axes>"
      ]
     },
     "metadata": {
      "needs_background": "light"
     },
     "output_type": "display_data"
    }
   ],
   "source": [
    "# Sex and Survival\n",
    "sns.countplot(x = 'Survived', hue = 'Sex', data = titanic)"
   ]
  },
  {
   "cell_type": "code",
   "execution_count": 11,
   "metadata": {},
   "outputs": [
    {
     "data": {
      "text/plain": [
       "<matplotlib.axes._subplots.AxesSubplot at 0x204845178c8>"
      ]
     },
     "execution_count": 11,
     "metadata": {},
     "output_type": "execute_result"
    },
    {
     "data": {
      "image/png": "[encoded data removed]",
      "text/plain": [
       "<Figure size 432x288 with 1 Axes>"
      ]
     },
     "metadata": {
      "needs_background": "light"
     },
     "output_type": "display_data"
    }
   ],
   "source": [
    "# Sibilings and Spouses\n",
    "sns.countplot(titanic['SibSp'])"
   ]
  },
  {
   "cell_type": "code",
   "execution_count": 12,
   "metadata": {},
   "outputs": [
    {
     "data": {
      "text/plain": [
       "<matplotlib.axes._subplots.AxesSubplot at 0x2048464e348>"
      ]
     },
     "execution_count": 12,
     "metadata": {},
     "output_type": "execute_result"
    },
    {
     "data": {
      "image/png": "[encoded data removed]",
      "text/plain": [
       "<Figure size 432x288 with 1 Axes>"
      ]
     },
     "metadata": {
      "needs_background": "light"
     },
     "output_type": "display_data"
    }
   ],
   "source": [
    "# Parents and Children\n",
    "sns.countplot(titanic['Parch'])"
   ]
  },
  {
   "cell_type": "code",
   "execution_count": 13,
   "metadata": {},
   "outputs": [
    {
     "data": {
      "text/plain": [
       "<matplotlib.axes._subplots.AxesSubplot at 0x204846bf6c8>"
      ]
     },
     "execution_count": 13,
     "metadata": {},
     "output_type": "execute_result"
    },
    {
     "data": {
      "image/png": "[encoded data removed]",
      "text/plain": [
       "<Figure size 432x288 with 1 Axes>"
      ]
     },
     "metadata": {
      "needs_background": "light"
     },
     "output_type": "display_data"
    }
   ],
   "source": [
    "# Embarked: C = Cherbourg, Q = Queenstown, S = Southhampton\n",
    "sns.countplot(titanic['Embarked'])"
   ]
  },
  {
   "cell_type": "code",
   "execution_count": 14,
   "metadata": {},
   "outputs": [
    {
     "data": {
      "text/plain": [
       "<matplotlib.axes._subplots.AxesSubplot at 0x20484749c08>"
      ]
     },
     "execution_count": 14,
     "metadata": {},
     "output_type": "execute_result"
    },
    {
     "data": {
      "image/png": "[encoded data removed]",
      "text/plain": [
       "<Figure size 432x288 with 2 Axes>"
      ]
     },
     "metadata": {
      "needs_background": "light"
     },
     "output_type": "display_data"
    }
   ],
   "source": [
    "# correaltion analysis\n",
    "sns.heatmap(titanic.corr(), annot = True)"
   ]
  },
  {
   "cell_type": "code",
   "execution_count": 22,
   "metadata": {},
   "outputs": [],
   "source": [
    "# There is very low correlation present in the data\n",
    "# so there is no need to worry about multicollinerity. When considering the \n",
    "# issue of missing values for age, the strongest correlation is present\n",
    "# when age is compared to passenger class. With this, we will use passenger \n",
    "# class to help explain age."
   ]
  },
  {
   "cell_type": "code",
   "execution_count": 3,
   "metadata": {},
   "outputs": [
    {
     "name": "stdout",
     "output_type": "stream",
     "text": [
      "Pclass\n",
      "1    37.0\n",
      "2    29.0\n",
      "3    24.0\n",
      "Name: Age, dtype: float64\n"
     ]
    }
   ],
   "source": [
    "age_group = titanic.groupby(\"Pclass\")[\"Age\"]\n",
    "\n",
    "print(age_group.median())"
   ]
  },
  {
   "cell_type": "code",
   "execution_count": 24,
   "metadata": {},
   "outputs": [],
   "source": [
    "# After dividing up the passenger class into average ages, it is apparent \n",
    "# there is a noteable difference in the average age of each passenger class.\n",
    "# We can confidently replace age in those groups with the median above."
   ]
  },
  {
   "cell_type": "code",
   "execution_count": 4,
   "metadata": {},
   "outputs": [
    {
     "name": "stdout",
     "output_type": "stream",
     "text": [
      "0\n"
     ]
    }
   ],
   "source": [
    "# Inserting values for age\n",
    "titanic.loc[titanic.Age.isnull(), 'Age'] = titanic.groupby(\"Pclass\").Age.transform('median')\n",
    "\n",
    "print(titanic[\"Age\"].isnull().sum())"
   ]
  },
  {
   "cell_type": "code",
   "execution_count": 8,
   "metadata": {},
   "outputs": [
    {
     "data": {
      "text/plain": [
       "PassengerId      0\n",
       "Survived         0\n",
       "Pclass           0\n",
       "Name             0\n",
       "Sex              0\n",
       "Age              0\n",
       "SibSp            0\n",
       "Parch            0\n",
       "Ticket           0\n",
       "Fare             0\n",
       "Cabin          687\n",
       "Embarked         2\n",
       "dtype: int64"
      ]
     },
     "execution_count": 8,
     "metadata": {},
     "output_type": "execute_result"
    }
   ],
   "source": [
    "# Check missing values\n",
    "np.sum(titanic.isnull())"
   ]
  },
  {
   "cell_type": "code",
   "execution_count": 37,
   "metadata": {},
   "outputs": [],
   "source": [
    "# Replace 2 missing values for 'embarked' with 'S' because it occurs the most"
   ]
  },
  {
   "cell_type": "code",
   "execution_count": 5,
   "metadata": {},
   "outputs": [],
   "source": [
    "from statistics import mode\n",
    "titanic[\"Embarked\"] = titanic[\"Embarked\"].fillna(mode(titanic[\"Embarked\"]))"
   ]
  },
  {
   "cell_type": "code",
   "execution_count": 6,
   "metadata": {},
   "outputs": [
    {
     "data": {
      "text/plain": [
       "PassengerId      0\n",
       "Survived         0\n",
       "Pclass           0\n",
       "Name             0\n",
       "Sex              0\n",
       "Age              0\n",
       "SibSp            0\n",
       "Parch            0\n",
       "Ticket           0\n",
       "Fare             0\n",
       "Cabin          687\n",
       "Embarked         0\n",
       "dtype: int64"
      ]
     },
     "execution_count": 6,
     "metadata": {},
     "output_type": "execute_result"
    }
   ],
   "source": [
    "# check missing values\n",
    "np.sum(titanic.isnull())"
   ]
  },
  {
   "cell_type": "code",
   "execution_count": null,
   "metadata": {},
   "outputs": [],
   "source": [
    "# Data transformation"
   ]
  },
  {
   "cell_type": "code",
   "execution_count": 7,
   "metadata": {},
   "outputs": [
    {
     "name": "stderr",
     "output_type": "stream",
     "text": [
      "C:\\Users\\Modeling\\anaconda3\\lib\\site-packages\\ipykernel_launcher.py:2: SettingWithCopyWarning: \n",
      "A value is trying to be set on a copy of a slice from a DataFrame\n",
      "\n",
      "See the caveats in the documentation: https://pandas.pydata.org/pandas-docs/stable/user_guide/indexing.html#returning-a-view-versus-a-copy\n",
      "  \n",
      "C:\\Users\\Modeling\\anaconda3\\lib\\site-packages\\ipykernel_launcher.py:3: SettingWithCopyWarning: \n",
      "A value is trying to be set on a copy of a slice from a DataFrame\n",
      "\n",
      "See the caveats in the documentation: https://pandas.pydata.org/pandas-docs/stable/user_guide/indexing.html#returning-a-view-versus-a-copy\n",
      "  This is separate from the ipykernel package so we can avoid doing imports until\n"
     ]
    }
   ],
   "source": [
    "# transform sex\n",
    "titanic[\"Sex\"][titanic[\"Sex\"] == \"male\"] = 0\n",
    "titanic[\"Sex\"][titanic[\"Sex\"] == \"female\"] = 1"
   ]
  },
  {
   "cell_type": "code",
   "execution_count": 8,
   "metadata": {},
   "outputs": [
    {
     "name": "stderr",
     "output_type": "stream",
     "text": [
      "C:\\Users\\Modeling\\anaconda3\\lib\\site-packages\\ipykernel_launcher.py:2: SettingWithCopyWarning: \n",
      "A value is trying to be set on a copy of a slice from a DataFrame\n",
      "\n",
      "See the caveats in the documentation: https://pandas.pydata.org/pandas-docs/stable/user_guide/indexing.html#returning-a-view-versus-a-copy\n",
      "  \n",
      "C:\\Users\\Modeling\\anaconda3\\lib\\site-packages\\ipykernel_launcher.py:3: SettingWithCopyWarning: \n",
      "A value is trying to be set on a copy of a slice from a DataFrame\n",
      "\n",
      "See the caveats in the documentation: https://pandas.pydata.org/pandas-docs/stable/user_guide/indexing.html#returning-a-view-versus-a-copy\n",
      "  This is separate from the ipykernel package so we can avoid doing imports until\n",
      "C:\\Users\\Modeling\\anaconda3\\lib\\site-packages\\ipykernel_launcher.py:4: SettingWithCopyWarning: \n",
      "A value is trying to be set on a copy of a slice from a DataFrame\n",
      "\n",
      "See the caveats in the documentation: https://pandas.pydata.org/pandas-docs/stable/user_guide/indexing.html#returning-a-view-versus-a-copy\n",
      "  after removing the cwd from sys.path.\n"
     ]
    }
   ],
   "source": [
    "# transform embarked\n",
    "titanic[\"Embarked\"][titanic[\"Embarked\"] == \"S\"] = 0\n",
    "titanic[\"Embarked\"][titanic[\"Embarked\"] == \"C\"] = 1\n",
    "titanic[\"Embarked\"][titanic[\"Embarked\"] == \"Q\"] = 2\n"
   ]
  },
  {
   "cell_type": "code",
   "execution_count": 53,
   "metadata": {},
   "outputs": [
    {
     "data": {
      "text/plain": [
       "PassengerId      int64\n",
       "Survived         int64\n",
       "Pclass           int64\n",
       "Name            object\n",
       "Sex             object\n",
       "Age            float64\n",
       "SibSp            int64\n",
       "Parch            int64\n",
       "Ticket          object\n",
       "Fare           float64\n",
       "Cabin           object\n",
       "Embarked        object\n",
       "dtype: object"
      ]
     },
     "execution_count": 53,
     "metadata": {},
     "output_type": "execute_result"
    }
   ],
   "source": [
    "#show variables by type\n",
    "titanic.dtypes"
   ]
  },
  {
   "cell_type": "code",
   "execution_count": 9,
   "metadata": {},
   "outputs": [
    {
     "data": {
      "text/html": [
       "<div>\n",
       "<style scoped>\n",
       "    .dataframe tbody tr th:only-of-type {\n",
       "        vertical-align: middle;\n",
       "    }\n",
       "\n",
       "    .dataframe tbody tr th {\n",
       "        vertical-align: top;\n",
       "    }\n",
       "\n",
       "    .dataframe thead th {\n",
       "        text-align: right;\n",
       "    }\n",
       "</style>\n",
       "<table border=\"1\" class=\"dataframe\">\n",
       "  <thead>\n",
       "    <tr style=\"text-align: right;\">\n",
       "      <th></th>\n",
       "      <th>Survived</th>\n",
       "      <th>Pclass</th>\n",
       "      <th>Sex</th>\n",
       "      <th>Age</th>\n",
       "      <th>SibSp</th>\n",
       "      <th>Parch</th>\n",
       "      <th>Fare</th>\n",
       "      <th>Embarked</th>\n",
       "    </tr>\n",
       "  </thead>\n",
       "  <tbody>\n",
       "    <tr>\n",
       "      <th>0</th>\n",
       "      <td>0</td>\n",
       "      <td>3</td>\n",
       "      <td>0</td>\n",
       "      <td>22.0</td>\n",
       "      <td>1</td>\n",
       "      <td>0</td>\n",
       "      <td>7.2500</td>\n",
       "      <td>0</td>\n",
       "    </tr>\n",
       "    <tr>\n",
       "      <th>1</th>\n",
       "      <td>1</td>\n",
       "      <td>1</td>\n",
       "      <td>1</td>\n",
       "      <td>38.0</td>\n",
       "      <td>1</td>\n",
       "      <td>0</td>\n",
       "      <td>71.2833</td>\n",
       "      <td>1</td>\n",
       "    </tr>\n",
       "    <tr>\n",
       "      <th>2</th>\n",
       "      <td>1</td>\n",
       "      <td>3</td>\n",
       "      <td>1</td>\n",
       "      <td>26.0</td>\n",
       "      <td>0</td>\n",
       "      <td>0</td>\n",
       "      <td>7.9250</td>\n",
       "      <td>0</td>\n",
       "    </tr>\n",
       "    <tr>\n",
       "      <th>3</th>\n",
       "      <td>1</td>\n",
       "      <td>1</td>\n",
       "      <td>1</td>\n",
       "      <td>35.0</td>\n",
       "      <td>1</td>\n",
       "      <td>0</td>\n",
       "      <td>53.1000</td>\n",
       "      <td>0</td>\n",
       "    </tr>\n",
       "    <tr>\n",
       "      <th>4</th>\n",
       "      <td>0</td>\n",
       "      <td>3</td>\n",
       "      <td>0</td>\n",
       "      <td>35.0</td>\n",
       "      <td>0</td>\n",
       "      <td>0</td>\n",
       "      <td>8.0500</td>\n",
       "      <td>0</td>\n",
       "    </tr>\n",
       "    <tr>\n",
       "      <th>...</th>\n",
       "      <td>...</td>\n",
       "      <td>...</td>\n",
       "      <td>...</td>\n",
       "      <td>...</td>\n",
       "      <td>...</td>\n",
       "      <td>...</td>\n",
       "      <td>...</td>\n",
       "      <td>...</td>\n",
       "    </tr>\n",
       "    <tr>\n",
       "      <th>886</th>\n",
       "      <td>0</td>\n",
       "      <td>2</td>\n",
       "      <td>0</td>\n",
       "      <td>27.0</td>\n",
       "      <td>0</td>\n",
       "      <td>0</td>\n",
       "      <td>13.0000</td>\n",
       "      <td>0</td>\n",
       "    </tr>\n",
       "    <tr>\n",
       "      <th>887</th>\n",
       "      <td>1</td>\n",
       "      <td>1</td>\n",
       "      <td>1</td>\n",
       "      <td>19.0</td>\n",
       "      <td>0</td>\n",
       "      <td>0</td>\n",
       "      <td>30.0000</td>\n",
       "      <td>0</td>\n",
       "    </tr>\n",
       "    <tr>\n",
       "      <th>888</th>\n",
       "      <td>0</td>\n",
       "      <td>3</td>\n",
       "      <td>1</td>\n",
       "      <td>24.0</td>\n",
       "      <td>1</td>\n",
       "      <td>2</td>\n",
       "      <td>23.4500</td>\n",
       "      <td>0</td>\n",
       "    </tr>\n",
       "    <tr>\n",
       "      <th>889</th>\n",
       "      <td>1</td>\n",
       "      <td>1</td>\n",
       "      <td>0</td>\n",
       "      <td>26.0</td>\n",
       "      <td>0</td>\n",
       "      <td>0</td>\n",
       "      <td>30.0000</td>\n",
       "      <td>1</td>\n",
       "    </tr>\n",
       "    <tr>\n",
       "      <th>890</th>\n",
       "      <td>0</td>\n",
       "      <td>3</td>\n",
       "      <td>0</td>\n",
       "      <td>32.0</td>\n",
       "      <td>0</td>\n",
       "      <td>0</td>\n",
       "      <td>7.7500</td>\n",
       "      <td>2</td>\n",
       "    </tr>\n",
       "  </tbody>\n",
       "</table>\n",
       "<p>891 rows × 8 columns</p>\n",
       "</div>"
      ],
      "text/plain": [
       "     Survived  Pclass Sex   Age  SibSp  Parch     Fare Embarked\n",
       "0           0       3   0  22.0      1      0   7.2500        0\n",
       "1           1       1   1  38.0      1      0  71.2833        1\n",
       "2           1       3   1  26.0      0      0   7.9250        0\n",
       "3           1       1   1  35.0      1      0  53.1000        0\n",
       "4           0       3   0  35.0      0      0   8.0500        0\n",
       "..        ...     ...  ..   ...    ...    ...      ...      ...\n",
       "886         0       2   0  27.0      0      0  13.0000        0\n",
       "887         1       1   1  19.0      0      0  30.0000        0\n",
       "888         0       3   1  24.0      1      2  23.4500        0\n",
       "889         1       1   0  26.0      0      0  30.0000        1\n",
       "890         0       3   0  32.0      0      0   7.7500        2\n",
       "\n",
       "[891 rows x 8 columns]"
      ]
     },
     "execution_count": 9,
     "metadata": {},
     "output_type": "execute_result"
    }
   ],
   "source": [
    "# Here we are dropping \"Name\", \"Ticket\", \"Passenger ID\" and \"Cabin\" as these are not intuitve\n",
    "# to analysis, have too many missing values, and/or add the need for more processing resources while not contributing to analysis\n",
    "\n",
    "\n",
    "titanic = titanic[['Survived','Pclass','Sex','Age','SibSp','Parch','Fare','Embarked']].copy()\n",
    "titanic"
   ]
  },
  {
   "cell_type": "code",
   "execution_count": 10,
   "metadata": {},
   "outputs": [],
   "source": [
    "features_train, features_test, target_train, target_test = train_test_split(\n",
    "    titanic.iloc[:,1:].values, titanic.iloc[:,0].values, test_size=0.4, random_state=0)"
   ]
  },
  {
   "cell_type": "code",
   "execution_count": 11,
   "metadata": {},
   "outputs": [
    {
     "name": "stdout",
     "output_type": "stream",
     "text": [
      "(357, 7)\n",
      "(534, 7)\n",
      "(357,)\n",
      "(534,)\n"
     ]
    }
   ],
   "source": [
    "# confirm split\n",
    "print(features_test.shape)\n",
    "print(features_train.shape)\n",
    "print(target_test.shape)\n",
    "print(target_train.shape)"
   ]
  },
  {
   "cell_type": "code",
   "execution_count": null,
   "metadata": {},
   "outputs": [],
   "source": [
    "## KNN ##"
   ]
  },
  {
   "cell_type": "code",
   "execution_count": 12,
   "metadata": {},
   "outputs": [],
   "source": [
    "knn_df1 = titanic.filter(['PassengerId','Pclass','Sex','Age','SibSp','Parch','Fare','Embarked'].copy(), axis=1)\n",
    "knn_df2 = titanic['Survived']"
   ]
  },
  {
   "cell_type": "code",
   "execution_count": 13,
   "metadata": {},
   "outputs": [],
   "source": [
    "# KNN 3\n",
    "from sklearn.neighbors import KNeighborsClassifier\n",
    "knn = KNeighborsClassifier(n_neighbors = 3)\n",
    "knn = knn.fit(features_train, target_train)\n",
    "\n",
    "\n",
    "knn_predict = knn.predict(features_test)"
   ]
  },
  {
   "cell_type": "code",
   "execution_count": 14,
   "metadata": {},
   "outputs": [
    {
     "name": "stdout",
     "output_type": "stream",
     "text": [
      "CV Score for each K [0.80555556 0.63888889 0.61111111 0.63888889 0.66666667 0.58333333\n",
      " 0.66666667 0.57142857 0.6        0.68571429]\n",
      "CV mean score:  0.6468253968253969\n"
     ]
    }
   ],
   "source": [
    "# Cross Validation KNN = 3\n",
    "knn_cross_validate_scores = cross_val_score(knn, features_test, target_test, cv=10)\n",
    "print('CV Score for each K', knn_cross_validate_scores)\n",
    "print('CV mean score: ', knn_cross_validate_scores.mean())"
   ]
  },
  {
   "cell_type": "code",
   "execution_count": 15,
   "metadata": {},
   "outputs": [
    {
     "name": "stdout",
     "output_type": "stream",
     "text": [
      "KNN accuracy score:  0.6834733893557423\n",
      "              precision    recall  f1-score   support\n",
      "\n",
      "           0       0.72      0.81      0.76       221\n",
      "           1       0.61      0.48      0.53       136\n",
      "\n",
      "    accuracy                           0.68       357\n",
      "   macro avg       0.66      0.64      0.65       357\n",
      "weighted avg       0.67      0.68      0.67       357\n",
      "\n",
      "[[179  42]\n",
      " [ 71  65]]\n"
     ]
    }
   ],
   "source": [
    "# classification and confusion matrix \n",
    "print(\"KNN accuracy score: \",accuracy_score(target_test,knn_predict))\n",
    "print(classification_report(target_test, knn_predict))\n",
    "print(confusion_matrix(target_test, knn_predict))"
   ]
  },
  {
   "cell_type": "code",
   "execution_count": 16,
   "metadata": {},
   "outputs": [],
   "source": [
    "# KNN = 5\n",
    "knn = KNeighborsClassifier(n_neighbors = 5)\n",
    "knn = knn.fit(features_train, target_train)\n",
    "\n",
    "# predicting using test set\n",
    "knn_predict = knn.predict(features_test)"
   ]
  },
  {
   "cell_type": "code",
   "execution_count": 17,
   "metadata": {},
   "outputs": [
    {
     "name": "stdout",
     "output_type": "stream",
     "text": [
      "CV Score for each K [0.83333333 0.69444444 0.69444444 0.75       0.66666667 0.61111111\n",
      " 0.75       0.62857143 0.68571429 0.71428571]\n",
      "CV mean score:  0.7028571428571428\n"
     ]
    }
   ],
   "source": [
    "# Cross Validation KNN = 5\n",
    "knn_cross_validate_scores = cross_val_score(knn, features_test, target_test, cv=10)\n",
    "print('CV Score for each K', knn_cross_validate_scores)\n",
    "print('CV mean score: ', knn_cross_validate_scores.mean())"
   ]
  },
  {
   "cell_type": "code",
   "execution_count": 18,
   "metadata": {},
   "outputs": [
    {
     "name": "stdout",
     "output_type": "stream",
     "text": [
      "KNN accuracy score:  0.711484593837535\n",
      "              precision    recall  f1-score   support\n",
      "\n",
      "           0       0.73      0.84      0.78       221\n",
      "           1       0.66      0.51      0.57       136\n",
      "\n",
      "    accuracy                           0.71       357\n",
      "   macro avg       0.70      0.67      0.68       357\n",
      "weighted avg       0.70      0.71      0.70       357\n",
      "\n",
      "[[185  36]\n",
      " [ 67  69]]\n"
     ]
    }
   ],
   "source": [
    "# classification and confusion matrix \n",
    "print(\"KNN accuracy score: \",accuracy_score(target_test,knn_predict))\n",
    "print(classification_report(target_test, knn_predict))\n",
    "print(confusion_matrix(target_test, knn_predict))"
   ]
  },
  {
   "cell_type": "code",
   "execution_count": 19,
   "metadata": {},
   "outputs": [],
   "source": [
    "# KNN 7\n",
    "knn = KNeighborsClassifier(n_neighbors = 7)\n",
    "knn = knn.fit(features_train, target_train)\n",
    "\n",
    "# predicting using test set\n",
    "knn_predict = knn.predict(features_test)"
   ]
  },
  {
   "cell_type": "code",
   "execution_count": 20,
   "metadata": {},
   "outputs": [
    {
     "name": "stdout",
     "output_type": "stream",
     "text": [
      "CV Score for each K [0.86111111 0.66666667 0.72222222 0.75       0.69444444 0.61111111\n",
      " 0.72222222 0.62857143 0.74285714 0.71428571]\n",
      "CV mean score:  0.7113492063492064\n"
     ]
    }
   ],
   "source": [
    "# Cross Validation KNN = 7\n",
    "knn_cross_validate_scores = cross_val_score(knn, features_test, target_test, cv=10)\n",
    "print('CV Score for each K', knn_cross_validate_scores)\n",
    "print('CV mean score: ', knn_cross_validate_scores.mean())"
   ]
  },
  {
   "cell_type": "code",
   "execution_count": 21,
   "metadata": {},
   "outputs": [
    {
     "name": "stdout",
     "output_type": "stream",
     "text": [
      "KNN accuracy score:  0.6946778711484594\n",
      "              precision    recall  f1-score   support\n",
      "\n",
      "           0       0.72      0.83      0.77       221\n",
      "           1       0.63      0.47      0.54       136\n",
      "\n",
      "    accuracy                           0.69       357\n",
      "   macro avg       0.68      0.65      0.66       357\n",
      "weighted avg       0.69      0.69      0.68       357\n",
      "\n",
      "[[184  37]\n",
      " [ 72  64]]\n"
     ]
    }
   ],
   "source": [
    "# classification and confusion matrix KNN = 7\n",
    "print(\"KNN accuracy score: \",accuracy_score(target_test,knn_predict))\n",
    "print(classification_report(target_test, knn_predict))\n",
    "print(confusion_matrix(target_test, knn_predict))"
   ]
  },
  {
   "cell_type": "code",
   "execution_count": null,
   "metadata": {},
   "outputs": [],
   "source": [
    "# I ran three different models with n-neighbor classifiers of 3,5 and 7. The\n",
    "# Knn-5 is the default value for KNN models, however it performed the best.\n",
    "# We do not have to worry about over fitting with KNN models.\n",
    "# I saw a slight increase in accuracy for KNN-5 \n",
    "# vs. KNN-3 and KNN-7. There is also an increase in precision and recall statistics\n",
    "# for KNN-5 vs. KNN-3 and KNN-7."
   ]
  },
  {
   "cell_type": "code",
   "execution_count": null,
   "metadata": {},
   "outputs": [],
   "source": [
    "## Decision Tree ##"
   ]
  },
  {
   "cell_type": "code",
   "execution_count": null,
   "metadata": {},
   "outputs": [],
   "source": [
    "# First we will create the default, then fit and test the parameters."
   ]
  },
  {
   "cell_type": "code",
   "execution_count": 22,
   "metadata": {},
   "outputs": [],
   "source": [
    "# train DT model\n",
    "decision_tree = tree.DecisionTreeClassifier()\n",
    "# fit the DT model\n",
    "decision_tree = decision_tree.fit(features_train, target_train)\n",
    "# test the DT model\n",
    "target_predicted_dt = decision_tree.predict(features_test)"
   ]
  },
  {
   "cell_type": "code",
   "execution_count": 23,
   "metadata": {},
   "outputs": [
    {
     "name": "stdout",
     "output_type": "stream",
     "text": [
      "Cross Validation Score for each K [0.75925926 0.81481481 0.7962963  0.74074074 0.75471698 0.75471698\n",
      " 0.64150943 0.81132075 0.71698113 0.8490566 ]\n",
      "Cross Validation mean score:  0.7639412997903563\n"
     ]
    }
   ],
   "source": [
    "#Cross Validate Default Tree\n",
    "\n",
    "#verify DT with Cross Validation\n",
    "scores = cross_val_score(decision_tree, features_train, target_train, cv=10)\n",
    "print(\"Cross Validation Score for each K\",scores)\n",
    "print('Cross Validation mean score: ', scores.mean())"
   ]
  },
  {
   "cell_type": "code",
   "execution_count": 24,
   "metadata": {},
   "outputs": [
    {
     "name": "stdout",
     "output_type": "stream",
     "text": [
      "Decision Tree accuracy score:  0.7366946778711485\n",
      "              precision    recall  f1-score   support\n",
      "\n",
      "           0       0.77      0.82      0.79       221\n",
      "           1       0.68      0.60      0.63       136\n",
      "\n",
      "    accuracy                           0.74       357\n",
      "   macro avg       0.72      0.71      0.71       357\n",
      "weighted avg       0.73      0.74      0.73       357\n",
      "\n",
      "[[182  39]\n",
      " [ 55  81]]\n"
     ]
    }
   ],
   "source": [
    "#Confusion Matrix Decision Tree\n",
    "\n",
    "print(\"Decision Tree accuracy score: \",accuracy_score(target_test,target_predicted_dt))\n",
    "target_names_dt = [\"0\", \"1\"]\n",
    "print(classification_report(target_test, target_predicted_dt, target_names=target_names_dt))\n",
    "print(confusion_matrix(target_test, target_predicted_dt, ))"
   ]
  },
  {
   "cell_type": "code",
   "execution_count": null,
   "metadata": {},
   "outputs": [],
   "source": [
    "# I created a decision tree from the data. The accuracy of the default model\n",
    "# is 73.66%. I cross validated with 10 repeats. This default model is \n",
    "# better at classifying not survived than survived passengers."
   ]
  },
  {
   "cell_type": "code",
   "execution_count": 26,
   "metadata": {},
   "outputs": [
    {
     "name": "stdout",
     "output_type": "stream",
     "text": [
      "Cross Validation Score for each K [0.77777778 0.88888889 0.77777778 0.77777778 0.86792453 0.77358491\n",
      " 0.77358491 0.86792453 0.83018868 0.83018868]\n",
      "Cross Validation mean score:  0.8165618448637316\n",
      "Decision Tree2 accuracy score:  0.8011204481792717\n",
      "              precision    recall  f1-score   support\n",
      "\n",
      "           0       0.85      0.83      0.84       221\n",
      "           1       0.73      0.76      0.74       136\n",
      "\n",
      "    accuracy                           0.80       357\n",
      "   macro avg       0.79      0.79      0.79       357\n",
      "weighted avg       0.80      0.80      0.80       357\n",
      "\n",
      "[[183  38]\n",
      " [ 33 103]]\n"
     ]
    }
   ],
   "source": [
    "# Decision Tree 2: Max leaf nodes =10, class weight = balanced\n",
    "\n",
    "# train DT2 model\n",
    "decision_tree2 = tree.DecisionTreeClassifier(max_leaf_nodes = 10 ,class_weight='balanced')\n",
    "# fit the DT2 model\n",
    "decision_tree2 = decision_tree2.fit(features_train, target_train)\n",
    "# test the DT2 model\n",
    "target_predicted_dt2 = decision_tree2.predict(features_test)\n",
    "# verify DT2 with Cross Validation\n",
    "scores = cross_val_score(decision_tree2, features_train, target_train, cv=10)\n",
    "print(\"Cross Validation Score for each K\",scores)\n",
    "print('Cross Validation mean score: ', scores.mean()) \n",
    "# confusion matrix DT2\n",
    "print(\"Decision Tree2 accuracy score: \",accuracy_score(target_test,target_predicted_dt2))\n",
    "target_names_dt2 = [\"0\", \"1\"]\n",
    "print(classification_report(target_test, target_predicted_dt2, target_names=target_names_dt2))\n",
    "print(confusion_matrix(target_test, target_predicted_dt2))"
   ]
  },
  {
   "cell_type": "code",
   "execution_count": null,
   "metadata": {},
   "outputs": [],
   "source": [
    "# After viewing the default, I changed some of the parameters adding \n",
    "# max leaf nodes = 10, and a balanced weight class in search of getting a \n",
    "# stonger model. With the new parameters, the accuracy has increased to\n",
    "# ~ 80%. Precision, recall, and f-1 have all increased. I will continue to \n",
    "# adjust parameters to increase the stregth of the model."
   ]
  },
  {
   "cell_type": "code",
   "execution_count": 37,
   "metadata": {},
   "outputs": [
    {
     "name": "stdout",
     "output_type": "stream",
     "text": [
      "Cross Validation Score for each K [0.75925926 0.83333333 0.85185185 0.7037037  0.79245283 0.77358491\n",
      " 0.66037736 0.83018868 0.71698113 0.79245283]\n",
      "Cross Validation mean score:  0.7714185883997204\n",
      "Decision Tree2 accuracy score:  0.7871148459383753\n",
      "              precision    recall  f1-score   support\n",
      "\n",
      "           0       0.84      0.81      0.83       221\n",
      "           1       0.71      0.74      0.73       136\n",
      "\n",
      "    accuracy                           0.79       357\n",
      "   macro avg       0.77      0.78      0.78       357\n",
      "weighted avg       0.79      0.79      0.79       357\n",
      "\n",
      "[[180  41]\n",
      " [ 35 101]]\n"
     ]
    }
   ],
   "source": [
    "# Decision Tree 3: Max leaf nodes =100, class weight = balanced\n",
    "\n",
    "# train DT3 model\n",
    "decision_tree3 = tree.DecisionTreeClassifier(max_leaf_nodes = 100, class_weight = 'balanced')\n",
    "# fit the DT3 model\n",
    "decision_tree3 = decision_tree3.fit(features_train, target_train)\n",
    "# test the DT3 model\n",
    "target_predicted_dt3 = decision_tree3.predict(features_test)\n",
    "# verify DT3 with Cross Validation\n",
    "scores = cross_val_score(decision_tree3, features_train, target_train, cv=10)\n",
    "print(\"Cross Validation Score for each K\",scores)\n",
    "print('Cross Validation mean score: ', scores.mean()) \n",
    "# confusion matrix DT3\n",
    "print(\"Decision Tree2 accuracy score: \",accuracy_score(target_test,target_predicted_dt3))\n",
    "target_names_dt3 = [\"0\", \"1\"]\n",
    "print(classification_report(target_test, target_predicted_dt3, target_names=target_names_dt3))\n",
    "print(confusion_matrix(target_test, target_predicted_dt3))"
   ]
  },
  {
   "cell_type": "code",
   "execution_count": null,
   "metadata": {},
   "outputs": [],
   "source": [
    "# Because there was only a slight increase in recall, I increased the max leaf\n",
    "# nodes = 100 and kept the others constant to increase the strength of the model.\n",
    "# With this, the accuracy has gone down, along with precision and recall statistics.\n",
    "# Decision Tree 2 seems to currently be the strongest model."
   ]
  },
  {
   "cell_type": "code",
   "execution_count": 47,
   "metadata": {},
   "outputs": [],
   "source": [
    "# Grid Search Decision Tree\n",
    "grid_param = {'min_samples_split': [2, 5, 10, 20],'max_features': [2, 3, 4, 5, 6, 7],'max_leaf_nodes': [10, 30, 75, 100]}"
   ]
  },
  {
   "cell_type": "code",
   "execution_count": 48,
   "metadata": {},
   "outputs": [
    {
     "name": "stdout",
     "output_type": "stream",
     "text": [
      "BEST ESTM:  DecisionTreeClassifier(ccp_alpha=0.0, class_weight=None, criterion='gini',\n",
      "                       max_depth=None, max_features=5, max_leaf_nodes=10,\n",
      "                       min_impurity_decrease=0.0, min_impurity_split=None,\n",
      "                       min_samples_leaf=1, min_samples_split=10,\n",
      "                       min_weight_fraction_leaf=0.0, presort='deprecated',\n",
      "                       random_state=None, splitter='best')\n",
      "BEST SCORE:  0.8314116002795249\n",
      "BEST PARAM:  {'max_features': 5, 'max_leaf_nodes': 10, 'min_samples_split': 10}\n"
     ]
    }
   ],
   "source": [
    "grid_dt = GridSearchCV(decision_tree, param_grid = grid_param, scoring='accuracy',cv=10)\n",
    "grid_dt.fit(features_train, target_train)\n",
    "\n",
    "print(\"BEST ESTM: \",grid_dt.best_estimator_)\n",
    "print(\"BEST SCORE: \", grid_dt.best_score_)\n",
    "print(\"BEST PARAM: \", grid_dt.best_params_)"
   ]
  },
  {
   "cell_type": "code",
   "execution_count": 50,
   "metadata": {},
   "outputs": [
    {
     "name": "stdout",
     "output_type": "stream",
     "text": [
      "Cross Validation Score for each K [0.7962963  0.90740741 0.81481481 0.7962963  0.83018868 0.73584906\n",
      " 0.79245283 0.8490566  0.83018868 0.81132075]\n",
      "Cross Validation mean score:  0.81638714185884\n",
      "Decision Tree Best accuracy score:  0.8067226890756303\n",
      "              precision    recall  f1-score   support\n",
      "\n",
      "           0       0.80      0.92      0.85       221\n",
      "           1       0.83      0.62      0.71       136\n",
      "\n",
      "    accuracy                           0.81       357\n",
      "   macro avg       0.81      0.77      0.78       357\n",
      "weighted avg       0.81      0.81      0.80       357\n",
      "\n",
      "[[203  18]\n",
      " [ 51  85]]\n"
     ]
    }
   ],
   "source": [
    "# Decision Tree 4: Best\n",
    "\n",
    "# train DT Best model\n",
    "decision_tree_best = tree.DecisionTreeClassifier(max_features= 5, max_leaf_nodes= 10, min_samples_split= 10)\n",
    "# fit the DT Best model\n",
    "decision_tree_best = decision_tree_best.fit(features_train, target_train)\n",
    "# test the DT Best model\n",
    "target_predicted_dtbest = decision_tree_best.predict(features_test)\n",
    "# verify DT Best with Cross Validation\n",
    "scores = cross_val_score(decision_tree_best, features_train, target_train, cv=10)\n",
    "print(\"Cross Validation Score for each K\",scores)\n",
    "print('Cross Validation mean score: ', scores.mean()) \n",
    "# confusion matrix DTBest\n",
    "print(\"Decision Tree Best accuracy score: \",accuracy_score(target_test,target_predicted_dtbest))\n",
    "target_names_dtbest = [\"0\", \"1\"]\n",
    "print(classification_report(target_test, target_predicted_dtbest, target_names=target_names_dtbest))\n",
    "print(confusion_matrix(target_test, target_predicted_dtbest))"
   ]
  },
  {
   "cell_type": "code",
   "execution_count": null,
   "metadata": {},
   "outputs": [],
   "source": [
    "# To most successfully tune our hyperparameters, we utilized gridsearch.\n",
    "# Gridsearch suggested that we use 5 features, 10 leaf nodes, and a min sample\n",
    "# split of 10. When compared to the Decision Tree 2, the CV mean score, and the\n",
    "# accuracy score were practically the same. However, the weighed average accuracy\n",
    "# increased when utilizing gridsearch. Our best decision tree model is model\n",
    "# number 4"
   ]
  },
  {
   "cell_type": "code",
   "execution_count": 265,
   "metadata": {},
   "outputs": [
    {
     "name": "stdout",
     "output_type": "stream",
     "text": [
      "Features sorted by their score:\n",
      "Higher the more important\n",
      "[(0.6130191, 'Sex'), (0.169758, 'Pclass'), (0.1248619, 'Fare'), (0.092361, 'Age'), (0.0, 'SibSp'), (0.0, 'Parch')]\n"
     ]
    }
   ],
   "source": [
    "print(\"Features sorted by their score:\")\n",
    "print(\"Higher the more important\")\n",
    "print(sorted(zip(map(lambda x: round(x, 7), decision_tree_best.feature_importances_),titanic.columns[1:7]), \n",
    "             reverse=True))"
   ]
  },
  {
   "cell_type": "code",
   "execution_count": null,
   "metadata": {},
   "outputs": [],
   "source": [
    "# Here we can see the importance of each feature, and how well they add to the \n",
    "# proper classification of survivors. It seems that sex is the strongest predictor\n",
    "# to weather or not a passenger would survive."
   ]
  },
  {
   "cell_type": "code",
   "execution_count": null,
   "metadata": {},
   "outputs": [],
   "source": [
    "## AdaBoost Decision Tree"
   ]
  },
  {
   "cell_type": "code",
   "execution_count": 53,
   "metadata": {},
   "outputs": [
    {
     "name": "stdout",
     "output_type": "stream",
     "text": [
      "Adaboost Accuracy 0.8235294117647058\n",
      "              precision    recall  f1-score   support\n",
      "\n",
      "           0       0.83      0.89      0.86       221\n",
      "           1       0.80      0.71      0.75       136\n",
      "\n",
      "    accuracy                           0.82       357\n",
      "   macro avg       0.82      0.80      0.81       357\n",
      "weighted avg       0.82      0.82      0.82       357\n",
      "\n",
      "[[197  24]\n",
      " [ 39  97]]\n"
     ]
    }
   ],
   "source": [
    "\n",
    "from sklearn.ensemble import AdaBoostClassifier\n",
    "from sklearn.tree import DecisionTreeClassifier\n",
    "bdt = AdaBoostClassifier(DecisionTreeClassifier(max_depth=3, max_features= 5, max_leaf_nodes= 10, min_samples_split= 10),\n",
    "                         algorithm=\"SAMME\",\n",
    "                         n_estimators=200)\n",
    "bdt.fit(features_train, target_train)\n",
    "predicted_bdt=bdt.predict(features_test)\n",
    "expected = target_test\n",
    "print(\"Adaboost Accuracy\", accuracy_score(expected,predicted_bdt))\n",
    "print(classification_report(expected, predicted_bdt,target_names=['0', '1']))\n",
    "print(confusion_matrix(expected, predicted_bdt))"
   ]
  },
  {
   "cell_type": "code",
   "execution_count": null,
   "metadata": {},
   "outputs": [],
   "source": [
    "# After using gridsearch to find the best parameters, I decided to use those\n",
    "# parameters in combination with the AdaBoost Classifier. This increased the \n",
    "# strength of the model across the board. Adaboosted Decision Tree with \n",
    "# respective parameters is our preferred Decision Tree model."
   ]
  },
  {
   "cell_type": "code",
   "execution_count": 60,
   "metadata": {},
   "outputs": [
    {
     "name": "stdout",
     "output_type": "stream",
     "text": [
      "Features sorted by their score:\n",
      "Higher the more important\n",
      "[(0.3243417, 'Age'), (0.0797912, 'Sex'), (0.0457439, 'SibSp'), (0.0354762, 'Pclass')]\n"
     ]
    }
   ],
   "source": [
    "print(\"Features sorted by their score:\")\n",
    "print(\"Higher the more important\")\n",
    "print(sorted(zip(map(lambda x: round(x, 7), bdt.feature_importances_),titanic.columns[1:5]), \n",
    "             reverse=True))"
   ]
  },
  {
   "cell_type": "code",
   "execution_count": null,
   "metadata": {},
   "outputs": [],
   "source": [
    "# After running feature importance on the preffered Decision Tree model,\n",
    "# we get a different output regarding the predictive power of each feature.\n",
    "# This model considers age to be a better explainer of survival vs. sex.  \n",
    "# However, we have to remember that we grouped age with consideration of the\n",
    "# passenger class. We will continue to analyze the feature importance to gain\n",
    "# a better understand on what the major contributors to survival are. "
   ]
  },
  {
   "cell_type": "code",
   "execution_count": null,
   "metadata": {},
   "outputs": [],
   "source": [
    "## Random Forest"
   ]
  },
  {
   "cell_type": "code",
   "execution_count": 56,
   "metadata": {},
   "outputs": [],
   "source": [
    "# Default RF\n",
    "# train RF model\n",
    "rf = RandomForestClassifier()\n",
    "# fit the RF model\n",
    "rf = rf.fit(features_train, target_train)\n",
    "# test the RF model\n",
    "target_predicted_rf = rf.predict(features_test)"
   ]
  },
  {
   "cell_type": "code",
   "execution_count": 57,
   "metadata": {},
   "outputs": [
    {
     "name": "stdout",
     "output_type": "stream",
     "text": [
      "Cross Validation Score for each K [0.75925926 0.85185185 0.81481481 0.7962963  0.86792453 0.69811321\n",
      " 0.71698113 0.81132075 0.81132075 0.83018868]\n",
      "Cross Validation mean score:  0.7958071278825994\n"
     ]
    }
   ],
   "source": [
    "# Cross validate\n",
    "\n",
    "scores_rf = cross_val_score(rf, features_train, target_train, cv=10, n_jobs=-1)\n",
    "print(\"Cross Validation Score for each K\",scores_rf)\n",
    "print('Cross Validation mean score: ', scores_rf.mean())"
   ]
  },
  {
   "cell_type": "code",
   "execution_count": 58,
   "metadata": {},
   "outputs": [
    {
     "name": "stdout",
     "output_type": "stream",
     "text": [
      "Random Forest accuracy score:  0.8067226890756303\n",
      "              precision    recall  f1-score   support\n",
      "\n",
      "           0       0.83      0.87      0.85       221\n",
      "           1       0.77      0.71      0.74       136\n",
      "\n",
      "    accuracy                           0.81       357\n",
      "   macro avg       0.80      0.79      0.79       357\n",
      "weighted avg       0.80      0.81      0.80       357\n",
      "\n",
      "[[192  29]\n",
      " [ 40  96]]\n"
     ]
    }
   ],
   "source": [
    "# Confusion matrix\n",
    "\n",
    "print(\"Random Forest accuracy score: \",accuracy_score(target_test,target_predicted_rf))\n",
    "target_names_rf = [\"0\", \"1\"]\n",
    "print(classification_report(target_test, target_predicted_rf, target_names=target_names_rf))\n",
    "print(confusion_matrix(target_test, target_predicted_rf))"
   ]
  },
  {
   "cell_type": "code",
   "execution_count": null,
   "metadata": {},
   "outputs": [],
   "source": [
    "# After creating a Random Forest model, the accuracy is ~ 80%, with precision,\n",
    "# recall, and f-1 scores at 80%, 79%, and 80% respectivly. We will continue\n",
    "# to adjust hyperparameters in search of increasing these metrics."
   ]
  },
  {
   "cell_type": "code",
   "execution_count": 266,
   "metadata": {},
   "outputs": [
    {
     "name": "stderr",
     "output_type": "stream",
     "text": [
      "C:\\Users\\Modeling\\anaconda3\\lib\\site-packages\\ipykernel_launcher.py:4: DeprecationWarning: time.clock has been deprecated in Python 3.3 and will be removed from Python 3.8: use time.perf_counter or time.process_time instead\n",
      "  after removing the cwd from sys.path.\n"
     ]
    },
    {
     "name": "stdout",
     "output_type": "stream",
     "text": [
      "Time to run 2.2537172000156716 seconds\n",
      "{'mean_fit_time': array([0.21502547, 0.21821699, 0.21941552, 0.231182  , 0.2086484 ]), 'std_fit_time': array([0.00566276, 0.003646  , 0.00296326, 0.00589683, 0.0346643 ]), 'mean_score_time': array([0.01336474, 0.0135632 , 0.01296301, 0.01276565, 0.00917549]), 'std_score_time': array([0.00048856, 0.00048788, 0.00063063, 0.00074648, 0.00193362]), 'param_max_features': masked_array(data=[2, 3, 4, 5, 6],\n",
      "             mask=[False, False, False, False, False],\n",
      "       fill_value='?',\n",
      "            dtype=object), 'params': [{'max_features': 2}, {'max_features': 3}, {'max_features': 4}, {'max_features': 5}, {'max_features': 6}], 'split0_test_score': array([0.79439252, 0.80373832, 0.8317757 , 0.81308411, 0.80373832]), 'split1_test_score': array([0.80373832, 0.81308411, 0.80373832, 0.81308411, 0.8411215 ]), 'split2_test_score': array([0.77570093, 0.78504673, 0.76635514, 0.76635514, 0.75700935]), 'split3_test_score': array([0.76635514, 0.76635514, 0.77570093, 0.77570093, 0.77570093]), 'split4_test_score': array([0.81132075, 0.82075472, 0.81132075, 0.80188679, 0.81132075]), 'mean_test_score': array([0.79030153, 0.7977958 , 0.79777817, 0.79402222, 0.79777817]), 'std_test_score': array([0.01688608, 0.01973429, 0.02387286, 0.01944068, 0.02914471]), 'rank_test_score': array([5, 1, 2, 4, 2])}\n"
     ]
    },
    {
     "name": "stderr",
     "output_type": "stream",
     "text": [
      "C:\\Users\\Modeling\\anaconda3\\lib\\site-packages\\ipykernel_launcher.py:11: DeprecationWarning: time.clock has been deprecated in Python 3.3 and will be removed from Python 3.8: use time.perf_counter or time.process_time instead\n",
      "  # This is added back by InteractiveShellApp.init_path()\n"
     ]
    }
   ],
   "source": [
    "# Gridsearch to identify features\n",
    "# use a full grid over all parameters\n",
    "param_grid = {\"max_features\": [2, 3, 4, 5, 6,]}\n",
    "start_time = time.clock()\n",
    "\n",
    "# run grid search\n",
    "grid_search = GridSearchCV(rf, param_grid=param_grid,n_jobs=-1)\n",
    "\n",
    "grid_search.fit(features_train, target_train)\n",
    "\n",
    "print(\"Time to run\", time.clock() - start_time, \"seconds\")\n",
    "print(grid_search.cv_results_)"
   ]
  },
  {
   "cell_type": "code",
   "execution_count": 267,
   "metadata": {},
   "outputs": [
    {
     "name": "stdout",
     "output_type": "stream",
     "text": [
      "Features sorted by their score:\n",
      "Higher the more important\n",
      "[(0.2643, 'Sex'), (0.2611, 'Age'), (0.2551, 'Fare'), (0.0898, 'Pclass'), (0.0532, 'SibSp'), (0.0382, 'Parch'), (0.0382, 'Embarked')]\n"
     ]
    }
   ],
   "source": [
    "#Feature Importance\n",
    "print(\"Features sorted by their score:\")\n",
    "print(\"Higher the more important\")\n",
    "print(sorted(zip(map(lambda x: round(x, 4), rf.feature_importances_),titanic.columns[1:100]), \n",
    "             reverse=True))"
   ]
  },
  {
   "cell_type": "code",
   "execution_count": 77,
   "metadata": {},
   "outputs": [
    {
     "name": "stdout",
     "output_type": "stream",
     "text": [
      "Cross Validation Score for each K [0.74074074 0.87037037 0.81481481 0.77777778 0.8490566  0.71698113\n",
      " 0.71698113 0.81132075 0.81132075 0.83018868]\n",
      "Cross Validation mean score:  0.7939552760307478\n",
      "Random Forest accuracy score:  0.7927170868347339\n",
      "              precision    recall  f1-score   support\n",
      "\n",
      "           0       0.82      0.85      0.84       221\n",
      "           1       0.74      0.70      0.72       136\n",
      "\n",
      "    accuracy                           0.79       357\n",
      "   macro avg       0.78      0.77      0.78       357\n",
      "weighted avg       0.79      0.79      0.79       357\n",
      "\n",
      "[[188  33]\n",
      " [ 41  95]]\n"
     ]
    }
   ],
   "source": [
    "# Random Forest 2: estimators = 500, jobs =-1, oob score = True\n",
    "\n",
    "# train RF2 model\n",
    "rf2 = RandomForestClassifier(n_estimators= 500, n_jobs=-1,oob_score=True)\n",
    "# fit the RF2 model\n",
    "rf2 = rf2.fit(features_train, target_train)\n",
    "# test the RF2 model\n",
    "target_predicted_rf2 = rf2.predict(features_test)\n",
    "# cross validate RF2 model\n",
    "scores_rf2 = cross_val_score(rf2, features_train, target_train, cv=10, n_jobs=-1)\n",
    "print(\"Cross Validation Score for each K\",scores_rf2)\n",
    "print('Cross Validation mean score: ', scores_rf2.mean())\n",
    "# confusion matrix RF2 model\n",
    "print(\"Random Forest accuracy score: \",accuracy_score(target_test,target_predicted_rf2))\n",
    "target_names_rf2 = [\"0\", \"1\"]\n",
    "print(classification_report(target_test, target_predicted_rf2, target_names=target_names_rf2))\n",
    "print(confusion_matrix(target_test, target_predicted_rf2))"
   ]
  },
  {
   "cell_type": "code",
   "execution_count": null,
   "metadata": {},
   "outputs": [],
   "source": [
    "# After increasing the number of bootstrapped trees to 500, jobs =-1, and \n",
    "# oob score = true, the model returned a very similar output, however slightly\n",
    "# decreasing all accuracy statistics."
   ]
  },
  {
   "cell_type": "code",
   "execution_count": 76,
   "metadata": {},
   "outputs": [
    {
     "name": "stdout",
     "output_type": "stream",
     "text": [
      "Cross Validation Score for each K [0.75925926 0.85185185 0.81481481 0.77777778 0.8490566  0.73584906\n",
      " 0.71698113 0.81132075 0.81132075 0.83018868]\n",
      "Cross Validation mean score:  0.7958420684835779\n",
      "Random Forest accuracy score:  0.7983193277310925\n",
      "              precision    recall  f1-score   support\n",
      "\n",
      "           0       0.83      0.86      0.84       221\n",
      "           1       0.75      0.71      0.73       136\n",
      "\n",
      "    accuracy                           0.80       357\n",
      "   macro avg       0.79      0.78      0.78       357\n",
      "weighted avg       0.80      0.80      0.80       357\n",
      "\n",
      "[[189  32]\n",
      " [ 40  96]]\n"
     ]
    }
   ],
   "source": [
    "# Random Forest 3: estimators = 100, jobs =-1, oob score = True\n",
    "\n",
    "\n",
    "# train RF3 model\n",
    "rf3 = RandomForestClassifier(n_estimators= 100, n_jobs=-1,oob_score=True)\n",
    "# fit the RF3 model\n",
    "rf3 = rf3.fit(features_train, target_train)\n",
    "# test the RF3 model\n",
    "target_predicted_rf3 = rf3.predict(features_test)\n",
    "# cross validate RF3 model\n",
    "scores_rf3 = cross_val_score(rf3, features_train, target_train, cv=10, n_jobs=-1)\n",
    "print(\"Cross Validation Score for each K\",scores_rf3)\n",
    "print('Cross Validation mean score: ', scores_rf3.mean())\n",
    "# confusion matrix RF3 model\n",
    "print(\"Random Forest accuracy score: \",accuracy_score(target_test,target_predicted_rf3))\n",
    "target_names_rf3 = [\"0\", \"1\"]\n",
    "print(classification_report(target_test, target_predicted_rf3, target_names=target_names_rf3))\n",
    "print(confusion_matrix(target_test, target_predicted_rf3))"
   ]
  },
  {
   "cell_type": "code",
   "execution_count": 9,
   "metadata": {},
   "outputs": [],
   "source": [
    "# After changing the number of bootstrapped trees to 100, jobs =-1, and \n",
    "# oob score = true, the model returned a very similar output to the default,\n",
    "# however slightly decreasing accuracy and recall statistics."
   ]
  },
  {
   "cell_type": "code",
   "execution_count": 84,
   "metadata": {},
   "outputs": [],
   "source": [
    "# Gridsearch Random Forest\n",
    "\n",
    "param_grid_rf = {'bootstrap': [True],'max_depth': [2, 3, 10, 110],'max_features': [3, 4, 5],'min_samples_leaf': [ 4, 5, 6,],'min_samples_split': [5, 7, 9],'n_estimators': [50, 100]}"
   ]
  },
  {
   "cell_type": "code",
   "execution_count": 85,
   "metadata": {
    "scrolled": true
   },
   "outputs": [
    {
     "name": "stdout",
     "output_type": "stream",
     "text": [
      "Fitting 3 folds for each of 216 candidates, totalling 648 fits\n"
     ]
    },
    {
     "name": "stderr",
     "output_type": "stream",
     "text": [
      "[Parallel(n_jobs=-1)]: Using backend LokyBackend with 8 concurrent workers.\n",
      "[Parallel(n_jobs=-1)]: Done  34 tasks      | elapsed:    1.0s\n",
      "[Parallel(n_jobs=-1)]: Done 276 tasks      | elapsed:    7.4s\n"
     ]
    },
    {
     "name": "stdout",
     "output_type": "stream",
     "text": [
      "BEST ESTM:  RandomForestClassifier(bootstrap=True, ccp_alpha=0.0, class_weight=None,\n",
      "                       criterion='gini', max_depth=110, max_features=4,\n",
      "                       max_leaf_nodes=None, max_samples=None,\n",
      "                       min_impurity_decrease=0.0, min_impurity_split=None,\n",
      "                       min_samples_leaf=5, min_samples_split=5,\n",
      "                       min_weight_fraction_leaf=0.0, n_estimators=50,\n",
      "                       n_jobs=None, oob_score=False, random_state=None,\n",
      "                       verbose=0, warm_start=False)\n",
      "BEST SCORE:  0.8220973782771536\n",
      "BEST PARAM:  {'bootstrap': True, 'max_depth': 110, 'max_features': 4, 'min_samples_leaf': 5, 'min_samples_split': 5, 'n_estimators': 50}\n"
     ]
    },
    {
     "name": "stderr",
     "output_type": "stream",
     "text": [
      "[Parallel(n_jobs=-1)]: Done 648 out of 648 | elapsed:   19.6s finished\n"
     ]
    }
   ],
   "source": [
    "grid_rf = GridSearchCV(estimator = rf, param_grid = param_grid_rf, cv = 3, n_jobs = -1, verbose = 2)\n",
    "grid_rf.fit(features_train, target_train)\n",
    "print(\"BEST ESTM: \", grid_rf.best_estimator_)\n",
    "print(\"BEST SCORE: \", grid_rf.best_score_)\n",
    "print(\"BEST PARAM: \", grid_rf.best_params_)"
   ]
  },
  {
   "cell_type": "code",
   "execution_count": 269,
   "metadata": {},
   "outputs": [
    {
     "name": "stdout",
     "output_type": "stream",
     "text": [
      "Cross Validation Score for each K [0.7962963  0.87037037 0.83333333 0.77777778 0.83018868 0.77358491\n",
      " 0.77358491 0.86792453 0.83018868 0.8490566 ]\n",
      "Cross Validation mean score:  0.820230607966457\n",
      "Random Forest accuracy score:  0.8207282913165266\n",
      "              precision    recall  f1-score   support\n",
      "\n",
      "           0       0.82      0.92      0.86       221\n",
      "           1       0.83      0.66      0.74       136\n",
      "\n",
      "    accuracy                           0.82       357\n",
      "   macro avg       0.82      0.79      0.80       357\n",
      "weighted avg       0.82      0.82      0.82       357\n",
      "\n",
      "[[203  18]\n",
      " [ 46  90]]\n"
     ]
    }
   ],
   "source": [
    "# Random Forest Best\n",
    "\n",
    "# train RF Best model\n",
    "rfbest1 = RandomForestClassifier(bootstrap= True, max_depth= 110, max_features= 4, min_samples_leaf= 5, min_samples_split= 5, n_estimators= 50)\n",
    "# fit the RF Best model\n",
    "rfbest = rfbest1.fit(features_train, target_train)\n",
    "# test the RF Best model\n",
    "target_predicted_rfbest = rfbest.predict(features_test)\n",
    "# cross validate RF Best model\n",
    "scores_rfbest = cross_val_score(rfbest, features_train, target_train, cv=10, n_jobs=-1)\n",
    "print(\"Cross Validation Score for each K\",scores_rfbest)\n",
    "print('Cross Validation mean score: ', scores_rfbest.mean()) \n",
    "\n",
    "# confusion matrix RF2 model\n",
    "print(\"Random Forest accuracy score: \",accuracy_score(target_test,target_predicted_rfbest))\n",
    "target_names_rfbest = [\"0\", \"1\"]\n",
    "print(classification_report(target_test, target_predicted_rfbest, target_names=target_names_rfbest))\n",
    "print(confusion_matrix(target_test, target_predicted_rfbest))"
   ]
  },
  {
   "cell_type": "code",
   "execution_count": null,
   "metadata": {},
   "outputs": [],
   "source": [
    "# After using Gridsearch to find the best hyperparameters, we were able to \n",
    "# increase our overall accuracy, and accuracy statistics to an accuracy of \n",
    "# 82%. We can now inspect what features add the most strength to the \n",
    "# strongest model."
   ]
  },
  {
   "cell_type": "code",
   "execution_count": 117,
   "metadata": {},
   "outputs": [
    {
     "name": "stderr",
     "output_type": "stream",
     "text": [
      "C:\\Users\\Modeling\\anaconda3\\lib\\site-packages\\ipykernel_launcher.py:4: DeprecationWarning: time.clock has been deprecated in Python 3.3 and will be removed from Python 3.8: use time.perf_counter or time.process_time instead\n",
      "  after removing the cwd from sys.path.\n"
     ]
    },
    {
     "name": "stdout",
     "output_type": "stream",
     "text": [
      "Time to run 1.7381523000003654 seconds\n",
      "{'mean_fit_time': array([0.10691462, 0.10551796, 0.10950618, 0.12785826, 0.13105168]), 'std_fit_time': array([0.00270603, 0.00544163, 0.00603036, 0.01696524, 0.0177803 ]), 'mean_score_time': array([0.00678229, 0.00678215, 0.00698142, 0.00718079, 0.00618081]), 'std_score_time': array([3.98874326e-04, 3.98683676e-04, 1.78416128e-07, 3.99780416e-04,\n",
      "       1.32348737e-03]), 'param_max_features': masked_array(data=[2, 3, 4, 5, 6],\n",
      "             mask=[False, False, False, False, False],\n",
      "       fill_value='?',\n",
      "            dtype=object), 'params': [{'max_features': 2}, {'max_features': 3}, {'max_features': 4}, {'max_features': 5}, {'max_features': 6}], 'split0_test_score': array([0.82242991, 0.82242991, 0.85046729, 0.8411215 , 0.8411215 ]), 'split1_test_score': array([0.81308411, 0.80373832, 0.79439252, 0.81308411, 0.81308411]), 'split2_test_score': array([0.78504673, 0.80373832, 0.80373832, 0.76635514, 0.78504673]), 'split3_test_score': array([0.82242991, 0.85046729, 0.82242991, 0.8317757 , 0.82242991]), 'split4_test_score': array([0.8490566 , 0.83962264, 0.82075472, 0.8490566 , 0.83962264]), 'mean_test_score': array([0.81840945, 0.82399929, 0.81835655, 0.82027861, 0.82026098]), 'std_test_score': array([0.02055727, 0.0188049 , 0.01919068, 0.02951028, 0.02052457]), 'rank_test_score': array([4, 1, 5, 2, 3])}\n"
     ]
    },
    {
     "name": "stderr",
     "output_type": "stream",
     "text": [
      "C:\\Users\\Modeling\\anaconda3\\lib\\site-packages\\ipykernel_launcher.py:11: DeprecationWarning: time.clock has been deprecated in Python 3.3 and will be removed from Python 3.8: use time.perf_counter or time.process_time instead\n",
      "  # This is added back by InteractiveShellApp.init_path()\n"
     ]
    }
   ],
   "source": [
    "# Gridsearch to identify features\n",
    "# use a full grid over all parameters\n",
    "param_grid = {\"max_features\": [2, 3, 4, 5, 6,]}\n",
    "start_time = time.clock()\n",
    "\n",
    "# run grid search\n",
    "grid_search = GridSearchCV(rfbest, param_grid=param_grid,n_jobs=-1)\n",
    "\n",
    "grid_search.fit(features_train, target_train)\n",
    "\n",
    "print(\"Time to run\", time.clock() - start_time, \"seconds\")\n",
    "print(grid_search.cv_results_)"
   ]
  },
  {
   "cell_type": "code",
   "execution_count": 118,
   "metadata": {},
   "outputs": [
    {
     "name": "stdout",
     "output_type": "stream",
     "text": [
      "Features sorted by their score:\n",
      "Higher the more important\n",
      "[(0.4755, 'Sex'), (0.1718, 'Fare'), (0.1584, 'Age'), (0.1051, 'Pclass'), (0.0449, 'SibSp'), (0.0299, 'Embarked'), (0.0145, 'Parch')]\n"
     ]
    }
   ],
   "source": [
    "#Feature Importance\n",
    "print(\"Features sorted by their score:\")\n",
    "print(\"Higher the more important\")\n",
    "print(sorted(zip(map(lambda x: round(x, 4), rfbest.feature_importances_),titanic.columns[1:100]), \n",
    "             reverse=True))"
   ]
  },
  {
   "cell_type": "code",
   "execution_count": null,
   "metadata": {},
   "outputs": [],
   "source": [
    "# Here, we can again see that 'sex' is the biggest contributor to whether or\n",
    "# not an individual survived on the Titanic."
   ]
  },
  {
   "cell_type": "code",
   "execution_count": null,
   "metadata": {},
   "outputs": [],
   "source": [
    "## AdaBoost Random Forest - takes time to run"
   ]
  },
  {
   "cell_type": "code",
   "execution_count": 116,
   "metadata": {},
   "outputs": [
    {
     "name": "stdout",
     "output_type": "stream",
     "text": [
      "Adaboost Accuracy 0.7955182072829131\n",
      "              precision    recall  f1-score   support\n",
      "\n",
      "           0       0.83      0.84      0.84       221\n",
      "           1       0.74      0.72      0.73       136\n",
      "\n",
      "    accuracy                           0.80       357\n",
      "   macro avg       0.78      0.78      0.78       357\n",
      "weighted avg       0.79      0.80      0.80       357\n",
      "\n",
      "[[186  35]\n",
      " [ 38  98]]\n"
     ]
    }
   ],
   "source": [
    "# Adaboost (default)\n",
    "bdt = AdaBoostClassifier((rf),\n",
    "                         algorithm=\"SAMME\")\n",
    "bdt.fit(features_train, target_train)\n",
    "predicted_bdt=bdt.predict(features_test)\n",
    "expected = target_test\n",
    "print(\"Adaboost Accuracy\", accuracy_score(expected,predicted_bdt))\n",
    "print(classification_report(expected, predicted_bdt,target_names=['0', '1']))\n",
    "print(confusion_matrix(expected, predicted_bdt))"
   ]
  },
  {
   "cell_type": "code",
   "execution_count": 115,
   "metadata": {},
   "outputs": [
    {
     "name": "stdout",
     "output_type": "stream",
     "text": [
      "Adaboost Accuracy 0.7759103641456583\n",
      "              precision    recall  f1-score   support\n",
      "\n",
      "           0       0.81      0.83      0.82       221\n",
      "           1       0.71      0.69      0.70       136\n",
      "\n",
      "    accuracy                           0.78       357\n",
      "   macro avg       0.76      0.76      0.76       357\n",
      "weighted avg       0.77      0.78      0.78       357\n",
      "\n",
      "[[183  38]\n",
      " [ 42  94]]\n"
     ]
    }
   ],
   "source": [
    "# Adaboost (rfbest)\n",
    "bdt = AdaBoostClassifier((rfbest),\n",
    "                         algorithm=\"SAMME\")\n",
    "bdt.fit(features_train, target_train)\n",
    "predicted_bdt=bdt.predict(features_test)\n",
    "expected = target_test\n",
    "print(\"Adaboost Accuracy\", accuracy_score(expected,predicted_bdt))\n",
    "print(classification_report(expected, predicted_bdt,target_names=['0', '1']))\n",
    "print(confusion_matrix(expected, predicted_bdt))"
   ]
  },
  {
   "cell_type": "code",
   "execution_count": null,
   "metadata": {},
   "outputs": [],
   "source": [
    "# After employing Adaboosting Classifier on the default Random Forest, and the \n",
    "# best random forest, the accuracy still does not exceed that of the RF Best model.\n",
    "# The RF best model is the preffered Random Forest model."
   ]
  },
  {
   "cell_type": "code",
   "execution_count": null,
   "metadata": {},
   "outputs": [],
   "source": [
    "# We can visualie the strength of our RF Best model by plotting a ROC curve"
   ]
  },
  {
   "cell_type": "code",
   "execution_count": 120,
   "metadata": {},
   "outputs": [
    {
     "name": "stdout",
     "output_type": "stream",
     "text": [
      "ROC AUC: 0.881\n"
     ]
    },
    {
     "data": {
      "image/png": "[encoded data removed]",
      "text/plain": [
       "<Figure size 432x288 with 1 Axes>"
      ]
     },
     "metadata": {
      "needs_background": "light"
     },
     "output_type": "display_data"
    }
   ],
   "source": [
    "# ROC Curve\n",
    "\n",
    "# Determine the false positive and true positive rates\n",
    "fpr, tpr, _ = roc_curve(target_test, rfbest.predict_proba(features_test)[:,1]) \n",
    "    \n",
    "# Calculate the AUC\n",
    "roc_auc = auc(fpr, tpr)\n",
    "print('ROC AUC: %0.3f' % roc_auc)\n",
    " \n",
    "# Plot of a ROC curve for a specific class\n",
    "plt.figure()\n",
    "plt.plot(fpr, tpr, label='ROC curve (area = %0.3f)' % roc_auc)\n",
    "plt.plot([0, 1], [0, 1], 'k--')\n",
    "plt.xlim([0.0, 1.0])\n",
    "plt.ylim([0.0, 1.05])\n",
    "plt.xlabel('False Positive Rate')\n",
    "plt.ylabel('True Positive Rate')\n",
    "plt.title('ROC Curve')\n",
    "plt.legend(loc=\"lower right\")\n",
    "plt.show()"
   ]
  },
  {
   "cell_type": "code",
   "execution_count": null,
   "metadata": {},
   "outputs": [],
   "source": [
    "# This ROC represent the lift that is present in the Random Forest model.\n",
    "# With an AUC value reaching close to 1.0 at .881, this acts as an excellent\n",
    "# classifier."
   ]
  },
  {
   "cell_type": "code",
   "execution_count": null,
   "metadata": {},
   "outputs": [],
   "source": [
    "## Support Vector Machines - Linear"
   ]
  },
  {
   "cell_type": "code",
   "execution_count": 124,
   "metadata": {},
   "outputs": [
    {
     "name": "stderr",
     "output_type": "stream",
     "text": [
      "C:\\Users\\Modeling\\anaconda3\\lib\\site-packages\\sklearn\\svm\\_base.py:947: ConvergenceWarning: Liblinear failed to converge, increase the number of iterations.\n",
      "  \"the number of iterations.\", ConvergenceWarning)\n"
     ]
    }
   ],
   "source": [
    "# train the SVC Linear Default model\n",
    "svm1 = LinearSVC(class_weight='balanced')\n",
    "# fit the SVC Linear Default model\n",
    "svm1 = svm1.fit(features_train, target_train)\n",
    "# testing the SVC Linear Default model\n",
    "target_predicted_svm1 = svm1.predict(features_test)\n",
    "expected = target_test"
   ]
  },
  {
   "cell_type": "code",
   "execution_count": 126,
   "metadata": {
    "scrolled": true
   },
   "outputs": [
    {
     "name": "stderr",
     "output_type": "stream",
     "text": [
      "C:\\Users\\Modeling\\anaconda3\\lib\\site-packages\\ipykernel_launcher.py:2: DeprecationWarning: time.clock has been deprecated in Python 3.3 and will be removed from Python 3.8: use time.perf_counter or time.process_time instead\n",
      "  \n",
      "C:\\Users\\Modeling\\anaconda3\\lib\\site-packages\\sklearn\\svm\\_base.py:947: ConvergenceWarning: Liblinear failed to converge, increase the number of iterations.\n",
      "  \"the number of iterations.\", ConvergenceWarning)\n",
      "C:\\Users\\Modeling\\anaconda3\\lib\\site-packages\\sklearn\\svm\\_base.py:947: ConvergenceWarning: Liblinear failed to converge, increase the number of iterations.\n",
      "  \"the number of iterations.\", ConvergenceWarning)\n",
      "C:\\Users\\Modeling\\anaconda3\\lib\\site-packages\\sklearn\\svm\\_base.py:947: ConvergenceWarning: Liblinear failed to converge, increase the number of iterations.\n",
      "  \"the number of iterations.\", ConvergenceWarning)\n",
      "C:\\Users\\Modeling\\anaconda3\\lib\\site-packages\\sklearn\\svm\\_base.py:947: ConvergenceWarning: Liblinear failed to converge, increase the number of iterations.\n",
      "  \"the number of iterations.\", ConvergenceWarning)\n",
      "C:\\Users\\Modeling\\anaconda3\\lib\\site-packages\\sklearn\\svm\\_base.py:947: ConvergenceWarning: Liblinear failed to converge, increase the number of iterations.\n",
      "  \"the number of iterations.\", ConvergenceWarning)\n",
      "C:\\Users\\Modeling\\anaconda3\\lib\\site-packages\\sklearn\\svm\\_base.py:947: ConvergenceWarning: Liblinear failed to converge, increase the number of iterations.\n",
      "  \"the number of iterations.\", ConvergenceWarning)\n",
      "C:\\Users\\Modeling\\anaconda3\\lib\\site-packages\\sklearn\\svm\\_base.py:947: ConvergenceWarning: Liblinear failed to converge, increase the number of iterations.\n",
      "  \"the number of iterations.\", ConvergenceWarning)\n",
      "C:\\Users\\Modeling\\anaconda3\\lib\\site-packages\\sklearn\\svm\\_base.py:947: ConvergenceWarning: Liblinear failed to converge, increase the number of iterations.\n",
      "  \"the number of iterations.\", ConvergenceWarning)\n"
     ]
    },
    {
     "name": "stdout",
     "output_type": "stream",
     "text": [
      "Cross Validation Score for each K [0.7037037  0.81481481 0.75925926 0.72222222 0.8490566  0.79245283\n",
      " 0.37735849 0.79245283 0.79245283 0.75471698]\n",
      "Cross Validation mean score:  0.7358490566037736\n",
      "SVC Linear 1 accuracy score:  0.7591036414565826\n",
      "              precision    recall  f1-score   support\n",
      "\n",
      "           0       0.85      0.74      0.79       221\n",
      "           1       0.65      0.79      0.72       136\n",
      "\n",
      "    accuracy                           0.76       357\n",
      "   macro avg       0.75      0.77      0.75       357\n",
      "weighted avg       0.78      0.76      0.76       357\n",
      "\n",
      "[[163  58]\n",
      " [ 28 108]]\n"
     ]
    },
    {
     "name": "stderr",
     "output_type": "stream",
     "text": [
      "C:\\Users\\Modeling\\anaconda3\\lib\\site-packages\\sklearn\\svm\\_base.py:947: ConvergenceWarning: Liblinear failed to converge, increase the number of iterations.\n",
      "  \"the number of iterations.\", ConvergenceWarning)\n",
      "C:\\Users\\Modeling\\anaconda3\\lib\\site-packages\\sklearn\\svm\\_base.py:947: ConvergenceWarning: Liblinear failed to converge, increase the number of iterations.\n",
      "  \"the number of iterations.\", ConvergenceWarning)\n"
     ]
    }
   ],
   "source": [
    "# cross validate SVC Linear Default model\n",
    "start_time = time.clock()\n",
    "scores_svm1 = cross_val_score(svm1, features_train, target_train, cv=10, scoring='accuracy')\n",
    "print(\"Cross Validation Score for each K\",scores_svm1)\n",
    "print('Cross Validation mean score: ', scores_svm1.mean()) \n",
    "# confusion matrix SVC Linear Default model\n",
    "print(\"SVC Linear 1 accuracy score: \",accuracy_score(target_test,target_predicted_svm1))\n",
    "target_names_svm1 = [\"0\", \"1\"]\n",
    "print(classification_report(target_test, target_predicted_svm1, target_names=target_names_svm1))\n",
    "print(confusion_matrix(target_test, target_predicted_svm1))"
   ]
  },
  {
   "cell_type": "code",
   "execution_count": null,
   "metadata": {},
   "outputs": [],
   "source": [
    "# Here, we can see that the defult returns a 75% accuracy. We will start to\n",
    "# adjust the hyperparameters in search of increasing accuracy statistics."
   ]
  },
  {
   "cell_type": "code",
   "execution_count": 127,
   "metadata": {},
   "outputs": [
    {
     "name": "stderr",
     "output_type": "stream",
     "text": [
      "C:\\Users\\Modeling\\anaconda3\\lib\\site-packages\\sklearn\\svm\\_base.py:947: ConvergenceWarning: Liblinear failed to converge, increase the number of iterations.\n",
      "  \"the number of iterations.\", ConvergenceWarning)\n"
     ]
    }
   ],
   "source": [
    "# train the SVC Linear 2 model\n",
    "svm2 = LinearSVC(class_weight='balanced')\n",
    "# fit the SVC Linear 2 model\n",
    "svm2 = svm2.fit(features_train, target_train)\n",
    "# testing the SVC Linear 2 model\n",
    "target_predicted_svm2 = svm2.predict(features_test)\n",
    "expected = target_test"
   ]
  },
  {
   "cell_type": "code",
   "execution_count": 129,
   "metadata": {
    "scrolled": true
   },
   "outputs": [
    {
     "name": "stderr",
     "output_type": "stream",
     "text": [
      "C:\\Users\\Modeling\\anaconda3\\lib\\site-packages\\ipykernel_launcher.py:2: DeprecationWarning: time.clock has been deprecated in Python 3.3 and will be removed from Python 3.8: use time.perf_counter or time.process_time instead\n",
      "  \n",
      "C:\\Users\\Modeling\\anaconda3\\lib\\site-packages\\sklearn\\svm\\_base.py:947: ConvergenceWarning: Liblinear failed to converge, increase the number of iterations.\n",
      "  \"the number of iterations.\", ConvergenceWarning)\n",
      "C:\\Users\\Modeling\\anaconda3\\lib\\site-packages\\sklearn\\svm\\_base.py:947: ConvergenceWarning: Liblinear failed to converge, increase the number of iterations.\n",
      "  \"the number of iterations.\", ConvergenceWarning)\n",
      "C:\\Users\\Modeling\\anaconda3\\lib\\site-packages\\sklearn\\svm\\_base.py:947: ConvergenceWarning: Liblinear failed to converge, increase the number of iterations.\n",
      "  \"the number of iterations.\", ConvergenceWarning)\n",
      "C:\\Users\\Modeling\\anaconda3\\lib\\site-packages\\sklearn\\svm\\_base.py:947: ConvergenceWarning: Liblinear failed to converge, increase the number of iterations.\n",
      "  \"the number of iterations.\", ConvergenceWarning)\n",
      "C:\\Users\\Modeling\\anaconda3\\lib\\site-packages\\sklearn\\svm\\_base.py:947: ConvergenceWarning: Liblinear failed to converge, increase the number of iterations.\n",
      "  \"the number of iterations.\", ConvergenceWarning)\n",
      "C:\\Users\\Modeling\\anaconda3\\lib\\site-packages\\sklearn\\svm\\_base.py:947: ConvergenceWarning: Liblinear failed to converge, increase the number of iterations.\n",
      "  \"the number of iterations.\", ConvergenceWarning)\n",
      "C:\\Users\\Modeling\\anaconda3\\lib\\site-packages\\sklearn\\svm\\_base.py:947: ConvergenceWarning: Liblinear failed to converge, increase the number of iterations.\n",
      "  \"the number of iterations.\", ConvergenceWarning)\n",
      "C:\\Users\\Modeling\\anaconda3\\lib\\site-packages\\sklearn\\svm\\_base.py:947: ConvergenceWarning: Liblinear failed to converge, increase the number of iterations.\n",
      "  \"the number of iterations.\", ConvergenceWarning)\n"
     ]
    },
    {
     "name": "stdout",
     "output_type": "stream",
     "text": [
      "Cross Validation Score for each K [0.77777778 0.83333333 0.74074074 0.74074074 0.73584906 0.77358491\n",
      " 0.77358491 0.77358491 0.79245283 0.67924528]\n",
      "Cross Validation mean score:  0.7620894479385046\n",
      "SVC Linear 2 accuracy score:  0.7703081232492998\n",
      "              precision    recall  f1-score   support\n",
      "\n",
      "           0       0.79      0.85      0.82       221\n",
      "           1       0.72      0.64      0.68       136\n",
      "\n",
      "    accuracy                           0.77       357\n",
      "   macro avg       0.76      0.75      0.75       357\n",
      "weighted avg       0.77      0.77      0.77       357\n",
      "\n",
      "[[188  33]\n",
      " [ 49  87]]\n"
     ]
    },
    {
     "name": "stderr",
     "output_type": "stream",
     "text": [
      "C:\\Users\\Modeling\\anaconda3\\lib\\site-packages\\sklearn\\svm\\_base.py:947: ConvergenceWarning: Liblinear failed to converge, increase the number of iterations.\n",
      "  \"the number of iterations.\", ConvergenceWarning)\n",
      "C:\\Users\\Modeling\\anaconda3\\lib\\site-packages\\sklearn\\svm\\_base.py:947: ConvergenceWarning: Liblinear failed to converge, increase the number of iterations.\n",
      "  \"the number of iterations.\", ConvergenceWarning)\n"
     ]
    }
   ],
   "source": [
    "# cross validate SVC Linear 2 model\n",
    "start_time = time.clock()\n",
    "scores_svm2 = cross_val_score(svm2, features_train, target_train, cv=10, scoring='accuracy')\n",
    "print(\"Cross Validation Score for each K\",scores_svm2)\n",
    "print('Cross Validation mean score: ', scores_svm2.mean()) \n",
    "# confusion matrix SVC Linear 2 model\n",
    "print(\"SVC Linear 2 accuracy score: \",accuracy_score(target_test,target_predicted_svm2))\n",
    "target_names_svm2 = [\"0\", \"1\"]\n",
    "print(classification_report(target_test, target_predicted_svm2, target_names=target_names_svm2))\n",
    "print(confusion_matrix(target_test, target_predicted_svm2))"
   ]
  },
  {
   "cell_type": "code",
   "execution_count": null,
   "metadata": {},
   "outputs": [],
   "source": [
    "# When changing the weight classes to balanced, we were able to increase the\n",
    "# overall accuracy to 77%, along with recall and f1-score. The precision \n",
    "# decreased from 78% to 77%. \n",
    "# We will now search to increase the maximum iterations in search of incresing\n",
    "# accuracy statistics."
   ]
  },
  {
   "cell_type": "code",
   "execution_count": 136,
   "metadata": {},
   "outputs": [
    {
     "name": "stderr",
     "output_type": "stream",
     "text": [
      "C:\\Users\\Modeling\\anaconda3\\lib\\site-packages\\sklearn\\svm\\_base.py:947: ConvergenceWarning: Liblinear failed to converge, increase the number of iterations.\n",
      "  \"the number of iterations.\", ConvergenceWarning)\n"
     ]
    }
   ],
   "source": [
    "# SVC linear, balanced weight, max iterations\n",
    "\n",
    "# train the SVC Linear  model 3\n",
    "svm3 = LinearSVC(class_weight='balanced', max_iter = 2500)\n",
    "# fit the SVC Linear  model 3\n",
    "svm3 = svm3.fit(features_train, target_train)\n",
    "# testing the SVC Linear  model 3\n",
    "target_predicted_svm3 = svm3.predict(features_test)\n",
    "expected = target_test"
   ]
  },
  {
   "cell_type": "code",
   "execution_count": 137,
   "metadata": {},
   "outputs": [
    {
     "name": "stderr",
     "output_type": "stream",
     "text": [
      "C:\\Users\\Modeling\\anaconda3\\lib\\site-packages\\ipykernel_launcher.py:2: DeprecationWarning: time.clock has been deprecated in Python 3.3 and will be removed from Python 3.8: use time.perf_counter or time.process_time instead\n",
      "  \n",
      "C:\\Users\\Modeling\\anaconda3\\lib\\site-packages\\sklearn\\svm\\_base.py:947: ConvergenceWarning: Liblinear failed to converge, increase the number of iterations.\n",
      "  \"the number of iterations.\", ConvergenceWarning)\n",
      "C:\\Users\\Modeling\\anaconda3\\lib\\site-packages\\sklearn\\svm\\_base.py:947: ConvergenceWarning: Liblinear failed to converge, increase the number of iterations.\n",
      "  \"the number of iterations.\", ConvergenceWarning)\n",
      "C:\\Users\\Modeling\\anaconda3\\lib\\site-packages\\sklearn\\svm\\_base.py:947: ConvergenceWarning: Liblinear failed to converge, increase the number of iterations.\n",
      "  \"the number of iterations.\", ConvergenceWarning)\n",
      "C:\\Users\\Modeling\\anaconda3\\lib\\site-packages\\sklearn\\svm\\_base.py:947: ConvergenceWarning: Liblinear failed to converge, increase the number of iterations.\n",
      "  \"the number of iterations.\", ConvergenceWarning)\n",
      "C:\\Users\\Modeling\\anaconda3\\lib\\site-packages\\sklearn\\svm\\_base.py:947: ConvergenceWarning: Liblinear failed to converge, increase the number of iterations.\n",
      "  \"the number of iterations.\", ConvergenceWarning)\n",
      "C:\\Users\\Modeling\\anaconda3\\lib\\site-packages\\sklearn\\svm\\_base.py:947: ConvergenceWarning: Liblinear failed to converge, increase the number of iterations.\n",
      "  \"the number of iterations.\", ConvergenceWarning)\n",
      "C:\\Users\\Modeling\\anaconda3\\lib\\site-packages\\sklearn\\svm\\_base.py:947: ConvergenceWarning: Liblinear failed to converge, increase the number of iterations.\n",
      "  \"the number of iterations.\", ConvergenceWarning)\n"
     ]
    },
    {
     "name": "stdout",
     "output_type": "stream",
     "text": [
      "Cross Validation Score for each K [0.7037037  0.87037037 0.81481481 0.7037037  0.81132075 0.77358491\n",
      " 0.69811321 0.79245283 0.81132075 0.81132075]\n",
      "Cross Validation mean score:  0.7790705800139761\n",
      "SVC Linear 3 accuracy score:  0.7787114845938375\n",
      "              precision    recall  f1-score   support\n",
      "\n",
      "           0       0.85      0.78      0.81       221\n",
      "           1       0.69      0.77      0.73       136\n",
      "\n",
      "    accuracy                           0.78       357\n",
      "   macro avg       0.77      0.78      0.77       357\n",
      "weighted avg       0.79      0.78      0.78       357\n",
      "\n",
      "[[173  48]\n",
      " [ 31 105]]\n"
     ]
    },
    {
     "name": "stderr",
     "output_type": "stream",
     "text": [
      "C:\\Users\\Modeling\\anaconda3\\lib\\site-packages\\sklearn\\svm\\_base.py:947: ConvergenceWarning: Liblinear failed to converge, increase the number of iterations.\n",
      "  \"the number of iterations.\", ConvergenceWarning)\n",
      "C:\\Users\\Modeling\\anaconda3\\lib\\site-packages\\sklearn\\svm\\_base.py:947: ConvergenceWarning: Liblinear failed to converge, increase the number of iterations.\n",
      "  \"the number of iterations.\", ConvergenceWarning)\n",
      "C:\\Users\\Modeling\\anaconda3\\lib\\site-packages\\sklearn\\svm\\_base.py:947: ConvergenceWarning: Liblinear failed to converge, increase the number of iterations.\n",
      "  \"the number of iterations.\", ConvergenceWarning)\n"
     ]
    }
   ],
   "source": [
    "# cross validate SVC Linear model 3\n",
    "start_time = time.clock()\n",
    "scores_svm3 = cross_val_score(svm3, features_train, target_train, cv=10, scoring='accuracy')\n",
    "print(\"Cross Validation Score for each K\",scores_svm3)\n",
    "print('Cross Validation mean score: ', scores_svm3.mean()) \n",
    "# confusion matrix SVC Linear model 3\n",
    "print(\"SVC Linear 3 accuracy score: \",accuracy_score(target_test,target_predicted_svm3))\n",
    "target_names_svm3 = [\"0\", \"1\"]\n",
    "print(classification_report(target_test, target_predicted_svm3, target_names=target_names_svm3))\n",
    "print(confusion_matrix(target_test, target_predicted_svm3))"
   ]
  },
  {
   "cell_type": "code",
   "execution_count": null,
   "metadata": {},
   "outputs": [],
   "source": [
    "# After increasing the maximum iterations up to 2500, from the default 1000,\n",
    "# we were not only able to increase the overall accuracy of the model, but\n",
    "# we were also able to bring the precision statistic back up, to 79%, and also \n",
    "# increase the recall and f-1 score to 78%. This surpasses the previous manual\n",
    "# adjustments in the last notebook. SVC linear model 3 is our preffered \n",
    "# SVC model."
   ]
  },
  {
   "cell_type": "code",
   "execution_count": null,
   "metadata": {},
   "outputs": [],
   "source": [
    "# SVC RBF"
   ]
  },
  {
   "cell_type": "code",
   "execution_count": 145,
   "metadata": {},
   "outputs": [
    {
     "name": "stdout",
     "output_type": "stream",
     "text": [
      "SVC(C=1.0, break_ties=False, cache_size=200, class_weight=None, coef0=0.0,\n",
      "    decision_function_shape='ovr', degree=3, gamma='scale', kernel='rbf',\n",
      "    max_iter=-1, probability=False, random_state=None, shrinking=True,\n",
      "    tol=0.001, verbose=False)\n"
     ]
    },
    {
     "name": "stderr",
     "output_type": "stream",
     "text": [
      "C:\\Users\\Modeling\\anaconda3\\lib\\site-packages\\ipykernel_launcher.py:3: DeprecationWarning: time.clock has been deprecated in Python 3.3 and will be removed from Python 3.8: use time.perf_counter or time.process_time instead\n",
      "  This is separate from the ipykernel package so we can avoid doing imports until\n"
     ]
    }
   ],
   "source": [
    "# SVC RBF default\n",
    "# train, fit, test SVC model 1\n",
    "start_time = time.clock()\n",
    "svm_rbf1 = SVC(kernel='rbf')\n",
    "print(svm_rbf1)\n",
    "svm_rbf1.fit(features_train, target_train)\n",
    "predicted_rbf1=svm_rbf1.predict(features_test)\n",
    "expected = target_test"
   ]
  },
  {
   "cell_type": "code",
   "execution_count": 146,
   "metadata": {},
   "outputs": [
    {
     "name": "stdout",
     "output_type": "stream",
     "text": [
      "Cross Validation Score for each K [0.72222222 0.64814815 0.7037037  0.68518519 0.67924528 0.67924528\n",
      " 0.66037736 0.67924528 0.62264151 0.67924528]\n",
      "Cross Validation mean score:  0.6759259259259259\n",
      "              precision    recall  f1-score   support\n",
      "\n",
      "           0       0.68      0.93      0.79       221\n",
      "           1       0.71      0.29      0.42       136\n",
      "\n",
      "    accuracy                           0.69       357\n",
      "   macro avg       0.70      0.61      0.60       357\n",
      "weighted avg       0.69      0.69      0.64       357\n",
      "\n",
      "[[205  16]\n",
      " [ 96  40]]\n",
      "0.6862745098039216\n",
      "Time to run 2.460492800000793 seconds\n"
     ]
    },
    {
     "name": "stderr",
     "output_type": "stream",
     "text": [
      "C:\\Users\\Modeling\\anaconda3\\lib\\site-packages\\ipykernel_launcher.py:10: DeprecationWarning: time.clock has been deprecated in Python 3.3 and will be removed from Python 3.8: use time.perf_counter or time.process_time instead\n",
      "  # Remove the CWD from sys.path while we load stuff.\n"
     ]
    }
   ],
   "source": [
    "# cross validation and confusion matrix SVC RBF model 1\n",
    "svm_rbf1_CV_scores = cross_val_score(svm_rbf1, features_train, target_train, cv=10,scoring='accuracy')\n",
    "print('Cross Validation Score for each K', svm_rbf1_CV_scores)\n",
    "print('Cross Validation mean score: ', svm_rbf1_CV_scores.mean())\n",
    "\n",
    "target_names_rbf1 = [\"0\", \"1\"]\n",
    "print(classification_report(expected, predicted_rbf1,target_names=target_names_rbf1))\n",
    "print(confusion_matrix(expected, predicted_rbf1))\n",
    "print(accuracy_score(expected,predicted_rbf1))\n",
    "print(\"Time to run\", time.clock() - start_time, \"seconds\")"
   ]
  },
  {
   "cell_type": "code",
   "execution_count": null,
   "metadata": {},
   "outputs": [],
   "source": [
    "# The deafult RBF returns a low accuracy of ~ 68%. We will search to increase\n",
    "# accuracy by tuning hyperparameters"
   ]
  },
  {
   "cell_type": "code",
   "execution_count": 174,
   "metadata": {
    "scrolled": true
   },
   "outputs": [
    {
     "name": "stderr",
     "output_type": "stream",
     "text": [
      "C:\\Users\\Modeling\\anaconda3\\lib\\site-packages\\ipykernel_launcher.py:2: DeprecationWarning: time.clock has been deprecated in Python 3.3 and will be removed from Python 3.8: use time.perf_counter or time.process_time instead\n",
      "  \n"
     ]
    },
    {
     "name": "stdout",
     "output_type": "stream",
     "text": [
      "SCORES {'mean_fit_time': array([0.00578787, 0.00858023, 0.00508611, 0.00987592, 0.00498779,\n",
      "       0.00806925, 0.00529153, 0.00867772, 0.00528648, 0.00847278,\n",
      "       0.00557055, 0.00860002, 0.00547657, 0.00907054, 0.00598922,\n",
      "       0.00886774, 0.00548518, 0.00867836, 0.00568469, 0.00857813,\n",
      "       0.00528409, 0.00857661, 0.00518577, 0.00877612, 0.00628283,\n",
      "       0.00857682, 0.00568457, 0.00867634, 0.00598369, 0.00847704,\n",
      "       0.00618324, 0.00857673, 0.00578439, 0.00947676, 0.00658472,\n",
      "       0.00938158, 0.00688062, 0.00987651, 0.00667772, 0.00930479,\n",
      "       0.00628438, 0.00887167, 0.00628502, 0.0095726 , 0.00687442,\n",
      "       0.00927792, 0.00667694, 0.00897484, 0.01186862, 0.01126876,\n",
      "       0.01067271, 0.01216674, 0.01067052, 0.01116889, 0.01096351,\n",
      "       0.01136925, 0.01077082, 0.01166854, 0.01077089, 0.01126959]), 'std_fit_time': array([4.02071123e-04, 6.66431086e-04, 2.99239254e-04, 1.29684196e-03,\n",
      "       3.93361755e-06, 3.01712687e-04, 4.53443595e-04, 7.81379834e-04,\n",
      "       4.58637182e-04, 4.96197537e-04, 4.86944056e-04, 4.95096033e-04,\n",
      "       5.07289517e-04, 5.30713119e-04, 6.34214064e-04, 6.82558423e-04,\n",
      "       4.98986554e-04, 7.79474831e-04, 4.57053802e-04, 6.62419934e-04,\n",
      "       4.58102231e-04, 9.14159640e-04, 3.98969668e-04, 1.07416575e-03,\n",
      "       6.38713437e-04, 4.88723763e-04, 4.57079804e-04, 4.57194314e-04,\n",
      "       4.46168368e-04, 4.98747871e-04, 7.46454915e-04, 6.61444060e-04,\n",
      "       3.98695611e-04, 6.72109723e-04, 4.91291170e-04, 6.56725548e-04,\n",
      "       5.37144658e-04, 9.44621261e-04, 7.72264904e-04, 1.79998654e-03,\n",
      "       6.38236999e-04, 6.98506677e-04, 4.55745256e-04, 6.58830711e-04,\n",
      "       6.95572875e-04, 1.34478365e-03, 6.42542233e-04, 8.90553317e-04,\n",
      "       1.62473493e-03, 1.54863215e-03, 1.00158121e-03, 1.46131041e-03,\n",
      "       9.98747080e-04, 1.39599305e-03, 1.25424416e-03, 1.35281739e-03,\n",
      "       1.32315358e-03, 1.48259896e-03, 1.16304745e-03, 1.26527675e-03]), 'mean_score_time': array([5.94925880e-04, 3.99184227e-04, 3.99017334e-04, 1.00278854e-03,\n",
      "       6.97731972e-04, 9.99093056e-04, 2.97427177e-04, 8.95738602e-04,\n",
      "       5.00607491e-04, 5.99241257e-04, 0.00000000e+00, 7.90834427e-04,\n",
      "       5.07211685e-04, 4.96172905e-04, 3.98349762e-04, 4.99582291e-04,\n",
      "       2.99119949e-04, 6.96587563e-04, 3.98993492e-04, 4.97269630e-04,\n",
      "       3.00741196e-04, 7.98201561e-04, 8.97884369e-04, 5.98692894e-04,\n",
      "       5.98645210e-04, 5.98597527e-04, 6.98304176e-04, 6.98471069e-04,\n",
      "       2.99358368e-04, 6.98280334e-04, 9.97543335e-05, 6.98328018e-04,\n",
      "       4.98819351e-04, 8.93568993e-04, 4.00543213e-04, 6.93321228e-04,\n",
      "       7.98678398e-04, 7.99107552e-04, 6.02865219e-04, 6.97278976e-04,\n",
      "       2.99334526e-04, 6.98447227e-04, 5.96618652e-04, 1.00431442e-03,\n",
      "       6.00314140e-04, 7.98630714e-04, 2.99048424e-04, 5.98001480e-04,\n",
      "       5.98192215e-04, 5.99217415e-04, 1.98984146e-04, 6.00767136e-04,\n",
      "       2.98762321e-04, 4.98795509e-04, 5.97500801e-04, 4.98914719e-04,\n",
      "       5.98573685e-04, 6.98351860e-04, 3.99088860e-04, 5.98549843e-04]), 'std_score_time': array([4.85840885e-04, 4.88899827e-04, 4.88694445e-04, 4.46294821e-04,\n",
      "       4.56780222e-04, 2.98023224e-06, 4.54353220e-04, 2.98971137e-04,\n",
      "       5.00646875e-04, 4.89288556e-04, 0.00000000e+00, 3.96061658e-04,\n",
      "       5.07368822e-04, 4.96326367e-04, 4.87889376e-04, 4.99584855e-04,\n",
      "       4.56913357e-04, 4.56044040e-04, 4.88665249e-04, 4.97293379e-04,\n",
      "       4.59404122e-04, 3.99100829e-04, 2.99294811e-04, 4.88830741e-04,\n",
      "       4.88791772e-04, 4.88752866e-04, 4.57147410e-04, 4.57256667e-04,\n",
      "       4.57277464e-04, 4.57131784e-04, 2.99263000e-04, 4.57163009e-04,\n",
      "       4.98819358e-04, 5.36352134e-04, 4.90594994e-04, 4.54112357e-04,\n",
      "       3.99344778e-04, 3.99569239e-04, 4.92407920e-04, 4.56479927e-04,\n",
      "       4.57242869e-04, 4.57280734e-04, 4.87171088e-04, 1.62318058e-05,\n",
      "       4.90166582e-04, 3.99318908e-04, 4.56808828e-04, 4.88271480e-04,\n",
      "       4.88422697e-04, 4.89260788e-04, 3.97968307e-04, 4.90553359e-04,\n",
      "       4.56367632e-04, 4.98809861e-04, 4.87859009e-04, 4.98914735e-04,\n",
      "       4.88733538e-04, 4.57178831e-04, 4.88782050e-04, 4.88713917e-04]), 'param_C': masked_array(data=[10, 10, 10, 10, 10, 10, 10, 10, 10, 10, 10, 10, 20, 20,\n",
      "                   20, 20, 20, 20, 20, 20, 20, 20, 20, 20, 25, 25, 25, 25,\n",
      "                   25, 25, 25, 25, 25, 25, 25, 25, 30, 30, 30, 30, 30, 30,\n",
      "                   30, 30, 30, 30, 30, 30, 100, 100, 100, 100, 100, 100,\n",
      "                   100, 100, 100, 100, 100, 100],\n",
      "             mask=[False, False, False, False, False, False, False, False,\n",
      "                   False, False, False, False, False, False, False, False,\n",
      "                   False, False, False, False, False, False, False, False,\n",
      "                   False, False, False, False, False, False, False, False,\n",
      "                   False, False, False, False, False, False, False, False,\n",
      "                   False, False, False, False, False, False, False, False,\n",
      "                   False, False, False, False, False, False, False, False,\n",
      "                   False, False, False, False],\n",
      "       fill_value='?',\n",
      "            dtype=object), 'param_degree': masked_array(data=[0, 0, 1, 1, 2, 2, 3, 3, 4, 4, 5, 5, 0, 0, 1, 1, 2, 2,\n",
      "                   3, 3, 4, 4, 5, 5, 0, 0, 1, 1, 2, 2, 3, 3, 4, 4, 5, 5,\n",
      "                   0, 0, 1, 1, 2, 2, 3, 3, 4, 4, 5, 5, 0, 0, 1, 1, 2, 2,\n",
      "                   3, 3, 4, 4, 5, 5],\n",
      "             mask=[False, False, False, False, False, False, False, False,\n",
      "                   False, False, False, False, False, False, False, False,\n",
      "                   False, False, False, False, False, False, False, False,\n",
      "                   False, False, False, False, False, False, False, False,\n",
      "                   False, False, False, False, False, False, False, False,\n",
      "                   False, False, False, False, False, False, False, False,\n",
      "                   False, False, False, False, False, False, False, False,\n",
      "                   False, False, False, False],\n",
      "       fill_value='?',\n",
      "            dtype=object), 'param_gamma': masked_array(data=[0.001, 0.1, 0.001, 0.1, 0.001, 0.1, 0.001, 0.1, 0.001,\n",
      "                   0.1, 0.001, 0.1, 0.001, 0.1, 0.001, 0.1, 0.001, 0.1,\n",
      "                   0.001, 0.1, 0.001, 0.1, 0.001, 0.1, 0.001, 0.1, 0.001,\n",
      "                   0.1, 0.001, 0.1, 0.001, 0.1, 0.001, 0.1, 0.001, 0.1,\n",
      "                   0.001, 0.1, 0.001, 0.1, 0.001, 0.1, 0.001, 0.1, 0.001,\n",
      "                   0.1, 0.001, 0.1, 0.001, 0.1, 0.001, 0.1, 0.001, 0.1,\n",
      "                   0.001, 0.1, 0.001, 0.1, 0.001, 0.1],\n",
      "             mask=[False, False, False, False, False, False, False, False,\n",
      "                   False, False, False, False, False, False, False, False,\n",
      "                   False, False, False, False, False, False, False, False,\n",
      "                   False, False, False, False, False, False, False, False,\n",
      "                   False, False, False, False, False, False, False, False,\n",
      "                   False, False, False, False, False, False, False, False,\n",
      "                   False, False, False, False, False, False, False, False,\n",
      "                   False, False, False, False],\n",
      "       fill_value='?',\n",
      "            dtype=object), 'params': [{'C': 10, 'degree': 0, 'gamma': 0.001}, {'C': 10, 'degree': 0, 'gamma': 0.1}, {'C': 10, 'degree': 1, 'gamma': 0.001}, {'C': 10, 'degree': 1, 'gamma': 0.1}, {'C': 10, 'degree': 2, 'gamma': 0.001}, {'C': 10, 'degree': 2, 'gamma': 0.1}, {'C': 10, 'degree': 3, 'gamma': 0.001}, {'C': 10, 'degree': 3, 'gamma': 0.1}, {'C': 10, 'degree': 4, 'gamma': 0.001}, {'C': 10, 'degree': 4, 'gamma': 0.1}, {'C': 10, 'degree': 5, 'gamma': 0.001}, {'C': 10, 'degree': 5, 'gamma': 0.1}, {'C': 20, 'degree': 0, 'gamma': 0.001}, {'C': 20, 'degree': 0, 'gamma': 0.1}, {'C': 20, 'degree': 1, 'gamma': 0.001}, {'C': 20, 'degree': 1, 'gamma': 0.1}, {'C': 20, 'degree': 2, 'gamma': 0.001}, {'C': 20, 'degree': 2, 'gamma': 0.1}, {'C': 20, 'degree': 3, 'gamma': 0.001}, {'C': 20, 'degree': 3, 'gamma': 0.1}, {'C': 20, 'degree': 4, 'gamma': 0.001}, {'C': 20, 'degree': 4, 'gamma': 0.1}, {'C': 20, 'degree': 5, 'gamma': 0.001}, {'C': 20, 'degree': 5, 'gamma': 0.1}, {'C': 25, 'degree': 0, 'gamma': 0.001}, {'C': 25, 'degree': 0, 'gamma': 0.1}, {'C': 25, 'degree': 1, 'gamma': 0.001}, {'C': 25, 'degree': 1, 'gamma': 0.1}, {'C': 25, 'degree': 2, 'gamma': 0.001}, {'C': 25, 'degree': 2, 'gamma': 0.1}, {'C': 25, 'degree': 3, 'gamma': 0.001}, {'C': 25, 'degree': 3, 'gamma': 0.1}, {'C': 25, 'degree': 4, 'gamma': 0.001}, {'C': 25, 'degree': 4, 'gamma': 0.1}, {'C': 25, 'degree': 5, 'gamma': 0.001}, {'C': 25, 'degree': 5, 'gamma': 0.1}, {'C': 30, 'degree': 0, 'gamma': 0.001}, {'C': 30, 'degree': 0, 'gamma': 0.1}, {'C': 30, 'degree': 1, 'gamma': 0.001}, {'C': 30, 'degree': 1, 'gamma': 0.1}, {'C': 30, 'degree': 2, 'gamma': 0.001}, {'C': 30, 'degree': 2, 'gamma': 0.1}, {'C': 30, 'degree': 3, 'gamma': 0.001}, {'C': 30, 'degree': 3, 'gamma': 0.1}, {'C': 30, 'degree': 4, 'gamma': 0.001}, {'C': 30, 'degree': 4, 'gamma': 0.1}, {'C': 30, 'degree': 5, 'gamma': 0.001}, {'C': 30, 'degree': 5, 'gamma': 0.1}, {'C': 100, 'degree': 0, 'gamma': 0.001}, {'C': 100, 'degree': 0, 'gamma': 0.1}, {'C': 100, 'degree': 1, 'gamma': 0.001}, {'C': 100, 'degree': 1, 'gamma': 0.1}, {'C': 100, 'degree': 2, 'gamma': 0.001}, {'C': 100, 'degree': 2, 'gamma': 0.1}, {'C': 100, 'degree': 3, 'gamma': 0.001}, {'C': 100, 'degree': 3, 'gamma': 0.1}, {'C': 100, 'degree': 4, 'gamma': 0.001}, {'C': 100, 'degree': 4, 'gamma': 0.1}, {'C': 100, 'degree': 5, 'gamma': 0.001}, {'C': 100, 'degree': 5, 'gamma': 0.1}], 'split0_test_score': array([0.68518519, 0.64814815, 0.68518519, 0.64814815, 0.68518519,\n",
      "       0.64814815, 0.68518519, 0.64814815, 0.68518519, 0.64814815,\n",
      "       0.68518519, 0.64814815, 0.64814815, 0.7037037 , 0.64814815,\n",
      "       0.7037037 , 0.64814815, 0.7037037 , 0.64814815, 0.7037037 ,\n",
      "       0.64814815, 0.7037037 , 0.64814815, 0.7037037 , 0.62962963,\n",
      "       0.7037037 , 0.62962963, 0.7037037 , 0.62962963, 0.7037037 ,\n",
      "       0.62962963, 0.7037037 , 0.62962963, 0.7037037 , 0.62962963,\n",
      "       0.7037037 , 0.64814815, 0.68518519, 0.64814815, 0.68518519,\n",
      "       0.64814815, 0.68518519, 0.64814815, 0.68518519, 0.64814815,\n",
      "       0.68518519, 0.64814815, 0.68518519, 0.68518519, 0.68518519,\n",
      "       0.68518519, 0.68518519, 0.68518519, 0.68518519, 0.68518519,\n",
      "       0.68518519, 0.68518519, 0.68518519, 0.68518519, 0.68518519]), 'split1_test_score': array([0.7037037 , 0.72222222, 0.7037037 , 0.72222222, 0.7037037 ,\n",
      "       0.72222222, 0.7037037 , 0.72222222, 0.7037037 , 0.72222222,\n",
      "       0.7037037 , 0.72222222, 0.85185185, 0.7037037 , 0.85185185,\n",
      "       0.7037037 , 0.85185185, 0.7037037 , 0.85185185, 0.7037037 ,\n",
      "       0.85185185, 0.7037037 , 0.85185185, 0.7037037 , 0.85185185,\n",
      "       0.72222222, 0.85185185, 0.72222222, 0.85185185, 0.72222222,\n",
      "       0.85185185, 0.72222222, 0.85185185, 0.72222222, 0.85185185,\n",
      "       0.72222222, 0.83333333, 0.74074074, 0.83333333, 0.74074074,\n",
      "       0.83333333, 0.74074074, 0.83333333, 0.74074074, 0.83333333,\n",
      "       0.74074074, 0.83333333, 0.74074074, 0.81481481, 0.72222222,\n",
      "       0.81481481, 0.72222222, 0.81481481, 0.72222222, 0.81481481,\n",
      "       0.72222222, 0.81481481, 0.72222222, 0.81481481, 0.72222222]), 'split2_test_score': array([0.7037037 , 0.75925926, 0.7037037 , 0.75925926, 0.7037037 ,\n",
      "       0.75925926, 0.7037037 , 0.75925926, 0.7037037 , 0.75925926,\n",
      "       0.7037037 , 0.75925926, 0.77777778, 0.75925926, 0.77777778,\n",
      "       0.75925926, 0.77777778, 0.75925926, 0.77777778, 0.75925926,\n",
      "       0.77777778, 0.75925926, 0.77777778, 0.75925926, 0.75925926,\n",
      "       0.75925926, 0.75925926, 0.75925926, 0.75925926, 0.75925926,\n",
      "       0.75925926, 0.75925926, 0.75925926, 0.75925926, 0.75925926,\n",
      "       0.75925926, 0.75925926, 0.75925926, 0.75925926, 0.75925926,\n",
      "       0.75925926, 0.75925926, 0.75925926, 0.75925926, 0.75925926,\n",
      "       0.75925926, 0.75925926, 0.75925926, 0.77777778, 0.77777778,\n",
      "       0.77777778, 0.77777778, 0.77777778, 0.77777778, 0.77777778,\n",
      "       0.77777778, 0.77777778, 0.77777778, 0.77777778, 0.77777778]), 'split3_test_score': array([0.68518519, 0.57407407, 0.68518519, 0.57407407, 0.68518519,\n",
      "       0.57407407, 0.68518519, 0.57407407, 0.68518519, 0.57407407,\n",
      "       0.68518519, 0.57407407, 0.7037037 , 0.57407407, 0.7037037 ,\n",
      "       0.57407407, 0.7037037 , 0.57407407, 0.7037037 , 0.57407407,\n",
      "       0.7037037 , 0.57407407, 0.7037037 , 0.57407407, 0.7037037 ,\n",
      "       0.57407407, 0.7037037 , 0.57407407, 0.7037037 , 0.57407407,\n",
      "       0.7037037 , 0.57407407, 0.7037037 , 0.57407407, 0.7037037 ,\n",
      "       0.57407407, 0.7037037 , 0.57407407, 0.7037037 , 0.57407407,\n",
      "       0.7037037 , 0.57407407, 0.7037037 , 0.57407407, 0.7037037 ,\n",
      "       0.57407407, 0.7037037 , 0.57407407, 0.68518519, 0.61111111,\n",
      "       0.68518519, 0.61111111, 0.68518519, 0.61111111, 0.68518519,\n",
      "       0.61111111, 0.68518519, 0.61111111, 0.68518519, 0.61111111]), 'split4_test_score': array([0.79245283, 0.71698113, 0.79245283, 0.71698113, 0.79245283,\n",
      "       0.71698113, 0.79245283, 0.71698113, 0.79245283, 0.71698113,\n",
      "       0.79245283, 0.71698113, 0.8490566 , 0.75471698, 0.8490566 ,\n",
      "       0.75471698, 0.8490566 , 0.75471698, 0.8490566 , 0.75471698,\n",
      "       0.8490566 , 0.75471698, 0.8490566 , 0.75471698, 0.90566038,\n",
      "       0.75471698, 0.90566038, 0.75471698, 0.90566038, 0.75471698,\n",
      "       0.90566038, 0.75471698, 0.90566038, 0.75471698, 0.90566038,\n",
      "       0.75471698, 0.90566038, 0.73584906, 0.90566038, 0.73584906,\n",
      "       0.90566038, 0.73584906, 0.90566038, 0.73584906, 0.90566038,\n",
      "       0.73584906, 0.90566038, 0.73584906, 0.90566038, 0.75471698,\n",
      "       0.90566038, 0.75471698, 0.90566038, 0.75471698, 0.90566038,\n",
      "       0.75471698, 0.90566038, 0.75471698, 0.90566038, 0.75471698]), 'split5_test_score': array([0.71698113, 0.66037736, 0.71698113, 0.66037736, 0.71698113,\n",
      "       0.66037736, 0.71698113, 0.66037736, 0.71698113, 0.66037736,\n",
      "       0.71698113, 0.66037736, 0.73584906, 0.66037736, 0.73584906,\n",
      "       0.66037736, 0.73584906, 0.66037736, 0.73584906, 0.66037736,\n",
      "       0.73584906, 0.66037736, 0.73584906, 0.66037736, 0.75471698,\n",
      "       0.66037736, 0.75471698, 0.66037736, 0.75471698, 0.66037736,\n",
      "       0.75471698, 0.66037736, 0.75471698, 0.66037736, 0.75471698,\n",
      "       0.66037736, 0.75471698, 0.66037736, 0.75471698, 0.66037736,\n",
      "       0.75471698, 0.66037736, 0.75471698, 0.66037736, 0.75471698,\n",
      "       0.66037736, 0.75471698, 0.66037736, 0.75471698, 0.66037736,\n",
      "       0.75471698, 0.66037736, 0.75471698, 0.66037736, 0.75471698,\n",
      "       0.66037736, 0.75471698, 0.66037736, 0.75471698, 0.66037736]), 'split6_test_score': array([0.69811321, 0.67924528, 0.69811321, 0.67924528, 0.69811321,\n",
      "       0.67924528, 0.69811321, 0.67924528, 0.69811321, 0.67924528,\n",
      "       0.69811321, 0.67924528, 0.71698113, 0.66037736, 0.71698113,\n",
      "       0.66037736, 0.71698113, 0.66037736, 0.71698113, 0.66037736,\n",
      "       0.71698113, 0.66037736, 0.71698113, 0.66037736, 0.75471698,\n",
      "       0.66037736, 0.75471698, 0.66037736, 0.75471698, 0.66037736,\n",
      "       0.75471698, 0.66037736, 0.75471698, 0.66037736, 0.75471698,\n",
      "       0.66037736, 0.73584906, 0.66037736, 0.73584906, 0.66037736,\n",
      "       0.73584906, 0.66037736, 0.73584906, 0.66037736, 0.73584906,\n",
      "       0.66037736, 0.73584906, 0.66037736, 0.75471698, 0.64150943,\n",
      "       0.75471698, 0.64150943, 0.75471698, 0.64150943, 0.75471698,\n",
      "       0.64150943, 0.75471698, 0.64150943, 0.75471698, 0.64150943]), 'split7_test_score': array([0.71698113, 0.73584906, 0.71698113, 0.73584906, 0.71698113,\n",
      "       0.73584906, 0.71698113, 0.73584906, 0.71698113, 0.73584906,\n",
      "       0.71698113, 0.73584906, 0.79245283, 0.71698113, 0.79245283,\n",
      "       0.71698113, 0.79245283, 0.71698113, 0.79245283, 0.71698113,\n",
      "       0.79245283, 0.71698113, 0.79245283, 0.71698113, 0.81132075,\n",
      "       0.71698113, 0.81132075, 0.71698113, 0.81132075, 0.71698113,\n",
      "       0.81132075, 0.71698113, 0.81132075, 0.71698113, 0.81132075,\n",
      "       0.71698113, 0.83018868, 0.71698113, 0.83018868, 0.71698113,\n",
      "       0.83018868, 0.71698113, 0.83018868, 0.71698113, 0.83018868,\n",
      "       0.71698113, 0.83018868, 0.71698113, 0.8490566 , 0.69811321,\n",
      "       0.8490566 , 0.69811321, 0.8490566 , 0.69811321, 0.8490566 ,\n",
      "       0.69811321, 0.8490566 , 0.69811321, 0.8490566 , 0.69811321]), 'split8_test_score': array([0.67924528, 0.79245283, 0.67924528, 0.79245283, 0.67924528,\n",
      "       0.79245283, 0.67924528, 0.79245283, 0.67924528, 0.79245283,\n",
      "       0.67924528, 0.79245283, 0.86792453, 0.75471698, 0.86792453,\n",
      "       0.75471698, 0.86792453, 0.75471698, 0.86792453, 0.75471698,\n",
      "       0.86792453, 0.75471698, 0.86792453, 0.75471698, 0.83018868,\n",
      "       0.75471698, 0.83018868, 0.75471698, 0.83018868, 0.75471698,\n",
      "       0.83018868, 0.75471698, 0.83018868, 0.75471698, 0.83018868,\n",
      "       0.75471698, 0.83018868, 0.75471698, 0.83018868, 0.75471698,\n",
      "       0.83018868, 0.75471698, 0.83018868, 0.75471698, 0.83018868,\n",
      "       0.75471698, 0.83018868, 0.75471698, 0.83018868, 0.73584906,\n",
      "       0.83018868, 0.73584906, 0.83018868, 0.73584906, 0.83018868,\n",
      "       0.73584906, 0.83018868, 0.73584906, 0.83018868, 0.73584906]), 'split9_test_score': array([0.73584906, 0.71698113, 0.73584906, 0.71698113, 0.73584906,\n",
      "       0.71698113, 0.73584906, 0.71698113, 0.73584906, 0.71698113,\n",
      "       0.73584906, 0.71698113, 0.79245283, 0.69811321, 0.79245283,\n",
      "       0.69811321, 0.79245283, 0.69811321, 0.79245283, 0.69811321,\n",
      "       0.79245283, 0.69811321, 0.79245283, 0.69811321, 0.83018868,\n",
      "       0.69811321, 0.83018868, 0.69811321, 0.83018868, 0.69811321,\n",
      "       0.83018868, 0.69811321, 0.83018868, 0.69811321, 0.83018868,\n",
      "       0.69811321, 0.8490566 , 0.69811321, 0.8490566 , 0.69811321,\n",
      "       0.8490566 , 0.69811321, 0.8490566 , 0.69811321, 0.8490566 ,\n",
      "       0.69811321, 0.8490566 , 0.69811321, 0.8490566 , 0.67924528,\n",
      "       0.8490566 , 0.67924528, 0.8490566 , 0.67924528, 0.8490566 ,\n",
      "       0.67924528, 0.8490566 , 0.67924528, 0.8490566 , 0.67924528]), 'mean_test_score': array([0.71174004, 0.70055905, 0.71174004, 0.70055905, 0.71174004,\n",
      "       0.70055905, 0.71174004, 0.70055905, 0.71174004, 0.70055905,\n",
      "       0.71174004, 0.70055905, 0.77361985, 0.69860238, 0.77361985,\n",
      "       0.69860238, 0.77361985, 0.69860238, 0.77361985, 0.69860238,\n",
      "       0.77361985, 0.69860238, 0.77361985, 0.69860238, 0.78312369,\n",
      "       0.70045423, 0.78312369, 0.70045423, 0.78312369, 0.70045423,\n",
      "       0.78312369, 0.70045423, 0.78312369, 0.70045423, 0.78312369,\n",
      "       0.70045423, 0.78501048, 0.69856744, 0.78501048, 0.69856744,\n",
      "       0.78501048, 0.69856744, 0.78501048, 0.69856744, 0.78501048,\n",
      "       0.69856744, 0.78501048, 0.69856744, 0.79063592, 0.69661076,\n",
      "       0.79063592, 0.69661076, 0.79063592, 0.69661076, 0.79063592,\n",
      "       0.69661076, 0.79063592, 0.69661076, 0.79063592, 0.69661076]), 'std_test_score': array([0.0315148 , 0.05912565, 0.0315148 , 0.05912565, 0.0315148 ,\n",
      "       0.05912565, 0.0315148 , 0.05912565, 0.0315148 , 0.05912565,\n",
      "       0.0315148 , 0.05912565, 0.06833518, 0.05366248, 0.06833518,\n",
      "       0.05366248, 0.06833518, 0.05366248, 0.06833518, 0.05366248,\n",
      "       0.06833518, 0.05366248, 0.06833518, 0.05366248, 0.07550858,\n",
      "       0.05412412, 0.07550858, 0.05412412, 0.07550858, 0.05412412,\n",
      "       0.07550858, 0.05412412, 0.07550858, 0.05412412, 0.07550858,\n",
      "       0.05412412, 0.07376673, 0.05379469, 0.07376673, 0.05379469,\n",
      "       0.07376673, 0.05379469, 0.07376673, 0.05379469, 0.07376673,\n",
      "       0.05379469, 0.07376673, 0.05379469, 0.06869571, 0.04924792,\n",
      "       0.06869571, 0.04924792, 0.06869571, 0.04924792, 0.06869571,\n",
      "       0.04924792, 0.06869571, 0.04924792, 0.06869571, 0.04924792]), 'rank_test_score': array([25, 31, 25, 31, 25, 31, 25, 31, 25, 31, 25, 31, 19, 43, 19, 43, 19,\n",
      "       43, 19, 43, 19, 43, 19, 43, 13, 37, 13, 37, 13, 37, 13, 37, 13, 37,\n",
      "       13, 37,  7, 49,  7, 49,  7, 49,  7, 49,  7, 49,  7, 49,  1, 55,  1,\n",
      "       55,  1, 55,  1, 55,  1, 55,  1, 55])}\n",
      "BEST SCORE 0.7906359189378057\n",
      "BEST PARAM {'C': 100, 'degree': 0, 'gamma': 0.001}\n",
      "Time to run 5.47060010000132 seconds\n"
     ]
    },
    {
     "name": "stderr",
     "output_type": "stream",
     "text": [
      "C:\\Users\\Modeling\\anaconda3\\lib\\site-packages\\ipykernel_launcher.py:12: DeprecationWarning: time.clock has been deprecated in Python 3.3 and will be removed from Python 3.8: use time.perf_counter or time.process_time instead\n",
      "  if sys.path[0] == '':\n"
     ]
    }
   ],
   "source": [
    "# using grid search to find appropropriate cost function and gamma\n",
    "start_time = time.clock()\n",
    "\n",
    "parameters = {'C': [10, 20, 25, 30, 100], 'gamma': [0.001, 0.1], \n",
    "              'degree': [0,1,2,3,4,5]}\n",
    "svr = SVC(kernel='rbf')\n",
    "grid_svm = GridSearchCV(svm_rbf1, parameters, cv=10)\n",
    "grid_svm.fit(features_train, target_train)\n",
    "print(\"SCORES\", grid_svm.cv_results_)\n",
    "print(\"BEST SCORE\", grid_svm.best_score_)\n",
    "print(\"BEST PARAM\", grid_svm.best_params_)\n",
    "print(\"Time to run\", time.clock() - start_time, \"seconds\")"
   ]
  },
  {
   "cell_type": "code",
   "execution_count": 177,
   "metadata": {},
   "outputs": [
    {
     "name": "stdout",
     "output_type": "stream",
     "text": [
      "Cross Validation Score for each K [0.68518519 0.83333333 0.77777778 0.7037037  0.88679245 0.75471698\n",
      " 0.75471698 0.83018868 0.83018868 0.83018868]\n",
      "Cross Validation mean score:  0.7886792452830188\n",
      "              precision    recall  f1-score   support\n",
      "\n",
      "           0       0.82      0.82      0.82       221\n",
      "           1       0.70      0.70      0.70       136\n",
      "\n",
      "    accuracy                           0.77       357\n",
      "   macro avg       0.76      0.76      0.76       357\n",
      "weighted avg       0.77      0.77      0.77       357\n",
      "\n",
      "[[181  40]\n",
      " [ 41  95]]\n",
      "0.773109243697479\n",
      "Time to run 130.6817471000013 seconds\n"
     ]
    },
    {
     "name": "stderr",
     "output_type": "stream",
     "text": [
      "C:\\Users\\Modeling\\anaconda3\\lib\\site-packages\\ipykernel_launcher.py:16: DeprecationWarning: time.clock has been deprecated in Python 3.3 and will be removed from Python 3.8: use time.perf_counter or time.process_time instead\n",
      "  app.launch_new_instance()\n"
     ]
    }
   ],
   "source": [
    "# Gridsearch suggest c=100, gamma = .001, degree =0\n",
    "svm_rbf2 = SVC(kernel='rbf', C=100, degree=0, class_weight='balanced', gamma=0.001)\n",
    "svm_rbf2.fit(features_train, target_train)\n",
    "predicted_rbf2=svm_rbf2.predict(features_test)\n",
    "expected = target_test\n",
    "\n",
    "# cross validate and confusion matrix SVC RBF model 2\n",
    "svm_rbf2_CV_scores = cross_val_score(svm_rbf2, features_train, target_train, cv=10,scoring='accuracy')\n",
    "print('Cross Validation Score for each K', svm_rbf2_CV_scores)\n",
    "print('Cross Validation mean score: ', svm_rbf2_CV_scores.mean())\n",
    "\n",
    "target_names_rbf2 = [\"0\", \"1\"]\n",
    "print(classification_report(expected, predicted_rbf2,target_names=target_names_rbf2))\n",
    "print(confusion_matrix(expected, predicted_rbf2))\n",
    "print(accuracy_score(expected,predicted_rbf2))\n",
    "print(\"Time to run\", time.clock() - start_time, \"seconds\")"
   ]
  },
  {
   "cell_type": "code",
   "execution_count": null,
   "metadata": {},
   "outputs": [],
   "source": [
    "# After using gridsearch to find gamma, cost function, and degree,\n",
    "# we were able to increase our accuracy significantly to 77%."
   ]
  },
  {
   "cell_type": "code",
   "execution_count": null,
   "metadata": {},
   "outputs": [],
   "source": [
    "## Artificial Neural Networks / Stochastic Gradient Descent "
   ]
  },
  {
   "cell_type": "code",
   "execution_count": 179,
   "metadata": {},
   "outputs": [],
   "source": [
    "from sklearn.neural_network import MLPClassifier"
   ]
  },
  {
   "cell_type": "code",
   "execution_count": 100,
   "metadata": {},
   "outputs": [
    {
     "name": "stderr",
     "output_type": "stream",
     "text": [
      "C:\\Users\\Modeling\\anaconda3\\lib\\site-packages\\sklearn\\neural_network\\_multilayer_perceptron.py:571: ConvergenceWarning: Stochastic Optimizer: Maximum iterations (200) reached and the optimization hasn't converged yet.\n",
      "  % self.max_iter, ConvergenceWarning)\n"
     ]
    },
    {
     "data": {
      "text/plain": [
       "MLPClassifier(activation='relu', alpha=0.0001, batch_size='auto', beta_1=0.9,\n",
       "              beta_2=0.999, early_stopping=False, epsilon=1e-08,\n",
       "              hidden_layer_sizes=(7, 7, 7), learning_rate='constant',\n",
       "              learning_rate_init=0.001, max_fun=15000, max_iter=200,\n",
       "              momentum=0.9, n_iter_no_change=10, nesterovs_momentum=True,\n",
       "              power_t=0.5, random_state=None, shuffle=True, solver='adam',\n",
       "              tol=0.0001, validation_fraction=0.1, verbose=False,\n",
       "              warm_start=False)"
      ]
     },
     "execution_count": 100,
     "metadata": {},
     "output_type": "execute_result"
    }
   ],
   "source": [
    "mlp = MLPClassifier(hidden_layer_sizes=(7,7,7))\n",
    "mlp.fit(features_train,target_train)"
   ]
  },
  {
   "cell_type": "code",
   "execution_count": 101,
   "metadata": {},
   "outputs": [
    {
     "name": "stdout",
     "output_type": "stream",
     "text": [
      "[[186  35]\n",
      " [ 60  76]]\n",
      "              precision    recall  f1-score   support\n",
      "\n",
      "           0       0.76      0.84      0.80       221\n",
      "           1       0.68      0.56      0.62       136\n",
      "\n",
      "    accuracy                           0.73       357\n",
      "   macro avg       0.72      0.70      0.71       357\n",
      "weighted avg       0.73      0.73      0.73       357\n",
      "\n"
     ]
    }
   ],
   "source": [
    "predictions = mlp.predict(features_test)\n",
    "print(confusion_matrix(target_test,predictions))\n",
    "print(classification_report(target_test,predictions))"
   ]
  },
  {
   "cell_type": "code",
   "execution_count": null,
   "metadata": {},
   "outputs": [],
   "source": [
    "# with defaults(relu,adam) this Ann model employing a stochastic gradient decsent solver (adam) returns an accuracy of 73% when containing\n",
    "# 7 neurons (n-1 features) at 3 levels. We will continue to adjust the number of neurons and layers to increase accuracy."
   ]
  },
  {
   "cell_type": "code",
   "execution_count": 102,
   "metadata": {},
   "outputs": [
    {
     "name": "stdout",
     "output_type": "stream",
     "text": [
      "[[187  34]\n",
      " [ 67  69]]\n",
      "              precision    recall  f1-score   support\n",
      "\n",
      "           0       0.74      0.85      0.79       221\n",
      "           1       0.67      0.51      0.58       136\n",
      "\n",
      "    accuracy                           0.72       357\n",
      "   macro avg       0.70      0.68      0.68       357\n",
      "weighted avg       0.71      0.72      0.71       357\n",
      "\n"
     ]
    },
    {
     "name": "stderr",
     "output_type": "stream",
     "text": [
      "C:\\Users\\Modeling\\anaconda3\\lib\\site-packages\\sklearn\\neural_network\\_multilayer_perceptron.py:571: ConvergenceWarning: Stochastic Optimizer: Maximum iterations (200) reached and the optimization hasn't converged yet.\n",
      "  % self.max_iter, ConvergenceWarning)\n"
     ]
    }
   ],
   "source": [
    "# 2 layers, 7 nodes, defaults\n",
    "mlp = MLPClassifier(hidden_layer_sizes=(7,7))\n",
    "mlp.fit(features_train,target_train)\n",
    "predictions = mlp.predict(features_test)\n",
    "print(confusion_matrix(target_test,predictions))\n",
    "print(classification_report(target_test,predictions))"
   ]
  },
  {
   "cell_type": "code",
   "execution_count": null,
   "metadata": {},
   "outputs": [],
   "source": [
    "# decreasing the number of layers resulted in a decrease of accuracy when compared\n",
    "# to default"
   ]
  },
  {
   "cell_type": "code",
   "execution_count": 103,
   "metadata": {},
   "outputs": [
    {
     "name": "stdout",
     "output_type": "stream",
     "text": [
      "[[189  32]\n",
      " [ 41  95]]\n",
      "              precision    recall  f1-score   support\n",
      "\n",
      "           0       0.82      0.86      0.84       221\n",
      "           1       0.75      0.70      0.72       136\n",
      "\n",
      "    accuracy                           0.80       357\n",
      "   macro avg       0.78      0.78      0.78       357\n",
      "weighted avg       0.79      0.80      0.79       357\n",
      "\n"
     ]
    },
    {
     "name": "stderr",
     "output_type": "stream",
     "text": [
      "C:\\Users\\Modeling\\anaconda3\\lib\\site-packages\\sklearn\\neural_network\\_multilayer_perceptron.py:571: ConvergenceWarning: Stochastic Optimizer: Maximum iterations (200) reached and the optimization hasn't converged yet.\n",
      "  % self.max_iter, ConvergenceWarning)\n"
     ]
    }
   ],
   "source": [
    "# 3 layers, 8 nodes, defaults\n",
    "mlp = MLPClassifier(hidden_layer_sizes=(8,8,8))\n",
    "mlp.fit(features_train,target_train)\n",
    "predictions = mlp.predict(features_test)\n",
    "print(confusion_matrix(target_test,predictions))\n",
    "print(classification_report(target_test,predictions))"
   ]
  },
  {
   "cell_type": "code",
   "execution_count": null,
   "metadata": {},
   "outputs": [],
   "source": [
    "#increasing nodes and layers resulted in an increased accuracy."
   ]
  },
  {
   "cell_type": "code",
   "execution_count": 262,
   "metadata": {},
   "outputs": [
    {
     "name": "stdout",
     "output_type": "stream",
     "text": [
      "[[191  30]\n",
      " [ 43  93]]\n",
      "              precision    recall  f1-score   support\n",
      "\n",
      "           0       0.82      0.86      0.84       221\n",
      "           1       0.76      0.68      0.72       136\n",
      "\n",
      "    accuracy                           0.80       357\n",
      "   macro avg       0.79      0.77      0.78       357\n",
      "weighted avg       0.79      0.80      0.79       357\n",
      "\n"
     ]
    },
    {
     "name": "stderr",
     "output_type": "stream",
     "text": [
      "C:\\Users\\Modeling\\anaconda3\\lib\\site-packages\\sklearn\\neural_network\\_multilayer_perceptron.py:571: ConvergenceWarning: Stochastic Optimizer: Maximum iterations (200) reached and the optimization hasn't converged yet.\n",
      "  % self.max_iter, ConvergenceWarning)\n"
     ]
    }
   ],
   "source": [
    "# 3 layers, 10 nodes, defaults\n",
    "mlp3 = MLPClassifier(hidden_layer_sizes=(10,10,10))\n",
    "mlp.fit(features_train,target_train)\n",
    "predictions = mlp.predict(features_test)\n",
    "print(confusion_matrix(target_test,predictions))\n",
    "print(classification_report(target_test,predictions))"
   ]
  },
  {
   "cell_type": "code",
   "execution_count": 192,
   "metadata": {},
   "outputs": [],
   "source": [
    "# continued increasing of node sizes results in increased accuracy"
   ]
  },
  {
   "cell_type": "code",
   "execution_count": 198,
   "metadata": {},
   "outputs": [
    {
     "name": "stdout",
     "output_type": "stream",
     "text": [
      "[[181  40]\n",
      " [ 34 102]]\n",
      "              precision    recall  f1-score   support\n",
      "\n",
      "           0       0.84      0.82      0.83       221\n",
      "           1       0.72      0.75      0.73       136\n",
      "\n",
      "    accuracy                           0.79       357\n",
      "   macro avg       0.78      0.78      0.78       357\n",
      "weighted avg       0.79      0.79      0.79       357\n",
      "\n"
     ]
    },
    {
     "name": "stderr",
     "output_type": "stream",
     "text": [
      "C:\\Users\\Modeling\\anaconda3\\lib\\site-packages\\sklearn\\neural_network\\_multilayer_perceptron.py:571: ConvergenceWarning: Stochastic Optimizer: Maximum iterations (200) reached and the optimization hasn't converged yet.\n",
      "  % self.max_iter, ConvergenceWarning)\n"
     ]
    }
   ],
   "source": [
    "# 3 layers, 20 nodes, defaults\n",
    "mlp = MLPClassifier(hidden_layer_sizes=(20,20,20))\n",
    "mlp.fit(features_train,target_train)\n",
    "predictions = mlp.predict(features_test)\n",
    "print(confusion_matrix(target_test,predictions))\n",
    "print(classification_report(target_test,predictions))"
   ]
  },
  {
   "cell_type": "code",
   "execution_count": null,
   "metadata": {},
   "outputs": [],
   "source": [
    "# I ran five total ANN models. The first default returned a 73% accuracy\n",
    "# and consisted of 3 layers of 7 nodes.\n",
    "# After finding that increasing node sizes and number of layers increased accuracy,\n",
    "# we found the model plateaued after 10 nodes of 3 layers, resulting in an accuracy\n",
    "# of ~ 80%. Our preffered ANN model consists of 10 nodes at 3 layers."
   ]
  },
  {
   "cell_type": "code",
   "execution_count": null,
   "metadata": {},
   "outputs": [],
   "source": [
    "## Bagging"
   ]
  },
  {
   "cell_type": "code",
   "execution_count": 201,
   "metadata": {},
   "outputs": [
    {
     "name": "stdout",
     "output_type": "stream",
     "text": [
      "BaggingClassifier(base_estimator=None, bootstrap=True, bootstrap_features=False,\n",
      "                  max_features=1.0, max_samples=1.0, n_estimators=10,\n",
      "                  n_jobs=None, oob_score=False, random_state=None, verbose=0,\n",
      "                  warm_start=False)\n",
      "Cross Validation Score for each K [0.75925926 0.83333333 0.81481481 0.74074074 0.83018868 0.75471698\n",
      " 0.66037736 0.81132075 0.79245283 0.79245283]\n",
      "Cross Validation mean score:  0.7789657582110413\n",
      "Bagging Accuracy 0.7843137254901961\n",
      "              precision    recall  f1-score   support\n",
      "\n",
      "           0       0.80      0.87      0.83       221\n",
      "           1       0.75      0.65      0.70       136\n",
      "\n",
      "    accuracy                           0.78       357\n",
      "   macro avg       0.78      0.76      0.76       357\n",
      "weighted avg       0.78      0.78      0.78       357\n",
      "\n",
      "[[192  29]\n",
      " [ 48  88]]\n"
     ]
    }
   ],
   "source": [
    "# train, fit, test bagging 1 model - default\n",
    "from sklearn.ensemble import BaggingClassifier\n",
    "bag = BaggingClassifier()\n",
    "print(bag1)\n",
    "bag.fit(features_train, target_train)\n",
    "bag_predicted=bag.predict(features_test)\n",
    "expected = target_test\n",
    "\n",
    "# cross validation and confusion matrix of bagging model 1\n",
    "bag_CV_scores = cross_val_score(bag, features_train, target_train, cv=10,scoring='accuracy')\n",
    "print('Cross Validation Score for each K', bag_CV_scores)\n",
    "print('Cross Validation mean score: ', bag_CV_scores.mean()) \n",
    "\n",
    "print(\"Bagging Accuracy\", accuracy_score(expected,bag_predicted))\n",
    "print(classification_report(expected, bag_predicted,target_names=[\"0\", \"1\"]))\n",
    "print(confusion_matrix(expected, bag_predicted))"
   ]
  },
  {
   "cell_type": "code",
   "execution_count": null,
   "metadata": {},
   "outputs": [],
   "source": [
    "# The default bagging classifier resulted in an accuracy and test statistics \n",
    "# all equaling 78%. We will work to tune parameters to increase this accuracy."
   ]
  },
  {
   "cell_type": "code",
   "execution_count": 208,
   "metadata": {},
   "outputs": [
    {
     "name": "stdout",
     "output_type": "stream",
     "text": [
      "BaggingClassifier(base_estimator=None, bootstrap=True, bootstrap_features=False,\n",
      "                  max_features=1.0, max_samples=1.0, n_estimators=100,\n",
      "                  n_jobs=-1, oob_score=True, random_state=None, verbose=0,\n",
      "                  warm_start=False)\n",
      "Cross Validation Score for each K [0.75925926 0.85185185 0.87037037 0.75925926 0.79245283 0.75471698\n",
      " 0.73584906 0.81132075 0.75471698 0.79245283]\n",
      "Cross Validation mean score:  0.7882250174703005\n",
      "Bagging Accuracy 0.8011204481792717\n",
      "              precision    recall  f1-score   support\n",
      "\n",
      "           0       0.82      0.87      0.84       221\n",
      "           1       0.77      0.68      0.72       136\n",
      "\n",
      "    accuracy                           0.80       357\n",
      "   macro avg       0.79      0.78      0.78       357\n",
      "weighted avg       0.80      0.80      0.80       357\n",
      "\n",
      "[[193  28]\n",
      " [ 43  93]]\n"
     ]
    }
   ],
   "source": [
    "# 100 estimators, default\n",
    "clf_bag = BaggingClassifier(n_estimators=100,oob_score=True,n_jobs=-1)\n",
    "print(clf_bag)\n",
    "clf_bag.fit(features_train, target_train)\n",
    "predicted_bag=clf_bag.predict(features_test)\n",
    "expected = target_test\n",
    "\n",
    "# cross validation and confusion matrix of bagging model 2\n",
    "bag_CV_scores = cross_val_score(clf_bag, features_train, target_train, cv=10,scoring='accuracy')\n",
    "print('Cross Validation Score for each K', bag_CV_scores)\n",
    "print('Cross Validation mean score: ', bag_CV_scores.mean()) \n",
    "\n",
    "print(\"Bagging Accuracy\", accuracy_score(expected,predicted_bag))\n",
    "print(classification_report(expected, predicted_bag,target_names=[\"0\", \"1\"]))\n",
    "print(confusion_matrix(expected, predicted_bag))"
   ]
  },
  {
   "cell_type": "code",
   "execution_count": null,
   "metadata": {},
   "outputs": [],
   "source": [
    "# when adding 100 estimators, out of bag score - true, jobs =-1,\n",
    "# the accuracy increases to 80% across weighted average of all metrics. "
   ]
  },
  {
   "cell_type": "code",
   "execution_count": 211,
   "metadata": {},
   "outputs": [
    {
     "name": "stdout",
     "output_type": "stream",
     "text": [
      "BaggingClassifier(base_estimator=None, bootstrap=True, bootstrap_features=False,\n",
      "                  max_features=1.0, max_samples=1.0, n_estimators=1000,\n",
      "                  n_jobs=-1, oob_score=True, random_state=None, verbose=0,\n",
      "                  warm_start=False)\n",
      "Cross Validation Score for each K [0.74074074 0.85185185 0.85185185 0.75925926 0.79245283 0.79245283\n",
      " 0.71698113 0.81132075 0.75471698 0.81132075]\n",
      "Cross Validation mean score:  0.7882948986722571\n",
      "Bagging Accuracy 0.8011204481792717\n",
      "              precision    recall  f1-score   support\n",
      "\n",
      "           0       0.82      0.87      0.84       221\n",
      "           1       0.77      0.68      0.72       136\n",
      "\n",
      "    accuracy                           0.80       357\n",
      "   macro avg       0.79      0.78      0.78       357\n",
      "weighted avg       0.80      0.80      0.80       357\n",
      "\n",
      "[[193  28]\n",
      " [ 43  93]]\n"
     ]
    }
   ],
   "source": [
    "# 1000 estimators, oob score = true, n jobs = -1\n",
    "\n",
    "clf_bag3 = BaggingClassifier(n_estimators=1000,oob_score=True,n_jobs=-1)\n",
    "print(clf_bag3)\n",
    "clf_bag3.fit(features_train, target_train)\n",
    "predicted_bag=clf_bag3.predict(features_test)\n",
    "expected = target_test\n",
    "\n",
    "# cross validation and confusion matrix of bagging model 3\n",
    "bag_CV_scores3 = cross_val_score(clf_bag3, features_train, target_train, cv=10,scoring='accuracy')\n",
    "print('Cross Validation Score for each K', bag_CV_scores3)\n",
    "print('Cross Validation mean score: ', bag_CV_scores3.mean()) \n",
    "\n",
    "print(\"Bagging Accuracy\", accuracy_score(expected,predicted_bag))\n",
    "print(classification_report(expected, predicted_bag,target_names=[\"0\", \"1\"]))\n",
    "print(confusion_matrix(expected, predicted_bag))"
   ]
  },
  {
   "cell_type": "code",
   "execution_count": null,
   "metadata": {},
   "outputs": [],
   "source": [
    "# I ran three bagging classifiers on the data. The default retuned an accuracy of 78%\n",
    "# After adjusting the number of estimators, oob score = true, n_jobs =-1,\n",
    "# the model was able to increase accuracy and recall statistics. \n",
    "# We then increased the number of estimators to 1000. This only increased the\n",
    "# run time of the model, and did not result in an increased accuracy.\n",
    "# Our preffered bagging model consists of 100 estimators, n_jobs =-1, oobscore = true."
   ]
  },
  {
   "cell_type": "code",
   "execution_count": null,
   "metadata": {},
   "outputs": [],
   "source": [
    "## Gradient Boosting"
   ]
  },
  {
   "cell_type": "code",
   "execution_count": 213,
   "metadata": {},
   "outputs": [
    {
     "name": "stdout",
     "output_type": "stream",
     "text": [
      "GradientBoostingClassifier(ccp_alpha=0.0, criterion='friedman_mse', init=None,\n",
      "                           learning_rate=0.1, loss='deviance', max_depth=3,\n",
      "                           max_features=None, max_leaf_nodes=None,\n",
      "                           min_impurity_decrease=0.0, min_impurity_split=None,\n",
      "                           min_samples_leaf=1, min_samples_split=2,\n",
      "                           min_weight_fraction_leaf=0.0, n_estimators=100,\n",
      "                           n_iter_no_change=None, presort='deprecated',\n",
      "                           random_state=None, subsample=1.0, tol=0.0001,\n",
      "                           validation_fraction=0.1, verbose=0,\n",
      "                           warm_start=False)\n",
      "Cross Validation Score for each K [0.81481481 0.85185185 0.81481481 0.75925926 0.86792453 0.79245283\n",
      " 0.81132075 0.90566038 0.81132075 0.83018868]\n",
      "Cross Validation mean score:  0.8259608665269044\n",
      "Gradient Boost Accuracy 0.8095238095238095\n",
      "              precision    recall  f1-score   support\n",
      "\n",
      "           0       0.82      0.88      0.85       221\n",
      "           1       0.78      0.69      0.73       136\n",
      "\n",
      "    accuracy                           0.81       357\n",
      "   macro avg       0.80      0.79      0.79       357\n",
      "weighted avg       0.81      0.81      0.81       357\n",
      "\n",
      "[[195  26]\n",
      " [ 42  94]]\n"
     ]
    }
   ],
   "source": [
    "# default graident boosting\n",
    "from sklearn.ensemble import GradientBoostingClassifier\n",
    "gbc1 = GradientBoostingClassifier()\n",
    "print(GradientBoostingClassifier())\n",
    "gbc1.fit(features_train, target_train)\n",
    "gbc1_predicted = gbc1.predict(features_test)\n",
    "expected = target_test\n",
    "\n",
    "# cross validation and confusion matrix of gradient boosting model 1\n",
    "gbc1_CV_scores = cross_val_score(gbc1, features_train, target_train, cv=10,scoring='accuracy')\n",
    "print('Cross Validation Score for each K', gbc1_CV_scores)\n",
    "print('Cross Validation mean score: ', gbc1_CV_scores.mean())\n",
    "\n",
    "print(\"Gradient Boost Accuracy\", accuracy_score(expected,gbc1_predicted))\n",
    "print(classification_report(expected, gbc1_predicted,target_names=[\"0\", \"1\"]))\n",
    "print(confusion_matrix(expected, gbc1_predicted))\n"
   ]
  },
  {
   "cell_type": "code",
   "execution_count": null,
   "metadata": {},
   "outputs": [],
   "source": [
    "# Our default gradient boosting classifier returned an accuracy and \n",
    "# all recall statistics at 81%. We will work to turne hyperparameters in\n",
    "# search of increasing accuracy."
   ]
  },
  {
   "cell_type": "code",
   "execution_count": 214,
   "metadata": {},
   "outputs": [
    {
     "name": "stdout",
     "output_type": "stream",
     "text": [
      "Cross Validation Score for each K [0.7962963  0.87037037 0.83333333 0.77777778 0.90566038 0.81132075\n",
      " 0.79245283 0.81132075 0.81132075 0.8490566 ]\n",
      "Cross Validation mean score:  0.8258909853249475\n",
      "Gradient Boost Accuracy 0.7899159663865546\n",
      "              precision    recall  f1-score   support\n",
      "\n",
      "           0       0.81      0.86      0.84       221\n",
      "           1       0.75      0.67      0.71       136\n",
      "\n",
      "    accuracy                           0.79       357\n",
      "   macro avg       0.78      0.77      0.77       357\n",
      "weighted avg       0.79      0.79      0.79       357\n",
      "\n",
      "[[191  30]\n",
      " [ 45  91]]\n"
     ]
    }
   ],
   "source": [
    "# train, fit, test gradient boosting 2 model; estimators = 500\n",
    "gbc2 = GradientBoostingClassifier(n_estimators=500)\n",
    "gbc2.fit(features_train, target_train)\n",
    "gbc2_predicted = gbc2.predict(features_test)\n",
    "expected = target_test\n",
    "\n",
    "# cross validation and confusion matrix of gradient boosting model 2\n",
    "gbc2_CV_scores = cross_val_score(gbc2, features_train, target_train, cv=10,scoring='accuracy')\n",
    "print('Cross Validation Score for each K', gbc2_CV_scores)\n",
    "print('Cross Validation mean score: ', gbc2_CV_scores.mean())\n",
    "\n",
    "print(\"Gradient Boost Accuracy\", accuracy_score(expected,gbc2_predicted))\n",
    "print(classification_report(expected, gbc2_predicted,target_names=[\"0\", \"1\"]))\n",
    "print(confusion_matrix(expected, gbc2_predicted))"
   ]
  },
  {
   "cell_type": "code",
   "execution_count": 215,
   "metadata": {},
   "outputs": [
    {
     "name": "stdout",
     "output_type": "stream",
     "text": [
      "Cross Validation Score for each K [0.81481481 0.87037037 0.7962963  0.81481481 0.88679245 0.77358491\n",
      " 0.79245283 0.75471698 0.81132075 0.83018868]\n",
      "Cross Validation mean score:  0.8145352900069882\n",
      "Gradient Boost Accuracy 0.7927170868347339\n",
      "              precision    recall  f1-score   support\n",
      "\n",
      "           0       0.82      0.85      0.84       221\n",
      "           1       0.74      0.70      0.72       136\n",
      "\n",
      "    accuracy                           0.79       357\n",
      "   macro avg       0.78      0.77      0.78       357\n",
      "weighted avg       0.79      0.79      0.79       357\n",
      "\n",
      "[[188  33]\n",
      " [ 41  95]]\n"
     ]
    }
   ],
   "source": [
    "# train, fit, test gradient boosting 3 model; learing rate=.5, estimators = 500\n",
    "from sklearn.ensemble import GradientBoostingClassifier\n",
    "gbc3 = GradientBoostingClassifier(learning_rate=.5,n_estimators=500)\n",
    "gbc3.fit(features_train, target_train)\n",
    "gbc3_predicted = gbc3.predict(features_test)\n",
    "expected = target_test\n",
    "\n",
    "# cross validation and confusion matrix of gradient boosting model 3\n",
    "gbc3_CV_scores = cross_val_score(gbc3, features_train, target_train, cv=10,scoring='accuracy')\n",
    "print('Cross Validation Score for each K', gbc3_CV_scores)\n",
    "print('Cross Validation mean score: ', gbc3_CV_scores.mean())\n",
    "\n",
    "print(\"Gradient Boost Accuracy\", accuracy_score(expected,gbc3_predicted))\n",
    "print(classification_report(expected, gbc3_predicted,target_names=[\"0\", \"1\"]))\n",
    "print(confusion_matrix(expected, gbc3_predicted))"
   ]
  },
  {
   "cell_type": "code",
   "execution_count": null,
   "metadata": {},
   "outputs": [],
   "source": [
    "# After adding estimators and learning rate, we were not able to increase our accuracy\n",
    "# We will continute to adjust these in search of increasing accuracy"
   ]
  },
  {
   "cell_type": "code",
   "execution_count": 218,
   "metadata": {},
   "outputs": [
    {
     "name": "stdout",
     "output_type": "stream",
     "text": [
      "Cross Validation Score for each K [0.7962963  0.87037037 0.83333333 0.77777778 0.90566038 0.81132075\n",
      " 0.79245283 0.81132075 0.81132075 0.8490566 ]\n",
      "Cross Validation mean score:  0.8258909853249475\n",
      "Gradient Boost Accuracy 0.7927170868347339\n",
      "              precision    recall  f1-score   support\n",
      "\n",
      "           0       0.81      0.86      0.84       221\n",
      "           1       0.75      0.68      0.71       136\n",
      "\n",
      "    accuracy                           0.79       357\n",
      "   macro avg       0.78      0.77      0.78       357\n",
      "weighted avg       0.79      0.79      0.79       357\n",
      "\n",
      "[[191  30]\n",
      " [ 44  92]]\n"
     ]
    }
   ],
   "source": [
    "# train, fit, test gradient boosting 4 model; learing rate=.1, estimators = 500\n",
    "from sklearn.ensemble import GradientBoostingClassifier\n",
    "gbc4 = GradientBoostingClassifier(learning_rate=.1,n_estimators=500)\n",
    "gbc4.fit(features_train, target_train)\n",
    "gbc4_predicted = gbc4.predict(features_test)\n",
    "expected = target_test\n",
    "\n",
    "# cross validation and confusion matrix of gradient boosting model 3\n",
    "gbc4_CV_scores = cross_val_score(gbc4, features_train, target_train, cv=10,scoring='accuracy')\n",
    "print('Cross Validation Score for each K', gbc4_CV_scores)\n",
    "print('Cross Validation mean score: ', gbc4_CV_scores.mean())\n",
    "\n",
    "print(\"Gradient Boost Accuracy\", accuracy_score(expected,gbc4_predicted))\n",
    "print(classification_report(expected, gbc4_predicted,target_names=[\"0\", \"1\"]))\n",
    "print(confusion_matrix(expected, gbc4_predicted))"
   ]
  },
  {
   "cell_type": "code",
   "execution_count": 219,
   "metadata": {},
   "outputs": [
    {
     "name": "stdout",
     "output_type": "stream",
     "text": [
      "Cross Validation Score for each K [0.81481481 0.87037037 0.83333333 0.7962963  0.88679245 0.77358491\n",
      " 0.79245283 0.79245283 0.81132075 0.86792453]\n",
      "Cross Validation mean score:  0.8239343116701606\n",
      "Gradient Boost Accuracy 0.7983193277310925\n",
      "              precision    recall  f1-score   support\n",
      "\n",
      "           0       0.82      0.86      0.84       221\n",
      "           1       0.76      0.69      0.72       136\n",
      "\n",
      "    accuracy                           0.80       357\n",
      "   macro avg       0.79      0.78      0.78       357\n",
      "weighted avg       0.80      0.80      0.80       357\n",
      "\n",
      "[[191  30]\n",
      " [ 42  94]]\n"
     ]
    }
   ],
   "source": [
    "# train, fit, test gradient boosting 5 model; learing rate=.1, estimators = 1000\n",
    "from sklearn.ensemble import GradientBoostingClassifier\n",
    "gbc5 = GradientBoostingClassifier(learning_rate=.1,n_estimators=1000)\n",
    "gbc5.fit(features_train, target_train)\n",
    "gbc5_predicted = gbc5.predict(features_test)\n",
    "expected = target_test\n",
    "\n",
    "# cross validation and confusion matrix of gradient boosting model 3\n",
    "gbc5_CV_scores = cross_val_score(gbc5, features_train, target_train, cv=10,scoring='accuracy')\n",
    "print('Cross Validation Score for each K', gbc5_CV_scores)\n",
    "print('Cross Validation mean score: ', gbc5_CV_scores.mean())\n",
    "\n",
    "print(\"Gradient Boost Accuracy\", accuracy_score(expected,gbc5_predicted))\n",
    "print(classification_report(expected, gbc5_predicted,target_names=[\"0\", \"1\"]))\n",
    "print(confusion_matrix(expected, gbc5_predicted))"
   ]
  },
  {
   "cell_type": "code",
   "execution_count": null,
   "metadata": {},
   "outputs": [],
   "source": [
    "# I ran 5 gradient boosting models on the data. The default returned an accuracy of 81\n",
    "# and all recall statistics of 81% as well. We looked to adjust hyperparameters\n",
    "# in search of increasing accuracy.\n",
    "# After adjusting the learning rate and number of estimators, we were unable to increase our accuracy.\n",
    "# Our preffered Gradient Boosting Classifier was the deafult with max_features=1.0, max_samples=1.0, n_estimators=10,\n",
    "# n_jobs=None, oob_score=False, random_state=None, verbose=0"
   ]
  },
  {
   "cell_type": "code",
   "execution_count": null,
   "metadata": {},
   "outputs": [],
   "source": [
    "## Extra Trees"
   ]
  },
  {
   "cell_type": "code",
   "execution_count": 231,
   "metadata": {
    "scrolled": true
   },
   "outputs": [
    {
     "name": "stdout",
     "output_type": "stream",
     "text": [
      "Cross Validation Score for each K [0.74074074 0.81481481 0.81481481 0.7962963  0.86792453 0.67924528\n",
      " 0.69811321 0.83018868 0.75471698 0.83018868]\n",
      "Cross Validation mean score:  0.7827044025157233\n",
      "Gradient Boost Accuracy 0.7787114845938375\n",
      "              precision    recall  f1-score   support\n",
      "\n",
      "           0       0.81      0.83      0.82       221\n",
      "           1       0.72      0.69      0.70       136\n",
      "\n",
      "    accuracy                           0.78       357\n",
      "   macro avg       0.77      0.76      0.76       357\n",
      "weighted avg       0.78      0.78      0.78       357\n",
      "\n",
      "[[184  37]\n",
      " [ 42  94]]\n"
     ]
    }
   ],
   "source": [
    "# extra trees default\n",
    "from sklearn.ensemble import ExtraTreesClassifier\n",
    "xdt = ExtraTreesClassifier(n_estimators=100, criterion='gini', max_depth=None, \n",
    "                           min_samples_split=2, min_samples_leaf=1, \n",
    "                           min_weight_fraction_leaf=0.0, max_features='auto', \n",
    "                           max_leaf_nodes=None, min_impurity_decrease=0.0, \n",
    "                           min_impurity_split=None, bootstrap=False, oob_score=False,\n",
    "                           n_jobs=None, random_state=None, verbose=0, warm_start=False,\n",
    "                           class_weight=None, ccp_alpha=0.0, max_samples=None)\n",
    "xdt.fit(features_train, target_train)\n",
    "predicted_xdt=xdt.predict(features_test)\n",
    "expected = target_test\n",
    "\n",
    "# cross validation and confusion matrix of extra trees default\n",
    "xdt_CV_scores = cross_val_score(xdt, features_train, target_train, cv=10,scoring='accuracy')\n",
    "print('Cross Validation Score for each K', xdt_CV_scores)\n",
    "print('Cross Validation mean score: ', xdt_CV_scores.mean())\n",
    "\n",
    "print(\"Gradient Boost Accuracy\", accuracy_score(expected,predicted_xdt))\n",
    "print(classification_report(expected, predicted_xdt,target_names=[\"0\", \"1\"]))\n",
    "print(confusion_matrix(expected, predicted_xdt))\n",
    "\n",
    "\n",
    "\n"
   ]
  },
  {
   "cell_type": "code",
   "execution_count": null,
   "metadata": {},
   "outputs": [],
   "source": [
    "# The Extra Trees Classifier default returned an accuracy of 78%, along with recall\n",
    "# statistics equalling 78% as well. We will adjust the hyperparameters in\n",
    "# search of increasing accuracy and recall statistics."
   ]
  },
  {
   "cell_type": "code",
   "execution_count": 232,
   "metadata": {},
   "outputs": [
    {
     "name": "stdout",
     "output_type": "stream",
     "text": [
      "Cross Validation Score for each K [0.74074074 0.85185185 0.81481481 0.74074074 0.8490566  0.75471698\n",
      " 0.81132075 0.86792453 0.81132075 0.83018868]\n",
      "Cross Validation mean score:  0.807267645003494\n",
      "Gradient Boost Accuracy 0.7927170868347339\n",
      "              precision    recall  f1-score   support\n",
      "\n",
      "           0       0.82      0.85      0.84       221\n",
      "           1       0.74      0.70      0.72       136\n",
      "\n",
      "    accuracy                           0.79       357\n",
      "   macro avg       0.78      0.77      0.78       357\n",
      "weighted avg       0.79      0.79      0.79       357\n",
      "\n",
      "[[188  33]\n",
      " [ 41  95]]\n"
     ]
    }
   ],
   "source": [
    "# Extra trees model 2, max depth =5, weight = balanced\n",
    "xdt = ExtraTreesClassifier(max_depth=5,\n",
    "                         n_estimators=100,class_weight='balanced')\n",
    "xdt.fit(features_train, target_train)\n",
    "predicted_xdt=xdt.predict(features_test)\n",
    "expected = target_test\n",
    "\n",
    "# cross validation and confusion matrix of extra trees model 2\n",
    "xdt_CV_scores = cross_val_score(xdt, features_train, target_train, cv=10,scoring='accuracy')\n",
    "print('Cross Validation Score for each K', xdt_CV_scores)\n",
    "print('Cross Validation mean score: ', xdt_CV_scores.mean())\n",
    "\n",
    "print(\"Gradient Boost Accuracy\", accuracy_score(expected,predicted_xdt))\n",
    "print(classification_report(expected, predicted_xdt,target_names=[\"0\", \"1\"]))\n",
    "print(confusion_matrix(expected, predicted_xdt))\n",
    "\n"
   ]
  },
  {
   "cell_type": "code",
   "execution_count": 234,
   "metadata": {},
   "outputs": [
    {
     "name": "stdout",
     "output_type": "stream",
     "text": [
      "Cross Validation Score for each K [0.74074074 0.85185185 0.7962963  0.72222222 0.83018868 0.77358491\n",
      " 0.79245283 0.8490566  0.81132075 0.83018868]\n",
      "Cross Validation mean score:  0.7997903563941299\n",
      "Gradient Boost Accuracy 0.7871148459383753\n",
      "              precision    recall  f1-score   support\n",
      "\n",
      "           0       0.82      0.84      0.83       221\n",
      "           1       0.73      0.70      0.71       136\n",
      "\n",
      "    accuracy                           0.79       357\n",
      "   macro avg       0.78      0.77      0.77       357\n",
      "weighted avg       0.79      0.79      0.79       357\n",
      "\n",
      "[[186  35]\n",
      " [ 41  95]]\n"
     ]
    }
   ],
   "source": [
    "# Extra trees model 3, max depth =3, weight = balanced\n",
    "xdt = ExtraTreesClassifier(max_depth=3,\n",
    "                         n_estimators=100,class_weight='balanced')\n",
    "xdt.fit(features_train, target_train)\n",
    "predicted_xdt=xdt.predict(features_test)\n",
    "expected = target_test\n",
    "\n",
    "# cross validation and confusion matrix of extra trees model 3\n",
    "xdt_CV_scores = cross_val_score(xdt, features_train, target_train, cv=10,scoring='accuracy')\n",
    "print('Cross Validation Score for each K', xdt_CV_scores)\n",
    "print('Cross Validation mean score: ', xdt_CV_scores.mean())\n",
    "\n",
    "print(\"Gradient Boost Accuracy\", accuracy_score(expected,predicted_xdt))\n",
    "print(classification_report(expected, predicted_xdt,target_names=[\"0\", \"1\"]))\n",
    "print(confusion_matrix(expected, predicted_xdt))\n"
   ]
  },
  {
   "cell_type": "code",
   "execution_count": null,
   "metadata": {},
   "outputs": [],
   "source": [
    "# Decreasing the depth resulted in a decrease in accuracy."
   ]
  },
  {
   "cell_type": "code",
   "execution_count": 235,
   "metadata": {},
   "outputs": [
    {
     "name": "stdout",
     "output_type": "stream",
     "text": [
      "Cross Validation Score for each K [0.7037037  0.85185185 0.81481481 0.74074074 0.8490566  0.77358491\n",
      " 0.81132075 0.8490566  0.83018868 0.81132075]\n",
      "Cross Validation mean score:  0.8035639412997904\n",
      "Gradient Boost Accuracy 0.7899159663865546\n",
      "              precision    recall  f1-score   support\n",
      "\n",
      "           0       0.82      0.85      0.83       221\n",
      "           1       0.74      0.69      0.71       136\n",
      "\n",
      "    accuracy                           0.79       357\n",
      "   macro avg       0.78      0.77      0.77       357\n",
      "weighted avg       0.79      0.79      0.79       357\n",
      "\n",
      "[[188  33]\n",
      " [ 42  94]]\n"
     ]
    }
   ],
   "source": [
    "# Extra trees model 4, max depth =5, weight = balanced, estimators = 1000\n",
    "xdt = ExtraTreesClassifier(max_depth=5,\n",
    "                         n_estimators=1000,class_weight='balanced')\n",
    "xdt.fit(features_train, target_train)\n",
    "predicted_xdt=xdt.predict(features_test)\n",
    "expected = target_test\n",
    "\n",
    "# cross validation and confusion matrix of extra trees model 4\n",
    "xdt_CV_scores = cross_val_score(xdt, features_train, target_train, cv=10,scoring='accuracy')\n",
    "print('Cross Validation Score for each K', xdt_CV_scores)\n",
    "print('Cross Validation mean score: ', xdt_CV_scores.mean())\n",
    "\n",
    "print(\"Gradient Boost Accuracy\", accuracy_score(expected,predicted_xdt))\n",
    "print(classification_report(expected, predicted_xdt,target_names=[\"0\", \"1\"]))\n",
    "print(confusion_matrix(expected, predicted_xdt))"
   ]
  },
  {
   "cell_type": "code",
   "execution_count": 238,
   "metadata": {
    "scrolled": true
   },
   "outputs": [
    {
     "name": "stdout",
     "output_type": "stream",
     "text": [
      "Cross Validation Score for each K [0.74074074 0.85185185 0.81481481 0.75925926 0.86792453 0.75471698\n",
      " 0.77358491 0.8490566  0.77358491 0.8490566 ]\n",
      "Cross Validation mean score:  0.8034591194968552\n",
      "Gradient Boost Accuracy 0.8067226890756303\n",
      "              precision    recall  f1-score   support\n",
      "\n",
      "           0       0.84      0.85      0.84       221\n",
      "           1       0.75      0.74      0.74       136\n",
      "\n",
      "    accuracy                           0.81       357\n",
      "   macro avg       0.80      0.79      0.79       357\n",
      "weighted avg       0.81      0.81      0.81       357\n",
      "\n",
      "[[188  33]\n",
      " [ 36 100]]\n"
     ]
    }
   ],
   "source": [
    "# Extra trees model 5, max depth =10, weight = balanced, estimators = 500\n",
    "xdt = ExtraTreesClassifier(max_depth=10,\n",
    "                         n_estimators=100,class_weight='balanced')\n",
    "xdt.fit(features_train, target_train)\n",
    "predicted_xdt=xdt.predict(features_test)\n",
    "expected = target_test\n",
    "\n",
    "# cross validation and confusion matrix of extra trees model 5\n",
    "xdt_CV_scores = cross_val_score(xdt, features_train, target_train, cv=10,scoring='accuracy')\n",
    "print('Cross Validation Score for each K', xdt_CV_scores)\n",
    "print('Cross Validation mean score: ', xdt_CV_scores.mean())\n",
    "\n",
    "print(\"Gradient Boost Accuracy\", accuracy_score(expected,predicted_xdt))\n",
    "print(classification_report(expected, predicted_xdt,target_names=[\"0\", \"1\"]))\n",
    "print(confusion_matrix(expected, predicted_xdt))"
   ]
  },
  {
   "cell_type": "code",
   "execution_count": null,
   "metadata": {},
   "outputs": [],
   "source": [
    "# I ran five Extra Trees Classifier models on the data. \n",
    "# The default returned a 78% accuracy. We then tuned hyperparameters in search of increasing accuracy.\n",
    "# After increasing max depth, and decreasing estimators back to the default 100,\n",
    "# we were able to increase our accuracy and recall statistic to 81%."
   ]
  },
  {
   "cell_type": "code",
   "execution_count": null,
   "metadata": {},
   "outputs": [],
   "source": [
    "## Stacking "
   ]
  },
  {
   "cell_type": "code",
   "execution_count": 240,
   "metadata": {},
   "outputs": [],
   "source": [
    "from sklearn.ensemble import VotingClassifier"
   ]
  },
  {
   "cell_type": "code",
   "execution_count": 270,
   "metadata": {
    "scrolled": false
   },
   "outputs": [
    {
     "name": "stdout",
     "output_type": "stream",
     "text": [
      "Accuracy: 0.82 (+/- 0.03) [Adaboost Random Forest]\n"
     ]
    },
    {
     "name": "stderr",
     "output_type": "stream",
     "text": [
      "C:\\Users\\Modeling\\anaconda3\\lib\\site-packages\\sklearn\\svm\\_base.py:947: ConvergenceWarning: Liblinear failed to converge, increase the number of iterations.\n",
      "  \"the number of iterations.\", ConvergenceWarning)\n",
      "C:\\Users\\Modeling\\anaconda3\\lib\\site-packages\\sklearn\\svm\\_base.py:947: ConvergenceWarning: Liblinear failed to converge, increase the number of iterations.\n",
      "  \"the number of iterations.\", ConvergenceWarning)\n",
      "C:\\Users\\Modeling\\anaconda3\\lib\\site-packages\\sklearn\\svm\\_base.py:947: ConvergenceWarning: Liblinear failed to converge, increase the number of iterations.\n",
      "  \"the number of iterations.\", ConvergenceWarning)\n",
      "C:\\Users\\Modeling\\anaconda3\\lib\\site-packages\\sklearn\\svm\\_base.py:947: ConvergenceWarning: Liblinear failed to converge, increase the number of iterations.\n",
      "  \"the number of iterations.\", ConvergenceWarning)\n",
      "C:\\Users\\Modeling\\anaconda3\\lib\\site-packages\\sklearn\\svm\\_base.py:947: ConvergenceWarning: Liblinear failed to converge, increase the number of iterations.\n",
      "  \"the number of iterations.\", ConvergenceWarning)\n"
     ]
    },
    {
     "name": "stdout",
     "output_type": "stream",
     "text": [
      "Accuracy: 0.76 (+/- 0.07) [SVM]\n",
      "Accuracy: 0.81 (+/- 0.01) [AdaBoost Decision Tree]\n"
     ]
    },
    {
     "name": "stderr",
     "output_type": "stream",
     "text": [
      "C:\\Users\\Modeling\\anaconda3\\lib\\site-packages\\sklearn\\svm\\_base.py:947: ConvergenceWarning: Liblinear failed to converge, increase the number of iterations.\n",
      "  \"the number of iterations.\", ConvergenceWarning)\n",
      "C:\\Users\\Modeling\\anaconda3\\lib\\site-packages\\sklearn\\svm\\_base.py:947: ConvergenceWarning: Liblinear failed to converge, increase the number of iterations.\n",
      "  \"the number of iterations.\", ConvergenceWarning)\n",
      "C:\\Users\\Modeling\\anaconda3\\lib\\site-packages\\sklearn\\svm\\_base.py:947: ConvergenceWarning: Liblinear failed to converge, increase the number of iterations.\n",
      "  \"the number of iterations.\", ConvergenceWarning)\n",
      "C:\\Users\\Modeling\\anaconda3\\lib\\site-packages\\sklearn\\svm\\_base.py:947: ConvergenceWarning: Liblinear failed to converge, increase the number of iterations.\n",
      "  \"the number of iterations.\", ConvergenceWarning)\n",
      "C:\\Users\\Modeling\\anaconda3\\lib\\site-packages\\sklearn\\svm\\_base.py:947: ConvergenceWarning: Liblinear failed to converge, increase the number of iterations.\n",
      "  \"the number of iterations.\", ConvergenceWarning)\n"
     ]
    },
    {
     "name": "stdout",
     "output_type": "stream",
     "text": [
      "Accuracy: 0.82 (+/- 0.02) [Ensemble]\n",
      "Cross Validation Score for each K [0.81308411 0.79439252 0.79439252 0.8411215  0.83962264]\n",
      "Cross Validation mean score:  0.8165226591430083\n"
     ]
    }
   ],
   "source": [
    "# Stack 1, rf best, AdaboostDT, svm model 3\n",
    "clf1 = rfbest1\n",
    "clf2 = svm3 \n",
    "bdt = bdt\n",
    "\n",
    "eclf2 = VotingClassifier(estimators=[('rf', clf1), ('svr', clf2), ('bdt', bdt)], voting='hard') \n",
    "for MV, label in zip([clf1, clf2, bdt, eclf2], ['Adaboost Random Forest', 'SVM', 'AdaBoost Decision Tree', 'Ensemble']):\n",
    "\n",
    "    scores = cross_val_score(MV, features_train, target_train, cv=5, scoring='accuracy')\n",
    "    print(\"Accuracy: %0.2f (+/- %0.2f) [%s]\" % (scores.mean(), scores.std(), label))\n",
    "print('Cross Validation Score for each K', scores)\n",
    "print('Cross Validation mean score: ', scores.mean())"
   ]
  },
  {
   "cell_type": "code",
   "execution_count": null,
   "metadata": {},
   "outputs": [],
   "source": [
    "# When stacking our best Random Forest, Adaboosted Decison Tree, and best \n",
    "# SVM, model, the stack returns an accuracy of 82%. We will work to combine\n",
    "# different models and tune parameters in search of increasing accuracy."
   ]
  },
  {
   "cell_type": "code",
   "execution_count": 271,
   "metadata": {
    "scrolled": false
   },
   "outputs": [
    {
     "name": "stdout",
     "output_type": "stream",
     "text": [
      "Accuracy: 0.82 (+/- 0.04) [Adaboost Random Forest]\n"
     ]
    },
    {
     "name": "stderr",
     "output_type": "stream",
     "text": [
      "C:\\Users\\Modeling\\anaconda3\\lib\\site-packages\\sklearn\\svm\\_base.py:947: ConvergenceWarning: Liblinear failed to converge, increase the number of iterations.\n",
      "  \"the number of iterations.\", ConvergenceWarning)\n",
      "C:\\Users\\Modeling\\anaconda3\\lib\\site-packages\\sklearn\\svm\\_base.py:947: ConvergenceWarning: Liblinear failed to converge, increase the number of iterations.\n",
      "  \"the number of iterations.\", ConvergenceWarning)\n",
      "C:\\Users\\Modeling\\anaconda3\\lib\\site-packages\\sklearn\\svm\\_base.py:947: ConvergenceWarning: Liblinear failed to converge, increase the number of iterations.\n",
      "  \"the number of iterations.\", ConvergenceWarning)\n",
      "C:\\Users\\Modeling\\anaconda3\\lib\\site-packages\\sklearn\\svm\\_base.py:947: ConvergenceWarning: Liblinear failed to converge, increase the number of iterations.\n",
      "  \"the number of iterations.\", ConvergenceWarning)\n",
      "C:\\Users\\Modeling\\anaconda3\\lib\\site-packages\\sklearn\\svm\\_base.py:947: ConvergenceWarning: Liblinear failed to converge, increase the number of iterations.\n",
      "  \"the number of iterations.\", ConvergenceWarning)\n",
      "C:\\Users\\Modeling\\anaconda3\\lib\\site-packages\\sklearn\\svm\\_base.py:947: ConvergenceWarning: Liblinear failed to converge, increase the number of iterations.\n",
      "  \"the number of iterations.\", ConvergenceWarning)\n",
      "C:\\Users\\Modeling\\anaconda3\\lib\\site-packages\\sklearn\\svm\\_base.py:947: ConvergenceWarning: Liblinear failed to converge, increase the number of iterations.\n",
      "  \"the number of iterations.\", ConvergenceWarning)\n",
      "C:\\Users\\Modeling\\anaconda3\\lib\\site-packages\\sklearn\\svm\\_base.py:947: ConvergenceWarning: Liblinear failed to converge, increase the number of iterations.\n",
      "  \"the number of iterations.\", ConvergenceWarning)\n",
      "C:\\Users\\Modeling\\anaconda3\\lib\\site-packages\\sklearn\\svm\\_base.py:947: ConvergenceWarning: Liblinear failed to converge, increase the number of iterations.\n",
      "  \"the number of iterations.\", ConvergenceWarning)\n",
      "C:\\Users\\Modeling\\anaconda3\\lib\\site-packages\\sklearn\\svm\\_base.py:947: ConvergenceWarning: Liblinear failed to converge, increase the number of iterations.\n",
      "  \"the number of iterations.\", ConvergenceWarning)\n"
     ]
    },
    {
     "name": "stdout",
     "output_type": "stream",
     "text": [
      "Accuracy: 0.78 (+/- 0.03) [SVM]\n",
      "Accuracy: 0.81 (+/- 0.03) [AdaBoost Decision Tree]\n"
     ]
    },
    {
     "name": "stderr",
     "output_type": "stream",
     "text": [
      "C:\\Users\\Modeling\\anaconda3\\lib\\site-packages\\sklearn\\svm\\_base.py:947: ConvergenceWarning: Liblinear failed to converge, increase the number of iterations.\n",
      "  \"the number of iterations.\", ConvergenceWarning)\n",
      "C:\\Users\\Modeling\\anaconda3\\lib\\site-packages\\sklearn\\svm\\_base.py:947: ConvergenceWarning: Liblinear failed to converge, increase the number of iterations.\n",
      "  \"the number of iterations.\", ConvergenceWarning)\n",
      "C:\\Users\\Modeling\\anaconda3\\lib\\site-packages\\sklearn\\svm\\_base.py:947: ConvergenceWarning: Liblinear failed to converge, increase the number of iterations.\n",
      "  \"the number of iterations.\", ConvergenceWarning)\n",
      "C:\\Users\\Modeling\\anaconda3\\lib\\site-packages\\sklearn\\svm\\_base.py:947: ConvergenceWarning: Liblinear failed to converge, increase the number of iterations.\n",
      "  \"the number of iterations.\", ConvergenceWarning)\n",
      "C:\\Users\\Modeling\\anaconda3\\lib\\site-packages\\sklearn\\svm\\_base.py:947: ConvergenceWarning: Liblinear failed to converge, increase the number of iterations.\n",
      "  \"the number of iterations.\", ConvergenceWarning)\n",
      "C:\\Users\\Modeling\\anaconda3\\lib\\site-packages\\sklearn\\svm\\_base.py:947: ConvergenceWarning: Liblinear failed to converge, increase the number of iterations.\n",
      "  \"the number of iterations.\", ConvergenceWarning)\n",
      "C:\\Users\\Modeling\\anaconda3\\lib\\site-packages\\sklearn\\svm\\_base.py:947: ConvergenceWarning: Liblinear failed to converge, increase the number of iterations.\n",
      "  \"the number of iterations.\", ConvergenceWarning)\n",
      "C:\\Users\\Modeling\\anaconda3\\lib\\site-packages\\sklearn\\svm\\_base.py:947: ConvergenceWarning: Liblinear failed to converge, increase the number of iterations.\n",
      "  \"the number of iterations.\", ConvergenceWarning)\n",
      "C:\\Users\\Modeling\\anaconda3\\lib\\site-packages\\sklearn\\svm\\_base.py:947: ConvergenceWarning: Liblinear failed to converge, increase the number of iterations.\n",
      "  \"the number of iterations.\", ConvergenceWarning)\n",
      "C:\\Users\\Modeling\\anaconda3\\lib\\site-packages\\sklearn\\svm\\_base.py:947: ConvergenceWarning: Liblinear failed to converge, increase the number of iterations.\n",
      "  \"the number of iterations.\", ConvergenceWarning)\n"
     ]
    },
    {
     "name": "stdout",
     "output_type": "stream",
     "text": [
      "Accuracy: 0.82 (+/- 0.04) [Ensemble]\n",
      "Cross Validation Score for each K [0.77777778 0.83333333 0.81481481 0.75925926 0.8490566  0.79245283\n",
      " 0.77358491 0.86792453 0.8490566  0.8490566 ]\n",
      "Cross Validation mean score:  0.8166317260656883\n"
     ]
    }
   ],
   "source": [
    "# Stack 2, rf best, AdaboostDT, svm model 3, CV = 10\n",
    "clf1 = rfbest1\n",
    "clf2 = svm3 \n",
    "bdt = bdt\n",
    "\n",
    "eclf2 = VotingClassifier(estimators=[('rf', clf1), ('svr', clf2), ('bdt', bdt)], voting='hard') \n",
    "for MV, label in zip([clf1, clf2, bdt, eclf2], ['Adaboost Random Forest', 'SVM', 'AdaBoost Decision Tree', 'Ensemble']):\n",
    "\n",
    "    scores2 = cross_val_score(MV, features_train, target_train, cv=10, scoring='accuracy')\n",
    "    print(\"Accuracy: %0.2f (+/- %0.2f) [%s]\" % (scores2.mean(), scores2.std(), label))\n",
    "print('Cross Validation Score for each K', scores2)\n",
    "print('Cross Validation mean score: ', scores2.mean())"
   ]
  },
  {
   "cell_type": "code",
   "execution_count": null,
   "metadata": {},
   "outputs": [],
   "source": [
    "# # When stacking our best Random Forest, Adaboosted Decison Tree, and best \n",
    "# SVM, model, the stack returns an accuracy of 82%. We will work to combine\n",
    "# different models and tune parameters in search of increasing accuracy. We will continue to tune our stacks in search of increasing accuracy"
   ]
  },
  {
   "cell_type": "code",
   "execution_count": 276,
   "metadata": {
    "scrolled": true
   },
   "outputs": [
    {
     "name": "stdout",
     "output_type": "stream",
     "text": [
      "Accuracy: 0.82 (+/- 0.02) [Random Forest Best]\n",
      "Accuracy: 0.79 (+/- 0.03) [DT Best]\n",
      "Accuracy: 0.83 (+/- 0.01) [AdaBoost Decision Tree]\n",
      "Accuracy: 0.82 (+/- 0.01) [Ensemble]\n",
      "Cross Validation Score for each K [0.8317757  0.81308411 0.80373832 0.8317757  0.82075472]\n",
      "Cross Validation mean score:  0.8202257097513665\n"
     ]
    }
   ],
   "source": [
    "# Stack 3, Random Forest Best, Decision Tree best, graident boosting, CV = 5\n",
    "clf1 = rfbest1\n",
    "clf2 = decision_tree_best \n",
    "gbc1 = gbc1 #gradient boosting\n",
    "\n",
    "eclf2 = VotingClassifier(estimators=[('rfbest', clf1), ('dtbest', clf2), ('gbc1', gbc1)], voting='hard') \n",
    "for MV, label in zip([clf1, clf2, gbc1, eclf2], ['Random Forest Best', 'DT Best', 'Gradient Boosting', 'Ensemble']):\n",
    "\n",
    "    scores3 = cross_val_score(MV, features_train, target_train, cv=5, scoring='accuracy')\n",
    "    print(\"Accuracy: %0.2f (+/- %0.2f) [%s]\" % (scores3.mean(), scores3.std(), label))\n",
    "print('Cross Validation Score for each K', scores3)\n",
    "print('Cross Validation mean score: ', scores3.mean())"
   ]
  },
  {
   "cell_type": "code",
   "execution_count": null,
   "metadata": {},
   "outputs": [],
   "source": [
    "# When stacking our best Random Forest, Adaboosted Decison Tree, and best \n",
    "# Gradient Boosting model, the stack returns an accuracy of 82%. We will work to combine\n",
    "# different models and tune parameters in search of increasing accuracy."
   ]
  },
  {
   "cell_type": "code",
   "execution_count": 281,
   "metadata": {
    "scrolled": true
   },
   "outputs": [
    {
     "name": "stdout",
     "output_type": "stream",
     "text": [
      "Accuracy: 0.82 (+/- 0.05) [Random Forest Best]\n",
      "Accuracy: 0.82 (+/- 0.03) [DT Best]\n",
      "Accuracy: 0.83 (+/- 0.04) [AdaBoost Decision Tree]\n",
      "Accuracy: 0.83 (+/- 0.04) [Ensemble]\n",
      "Cross Validation Score for each K [0.83333333 0.87037037 0.83333333 0.75925926 0.86792453 0.77358491\n",
      " 0.79245283 0.86792453 0.83018868 0.83018868]\n",
      "Cross Validation mean score:  0.8258560447239691\n"
     ]
    }
   ],
   "source": [
    "# Stack 4, Random Forest Best, Decision Tree best, graident boosting, CV = 10\n",
    "clf1 = rfbest\n",
    "clf2 = decision_tree_best \n",
    "gbc1 = gbc1 #gradient boosting\n",
    "\n",
    "eclf4 = VotingClassifier(estimators=[('rfbest', clf1), ('dtbest', clf2), ('gbc1', gbc1)], voting='hard') \n",
    "for MV, label in zip([clf1, clf2, gbc1, eclf2], ['Random Forest Best', 'DT Best', 'AdaBoost Decision Tree', 'Ensemble']):\n",
    "\n",
    "    scores3 = cross_val_score(MV, features_train, target_train, cv=10, scoring='accuracy')\n",
    "    print(\"Accuracy: %0.2f (+/- %0.2f) [%s]\" % (scores3.mean(), scores3.std(), label))\n",
    "print('Cross Validation Score for each K', scores3)\n",
    "print('Cross Validation mean score: ', scores3.mean())"
   ]
  },
  {
   "cell_type": "code",
   "execution_count": null,
   "metadata": {},
   "outputs": [],
   "source": [
    "# After increasing the cross validation score, the stack returned a lesser accuracy\n",
    "# and higher variance. I ran a total of 4 models that consisted of a stack of\n",
    "# many different previous models. The first model consisted of Random Forest\n",
    "# Decision Tree, and SVM models. Individually, these models were the best of their kind.\n",
    "# Combined, they returned 82% accuracy. I then increased the cross validation score of the same\n",
    "# ensemble and it increased the accuracy to 83% however it also increased the variance.\n",
    "# For the third model, I combined the best decision tree, random forest, and gradient boosting\n",
    "# models. This returned an ensemble accuracy of 83%. I then tried to increase the cross \n",
    "# validation score in search of increasing accuracy in my 4th model. This resulted in a\n",
    "# decrease in accuracy, and an increase in variance. The stack number 4 is the preffered\n",
    "# model of all models created at an accuracy of 83%, .04% variance, composed of random forest,\n",
    "# decision tree, and Adaboosted Decision Tree. Ensemble model 3 is all around the best performer,\n",
    "# and I recommend that it be used when searching for the proper survival classification\n",
    "# of passengers on the Titanic."
   ]
  }
 ],
 "metadata": {
  "kernelspec": {
   "display_name": "Python 3",
   "language": "python",
   "name": "python3"
  },
  "language_info": {
   "codemirror_mode": {
    "name": "ipython",
    "version": 3
   },
   "file_extension": ".py",
   "mimetype": "text/x-python",
   "name": "python",
   "nbconvert_exporter": "python",
   "pygments_lexer": "ipython3",
   "version": "3.7.6"
  }
 },
 "nbformat": 4,
 "nbformat_minor": 4
}
